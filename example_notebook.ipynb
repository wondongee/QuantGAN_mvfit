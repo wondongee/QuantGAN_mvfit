{
 "cells": [
  {
   "cell_type": "code",
   "execution_count": 1,
   "metadata": {},
   "outputs": [],
   "source": [
    "import os\n",
    "import yaml\n",
    "import copy\n",
    "import pickle\n",
    "import ml_collections\n",
    "import wandb, signatory\n",
    "\n",
    "import numpy as np\n",
    "import pandas as pd\n",
    "import seaborn as sns\n",
    "import matplotlib.pyplot as plt\n",
    "from os import path as pt\n",
    "from tqdm import tqdm\n",
    "sns.set_style(\"darkgrid\")  # 원하는 스타일 선택\n",
    "\n",
    "import torch\n",
    "import torch.nn as nn\n",
    "from torch.utils.data import DataLoader, TensorDataset\n",
    "\n",
    "from src.utils import *\n",
    "#from src.evaluation.summary import full_evaluation"
   ]
  },
  {
   "cell_type": "code",
   "execution_count": 2,
   "metadata": {},
   "outputs": [],
   "source": [
    "# Load configuration dict\n",
    "config_dir = 'configs/config.yaml'\n",
    "with open(config_dir) as file:\n",
    "    config = ml_collections.ConfigDict(yaml.safe_load(file))\n",
    "\n",
    "if (config.device == \"cuda\" and torch.cuda.is_available()):\n",
    "    config.update({\"device\": \"cuda:1\"}, allow_val_change=True)\n",
    "    torch.cuda.set_device(0)\n",
    "else:\n",
    "    config.update({\"device\": \"cpu\"}, allow_val_change=True)\n",
    "\n",
    "set_seed(config.seed)"
   ]
  },
  {
   "cell_type": "markdown",
   "metadata": {},
   "source": [
    "### Data Preprocess"
   ]
  },
  {
   "cell_type": "code",
   "execution_count": 3,
   "metadata": {},
   "outputs": [
    {
     "name": "stdout",
     "output_type": "stream",
     "text": [
      "(5720, 6)\n"
     ]
    },
    {
     "name": "stderr",
     "output_type": "stream",
     "text": [
      "/workspace/Task_Generation/QuantGAN copy/src/preprocess/gaussianize.py:179: UserWarning: Warning: No convergence after 100 iterations. Increase max_iter.\n",
      "  warnings.warn(\"Warning: No convergence after %d iterations. Increase max_iter.\" % max_iter)\n",
      "/workspace/Task_Generation/QuantGAN copy/src/preprocess/gaussianize.py:179: UserWarning: Warning: No convergence after 100 iterations. Increase max_iter.\n",
      "  warnings.warn(\"Warning: No convergence after %d iterations. Increase max_iter.\" % max_iter)\n"
     ]
    },
    {
     "name": "stdout",
     "output_type": "stream",
     "text": [
      "init_price: torch.Size([5593, 1, 6])\n",
      "log_returns_scaled: torch.Size([5593, 128, 6])\n"
     ]
    }
   ],
   "source": [
    "def rolling_window(data, window_size):\n",
    "    n_windows = data.shape[0] - window_size + 1\n",
    "    windows = np.zeros((n_windows, window_size, data.shape[1]))\n",
    "    for idx in range(n_windows):\n",
    "        windows[idx] = data[idx:idx + window_size]\n",
    "    return windows\n",
    "\n",
    "# Step 1: Load and preprocess data\n",
    "df = pd.read_csv(f\"./data/{config.file_name}.csv\")\n",
    "df['Date'] = pd.to_datetime(df['Date'], format='%Y-%m-%d')\n",
    "df.set_index('Date', inplace=True)\n",
    "df = df.apply(pd.to_numeric).astype(float)\n",
    "\n",
    "# Step 2: Compute log returns\n",
    "log_returns = np.diff(np.log(df), axis=0)\n",
    "print(log_returns.shape)\n",
    "\n",
    "# Step 3: Scale the log returns\n",
    "log_returns_scaled, scalers = scaling(log_returns)\n",
    "\n",
    "# Step 4: Prepare initial prices and create rolling windows\n",
    "init_price = torch.from_numpy(np.array(df)[:-(config.n_steps), :]).float().unsqueeze(1)\n",
    "log_returns_scaled = torch.from_numpy(rolling_window(log_returns_scaled, config.n_steps)).float()\n",
    "print('init_price:', init_price.shape)\n",
    "print('log_returns_scaled:', log_returns_scaled.shape)"
   ]
  },
  {
   "cell_type": "markdown",
   "metadata": {},
   "source": [
    "### Generative models for time series generation"
   ]
  },
  {
   "cell_type": "markdown",
   "metadata": {},
   "source": [
    "### Data Construction"
   ]
  },
  {
   "cell_type": "markdown",
   "metadata": {},
   "source": [
    "We divide the data into training and validation set for the offline evaluation of our model"
   ]
  },
  {
   "cell_type": "code",
   "execution_count": 4,
   "metadata": {},
   "outputs": [
    {
     "name": "stdout",
     "output_type": "stream",
     "text": [
      "training_data:  torch.Size([3915, 128, 6])\n",
      "test_data:  torch.Size([1678, 128, 6])\n"
     ]
    }
   ],
   "source": [
    "perm_idx = torch.randperm(log_returns_scaled.shape[0])\n",
    "train_size = int(0.7*log_returns_scaled.shape[0])\n",
    "\n",
    "training_data = log_returns_scaled[perm_idx[:train_size]]\n",
    "train_init_price = init_price[perm_idx[:train_size]]\n",
    "test_data = log_returns_scaled[perm_idx[train_size:]]\n",
    "test_init_price = init_price[perm_idx[train_size:]]\n",
    "\n",
    "print(\"training_data: \", training_data.shape)\n",
    "print(\"test_data: \", test_data.shape)"
   ]
  },
  {
   "cell_type": "code",
   "execution_count": 5,
   "metadata": {},
   "outputs": [],
   "source": [
    "# \"\"\" Permutation Augmentation \"\"\"\n",
    "# from itertools import permutations\n",
    "\n",
    "# def augment_with_permutation(data, num_subsequences=4):\n",
    "#     batch_size, seq_length, feature_dim = data.shape    \n",
    "#     subseq_length = seq_length // num_subsequences    \n",
    "#     if seq_length % num_subsequences != 0:\n",
    "#         raise ValueError(\"Sequence length must be divisible by num_subsequences.\")\n",
    "\n",
    "#     # 가능한 모든 순열 생성\n",
    "#     perm_indices = list(permutations(range(num_subsequences)))\n",
    "\n",
    "#     augmented_data = []\n",
    "#     for i in range(batch_size):\n",
    "#         single_sequence = data[i]\n",
    "#         subsequences = single_sequence.split(subseq_length, dim=0)\n",
    "        \n",
    "#         # 각 순열에 대해 증강\n",
    "#         for perm in perm_indices:\n",
    "#             permuted_sequence = torch.cat([subsequences[j] for j in perm], dim=0)\n",
    "#             augmented_data.append(permuted_sequence)\n",
    "\n",
    "#     # 최종 텐서로 결합\n",
    "#     augmented_data = torch.stack(augmented_data, dim=0)\n",
    "#     return augmented_data\n",
    "\n",
    "\n",
    "# # augmented_training_data = augment_with_permutation(training_data)\n",
    "# # training_data = torch.cat([training_data, augmented_training_data], dim=0)\n",
    "# training_data = augment_with_permutation(training_data)\n",
    "# print(\"Augmented training_data shape: \", training_data.shape)\n"
   ]
  },
  {
   "cell_type": "markdown",
   "metadata": {},
   "source": [
    "Load the dataset\n"
   ]
  },
  {
   "cell_type": "code",
   "execution_count": 6,
   "metadata": {},
   "outputs": [],
   "source": [
    "training_set = TensorDataset(training_data)\n",
    "test_set = TensorDataset(test_data)\n",
    "\n",
    "train_dl = DataLoader(training_set, batch_size=config.batch_size, shuffle=True)\n",
    "test_dl = DataLoader(test_set, batch_size=config.batch_size, shuffle=True)"
   ]
  },
  {
   "cell_type": "markdown",
   "metadata": {},
   "source": [
    "### Generative model"
   ]
  },
  {
   "cell_type": "markdown",
   "metadata": {},
   "source": [
    "Here we construct a generator and a discriminator for this task. Both the generator and discriminator takes as input the time series. Then we have the training algorithm TailGANTrainer."
   ]
  },
  {
   "cell_type": "markdown",
   "metadata": {},
   "source": [
    "### Initialize the generator, discriminator and the trainer"
   ]
  },
  {
   "cell_type": "code",
   "execution_count": 7,
   "metadata": {},
   "outputs": [],
   "source": [
    "from src.baselines.networks.discriminators import UserDiscriminator\n",
    "from src.baselines.networks.generators import UserGenerator\n",
    "from src.baselines.trainer import *\n",
    "\n",
    "generator = UserGenerator(config)\n",
    "discriminator = UserDiscriminator(config)\n",
    "trainer = GANTrainer(G=generator, D=discriminator, train_dl=train_dl, config=config)"
   ]
  },
  {
   "cell_type": "markdown",
   "metadata": {},
   "source": [
    "### Model training and saving"
   ]
  },
  {
   "cell_type": "code",
   "execution_count": 8,
   "metadata": {},
   "outputs": [
    {
     "name": "stderr",
     "output_type": "stream",
     "text": [
      "  0%|          | 0/300 [00:00<?, ?it/s]"
     ]
    },
    {
     "name": "stdout",
     "output_type": "stream",
     "text": [
      "Batch 0: D Loss: 2.160775899887085, Generator Loss: 0.6877250671386719\n",
      "Batch 5: D Loss: 1.386495590209961, Generator Loss: 0.6871539354324341\n",
      "Batch 10: D Loss: 1.3865115642547607, Generator Loss: 0.6871323585510254\n"
     ]
    },
    {
     "name": "stderr",
     "output_type": "stream",
     "text": [
      "  0%|          | 1/300 [00:02<14:46,  2.96s/it]"
     ]
    },
    {
     "name": "stdout",
     "output_type": "stream",
     "text": [
      "Batch 15: D Loss: 1.3863193988800049, Generator Loss: 0.687364935874939\n",
      "Batch 0: D Loss: 1.3861595392227173, Generator Loss: 0.6874474287033081\n",
      "Batch 5: D Loss: 1.3859049081802368, Generator Loss: 0.687834620475769\n",
      "Batch 10: D Loss: 1.3856875896453857, Generator Loss: 0.6880905032157898\n"
     ]
    },
    {
     "name": "stderr",
     "output_type": "stream",
     "text": [
      "  1%|          | 2/300 [00:04<11:43,  2.36s/it]"
     ]
    },
    {
     "name": "stdout",
     "output_type": "stream",
     "text": [
      "Batch 15: D Loss: 1.385643482208252, Generator Loss: 0.6880488991737366\n",
      "Batch 0: D Loss: 1.3857126235961914, Generator Loss: 0.6882308125495911\n",
      "Batch 5: D Loss: 1.3860442638397217, Generator Loss: 0.6880295276641846\n",
      "Batch 10: D Loss: 1.38661527633667, Generator Loss: 0.6875470876693726\n"
     ]
    },
    {
     "name": "stderr",
     "output_type": "stream",
     "text": [
      "  1%|          | 3/300 [00:06<10:43,  2.17s/it]"
     ]
    },
    {
     "name": "stdout",
     "output_type": "stream",
     "text": [
      "Batch 15: D Loss: 1.3872032165527344, Generator Loss: 0.6872344017028809\n",
      "Batch 0: D Loss: 1.3871605396270752, Generator Loss: 0.6870891451835632\n",
      "Batch 5: D Loss: 1.3873019218444824, Generator Loss: 0.6870965957641602\n",
      "Batch 10: D Loss: 1.3871054649353027, Generator Loss: 0.6874364614486694\n"
     ]
    },
    {
     "name": "stderr",
     "output_type": "stream",
     "text": [
      "  1%|▏         | 4/300 [00:08<10:15,  2.08s/it]"
     ]
    },
    {
     "name": "stdout",
     "output_type": "stream",
     "text": [
      "Batch 15: D Loss: 1.3867430686950684, Generator Loss: 0.6882316470146179\n",
      "Batch 0: D Loss: 1.3866075277328491, Generator Loss: 0.6883792877197266\n",
      "Batch 5: D Loss: 1.3857743740081787, Generator Loss: 0.6892499923706055\n",
      "Batch 10: D Loss: 1.3851799964904785, Generator Loss: 0.6900333166122437\n"
     ]
    },
    {
     "name": "stderr",
     "output_type": "stream",
     "text": [
      "  2%|▏         | 5/300 [00:10<09:59,  2.03s/it]"
     ]
    },
    {
     "name": "stdout",
     "output_type": "stream",
     "text": [
      "Batch 15: D Loss: 1.3843841552734375, Generator Loss: 0.6907171607017517\n",
      "Batch 0: D Loss: 1.385124683380127, Generator Loss: 0.6900926828384399\n",
      "Batch 5: D Loss: 1.3848820924758911, Generator Loss: 0.6902162432670593\n",
      "Batch 10: D Loss: 1.3853964805603027, Generator Loss: 0.6898301839828491\n"
     ]
    },
    {
     "name": "stderr",
     "output_type": "stream",
     "text": [
      "  2%|▏         | 6/300 [00:12<09:50,  2.01s/it]"
     ]
    },
    {
     "name": "stdout",
     "output_type": "stream",
     "text": [
      "Batch 15: D Loss: 1.3865084648132324, Generator Loss: 0.6891682147979736\n",
      "Batch 0: D Loss: 1.385913372039795, Generator Loss: 0.689274787902832\n",
      "Batch 5: D Loss: 1.3861005306243896, Generator Loss: 0.6892649531364441\n",
      "Batch 10: D Loss: 1.3861324787139893, Generator Loss: 0.689490556716919\n"
     ]
    },
    {
     "name": "stderr",
     "output_type": "stream",
     "text": [
      "  2%|▏         | 7/300 [00:14<09:42,  1.99s/it]"
     ]
    },
    {
     "name": "stdout",
     "output_type": "stream",
     "text": [
      "Batch 15: D Loss: 1.3854901790618896, Generator Loss: 0.6901180148124695\n",
      "Batch 0: D Loss: 1.3856430053710938, Generator Loss: 0.6900249719619751\n",
      "Batch 5: D Loss: 1.384488821029663, Generator Loss: 0.6907917857170105\n",
      "Batch 10: D Loss: 1.3832118511199951, Generator Loss: 0.6917538642883301\n"
     ]
    },
    {
     "name": "stderr",
     "output_type": "stream",
     "text": [
      "  3%|▎         | 8/300 [00:16<09:36,  1.98s/it]"
     ]
    },
    {
     "name": "stdout",
     "output_type": "stream",
     "text": [
      "Batch 15: D Loss: 1.382469654083252, Generator Loss: 0.6925679445266724\n",
      "Batch 0: D Loss: 1.3820987939834595, Generator Loss: 0.692725658416748\n",
      "Batch 5: D Loss: 1.3815513849258423, Generator Loss: 0.6931658387184143\n",
      "Batch 10: D Loss: 1.381612777709961, Generator Loss: 0.6929076910018921\n"
     ]
    },
    {
     "name": "stderr",
     "output_type": "stream",
     "text": [
      "  3%|▎         | 9/300 [00:18<09:32,  1.97s/it]"
     ]
    },
    {
     "name": "stdout",
     "output_type": "stream",
     "text": [
      "Batch 15: D Loss: 1.3829562664031982, Generator Loss: 0.6908943057060242\n",
      "Batch 0: D Loss: 1.383965253829956, Generator Loss: 0.6902627348899841\n",
      "Batch 5: D Loss: 1.3859659433364868, Generator Loss: 0.688646674156189\n",
      "Batch 10: D Loss: 1.3854005336761475, Generator Loss: 0.6891464591026306\n"
     ]
    },
    {
     "name": "stderr",
     "output_type": "stream",
     "text": [
      "  3%|▎         | 10/300 [00:20<09:28,  1.96s/it]"
     ]
    },
    {
     "name": "stdout",
     "output_type": "stream",
     "text": [
      "Batch 15: D Loss: 1.3831032514572144, Generator Loss: 0.6912600994110107\n",
      "Batch 0: D Loss: 1.3832216262817383, Generator Loss: 0.6914564371109009\n",
      "Batch 5: D Loss: 1.3829212188720703, Generator Loss: 0.6918092966079712\n",
      "Batch 10: D Loss: 1.3835561275482178, Generator Loss: 0.6910146474838257\n"
     ]
    },
    {
     "name": "stderr",
     "output_type": "stream",
     "text": [
      "  4%|▎         | 11/300 [00:22<09:26,  1.96s/it]"
     ]
    },
    {
     "name": "stdout",
     "output_type": "stream",
     "text": [
      "Batch 15: D Loss: 1.383467197418213, Generator Loss: 0.6912487149238586\n",
      "Batch 0: D Loss: 1.3828706741333008, Generator Loss: 0.6916667222976685\n",
      "Batch 5: D Loss: 1.3813250064849854, Generator Loss: 0.6932497024536133\n",
      "Batch 10: D Loss: 1.3797399997711182, Generator Loss: 0.6957093477249146\n"
     ]
    },
    {
     "name": "stderr",
     "output_type": "stream",
     "text": [
      "  4%|▍         | 12/300 [00:24<09:23,  1.96s/it]"
     ]
    },
    {
     "name": "stdout",
     "output_type": "stream",
     "text": [
      "Batch 15: D Loss: 1.3767693042755127, Generator Loss: 0.6995121836662292\n",
      "Batch 0: D Loss: 1.3756639957427979, Generator Loss: 0.7005433440208435\n",
      "Batch 5: D Loss: 1.3689438104629517, Generator Loss: 0.7070775628089905\n",
      "Batch 10: D Loss: 1.3664039373397827, Generator Loss: 0.7081221342086792\n"
     ]
    },
    {
     "name": "stderr",
     "output_type": "stream",
     "text": [
      "  4%|▍         | 13/300 [00:26<09:20,  1.95s/it]"
     ]
    },
    {
     "name": "stdout",
     "output_type": "stream",
     "text": [
      "Batch 15: D Loss: 1.3803077936172485, Generator Loss: 0.6896939277648926\n",
      "Batch 0: D Loss: 1.3813477754592896, Generator Loss: 0.6868429183959961\n",
      "Batch 5: D Loss: 1.3971161842346191, Generator Loss: 0.6694194078445435\n",
      "Batch 10: D Loss: 1.400821566581726, Generator Loss: 0.6655006408691406\n"
     ]
    },
    {
     "name": "stderr",
     "output_type": "stream",
     "text": [
      "  5%|▍         | 14/300 [00:28<09:18,  1.95s/it]"
     ]
    },
    {
     "name": "stdout",
     "output_type": "stream",
     "text": [
      "Batch 15: D Loss: 1.3970956802368164, Generator Loss: 0.6684879660606384\n",
      "Batch 0: D Loss: 1.3999665975570679, Generator Loss: 0.6677880883216858\n",
      "Batch 5: D Loss: 1.3949878215789795, Generator Loss: 0.6737903952598572\n",
      "Batch 10: D Loss: 1.3896130323410034, Generator Loss: 0.6787624359130859\n"
     ]
    },
    {
     "name": "stderr",
     "output_type": "stream",
     "text": [
      "  5%|▌         | 15/300 [00:30<09:17,  1.96s/it]"
     ]
    },
    {
     "name": "stdout",
     "output_type": "stream",
     "text": [
      "Batch 15: D Loss: 1.3856898546218872, Generator Loss: 0.6816849708557129\n",
      "Batch 0: D Loss: 1.3852365016937256, Generator Loss: 0.6819005608558655\n",
      "Batch 5: D Loss: 1.3832749128341675, Generator Loss: 0.6832698583602905\n",
      "Batch 10: D Loss: 1.3814396858215332, Generator Loss: 0.6846015453338623\n"
     ]
    },
    {
     "name": "stderr",
     "output_type": "stream",
     "text": [
      "  5%|▌         | 16/300 [00:32<09:17,  1.96s/it]"
     ]
    },
    {
     "name": "stdout",
     "output_type": "stream",
     "text": [
      "Batch 15: D Loss: 1.3798446655273438, Generator Loss: 0.6868032217025757\n",
      "Batch 0: D Loss: 1.3787696361541748, Generator Loss: 0.6875010132789612\n",
      "Batch 5: D Loss: 1.3753788471221924, Generator Loss: 0.6914750933647156\n",
      "Batch 10: D Loss: 1.3697566986083984, Generator Loss: 0.6958473324775696\n"
     ]
    },
    {
     "name": "stderr",
     "output_type": "stream",
     "text": [
      "  6%|▌         | 17/300 [00:34<09:15,  1.96s/it]"
     ]
    },
    {
     "name": "stdout",
     "output_type": "stream",
     "text": [
      "Batch 15: D Loss: 1.3631354570388794, Generator Loss: 0.7011410593986511\n",
      "Batch 0: D Loss: 1.3616182804107666, Generator Loss: 0.7020115852355957\n",
      "Batch 5: D Loss: 1.3561538457870483, Generator Loss: 0.7051414251327515\n",
      "Batch 10: D Loss: 1.3566241264343262, Generator Loss: 0.704585075378418\n"
     ]
    },
    {
     "name": "stderr",
     "output_type": "stream",
     "text": [
      "  6%|▌         | 18/300 [00:36<09:13,  1.96s/it]"
     ]
    },
    {
     "name": "stdout",
     "output_type": "stream",
     "text": [
      "Batch 15: D Loss: 1.3646478652954102, Generator Loss: 0.6979518532752991\n",
      "Batch 0: D Loss: 1.3692498207092285, Generator Loss: 0.6915618181228638\n",
      "Batch 5: D Loss: 1.3892160654067993, Generator Loss: 0.6702560782432556\n",
      "Batch 10: D Loss: 1.3935233354568481, Generator Loss: 0.6576048135757446\n"
     ]
    },
    {
     "name": "stderr",
     "output_type": "stream",
     "text": [
      "  6%|▋         | 19/300 [00:38<09:10,  1.96s/it]"
     ]
    },
    {
     "name": "stdout",
     "output_type": "stream",
     "text": [
      "Batch 15: D Loss: 1.390105128288269, Generator Loss: 0.655743420124054\n",
      "Batch 0: D Loss: 1.3854697942733765, Generator Loss: 0.6596704721450806\n",
      "Batch 5: D Loss: 1.3800463676452637, Generator Loss: 0.6669257879257202\n",
      "Batch 10: D Loss: 1.3778327703475952, Generator Loss: 0.6774912476539612\n"
     ]
    },
    {
     "name": "stderr",
     "output_type": "stream",
     "text": [
      "  7%|▋         | 20/300 [00:40<09:08,  1.96s/it]"
     ]
    },
    {
     "name": "stdout",
     "output_type": "stream",
     "text": [
      "Batch 15: D Loss: 1.372739553451538, Generator Loss: 0.6880772113800049\n",
      "Batch 0: D Loss: 1.373152732849121, Generator Loss: 0.6891472935676575\n",
      "Batch 5: D Loss: 1.3662450313568115, Generator Loss: 0.6918167471885681\n",
      "Batch 10: D Loss: 1.3590971231460571, Generator Loss: 0.6942968368530273\n"
     ]
    },
    {
     "name": "stderr",
     "output_type": "stream",
     "text": [
      "  7%|▋         | 21/300 [00:42<09:07,  1.96s/it]"
     ]
    },
    {
     "name": "stdout",
     "output_type": "stream",
     "text": [
      "Batch 15: D Loss: 1.3485453128814697, Generator Loss: 0.7031579613685608\n",
      "Batch 0: D Loss: 1.348130464553833, Generator Loss: 0.7016161680221558\n",
      "Batch 5: D Loss: 1.3352487087249756, Generator Loss: 0.7078233957290649\n",
      "Batch 10: D Loss: 1.3233623504638672, Generator Loss: 0.7136259078979492\n"
     ]
    },
    {
     "name": "stderr",
     "output_type": "stream",
     "text": [
      "  7%|▋         | 22/300 [00:44<09:05,  1.96s/it]"
     ]
    },
    {
     "name": "stdout",
     "output_type": "stream",
     "text": [
      "Batch 15: D Loss: 1.3110649585723877, Generator Loss: 0.7228002548217773\n",
      "Batch 0: D Loss: 1.3118700981140137, Generator Loss: 0.7213540077209473\n",
      "Batch 5: D Loss: 1.3035757541656494, Generator Loss: 0.7290166616439819\n",
      "Batch 10: D Loss: 1.294533371925354, Generator Loss: 0.7337592840194702\n"
     ]
    },
    {
     "name": "stderr",
     "output_type": "stream",
     "text": [
      "  8%|▊         | 23/300 [00:45<09:03,  1.96s/it]"
     ]
    },
    {
     "name": "stdout",
     "output_type": "stream",
     "text": [
      "Batch 15: D Loss: 1.2749450206756592, Generator Loss: 0.7440191507339478\n",
      "Batch 0: D Loss: 1.2713871002197266, Generator Loss: 0.745617151260376\n",
      "Batch 5: D Loss: 1.2592308521270752, Generator Loss: 0.7498717308044434\n",
      "Batch 10: D Loss: 1.2322068214416504, Generator Loss: 0.766242265701294\n"
     ]
    },
    {
     "name": "stderr",
     "output_type": "stream",
     "text": [
      "  8%|▊         | 24/300 [00:47<09:02,  1.97s/it]"
     ]
    },
    {
     "name": "stdout",
     "output_type": "stream",
     "text": [
      "Batch 15: D Loss: 1.2152979373931885, Generator Loss: 0.7785447239875793\n",
      "Batch 0: D Loss: 1.2125670909881592, Generator Loss: 0.7761752605438232\n",
      "Batch 5: D Loss: 1.1907715797424316, Generator Loss: 0.7913309335708618\n",
      "Batch 10: D Loss: 1.172283411026001, Generator Loss: 0.8001076579093933\n"
     ]
    },
    {
     "name": "stderr",
     "output_type": "stream",
     "text": [
      "  8%|▊         | 25/300 [00:49<08:59,  1.96s/it]"
     ]
    },
    {
     "name": "stdout",
     "output_type": "stream",
     "text": [
      "Batch 15: D Loss: 1.1518921852111816, Generator Loss: 0.8156001567840576\n",
      "Batch 0: D Loss: 1.1499723196029663, Generator Loss: 0.8174694776535034\n",
      "Batch 5: D Loss: 1.1374151706695557, Generator Loss: 0.8265211582183838\n",
      "Batch 10: D Loss: 1.1249421834945679, Generator Loss: 0.8317406177520752\n"
     ]
    },
    {
     "name": "stderr",
     "output_type": "stream",
     "text": [
      "  9%|▊         | 26/300 [00:51<08:58,  1.97s/it]"
     ]
    },
    {
     "name": "stdout",
     "output_type": "stream",
     "text": [
      "Batch 15: D Loss: 1.1164679527282715, Generator Loss: 0.8407613039016724\n",
      "Batch 0: D Loss: 1.1097735166549683, Generator Loss: 0.8431588411331177\n",
      "Batch 5: D Loss: 1.0862616300582886, Generator Loss: 0.863387405872345\n",
      "Batch 10: D Loss: 1.0669817924499512, Generator Loss: 0.8781949281692505\n"
     ]
    },
    {
     "name": "stderr",
     "output_type": "stream",
     "text": [
      "  9%|▉         | 27/300 [00:53<08:56,  1.97s/it]"
     ]
    },
    {
     "name": "stdout",
     "output_type": "stream",
     "text": [
      "Batch 15: D Loss: 1.0505383014678955, Generator Loss: 0.8927839398384094\n",
      "Batch 0: D Loss: 1.0488675832748413, Generator Loss: 0.8931434750556946\n",
      "Batch 5: D Loss: 1.0386850833892822, Generator Loss: 0.8987990617752075\n",
      "Batch 10: D Loss: 1.0338709354400635, Generator Loss: 0.8987195491790771\n"
     ]
    },
    {
     "name": "stderr",
     "output_type": "stream",
     "text": [
      "  9%|▉         | 28/300 [00:55<08:55,  1.97s/it]"
     ]
    },
    {
     "name": "stdout",
     "output_type": "stream",
     "text": [
      "Batch 15: D Loss: 1.0299845933914185, Generator Loss: 0.9006615281105042\n",
      "Batch 0: D Loss: 1.0301907062530518, Generator Loss: 0.9012393951416016\n",
      "Batch 5: D Loss: 1.0232638120651245, Generator Loss: 0.9051544070243835\n",
      "Batch 10: D Loss: 1.0153173208236694, Generator Loss: 0.9122897386550903\n"
     ]
    },
    {
     "name": "stderr",
     "output_type": "stream",
     "text": [
      " 10%|▉         | 29/300 [00:57<08:53,  1.97s/it]"
     ]
    },
    {
     "name": "stdout",
     "output_type": "stream",
     "text": [
      "Batch 15: D Loss: 1.0082156658172607, Generator Loss: 0.918847382068634\n",
      "Batch 0: D Loss: 1.0073339939117432, Generator Loss: 0.9192836284637451\n",
      "Batch 5: D Loss: 1.0005656480789185, Generator Loss: 0.9246811270713806\n",
      "Batch 10: D Loss: 0.9945549964904785, Generator Loss: 0.9311553239822388\n"
     ]
    },
    {
     "name": "stderr",
     "output_type": "stream",
     "text": [
      " 10%|█         | 30/300 [00:59<08:52,  1.97s/it]"
     ]
    },
    {
     "name": "stdout",
     "output_type": "stream",
     "text": [
      "Batch 15: D Loss: 0.9895771741867065, Generator Loss: 0.9347683191299438\n",
      "Batch 0: D Loss: 0.9890000820159912, Generator Loss: 0.9357085227966309\n",
      "Batch 5: D Loss: 0.9842972755432129, Generator Loss: 0.940669596195221\n",
      "Batch 10: D Loss: 0.9786733388900757, Generator Loss: 0.9448941349983215\n"
     ]
    },
    {
     "name": "stderr",
     "output_type": "stream",
     "text": [
      " 10%|█         | 31/300 [01:01<08:51,  1.98s/it]"
     ]
    },
    {
     "name": "stdout",
     "output_type": "stream",
     "text": [
      "Batch 15: D Loss: 0.9757708311080933, Generator Loss: 0.9481852650642395\n",
      "Batch 0: D Loss: 0.9745842218399048, Generator Loss: 0.9487109184265137\n",
      "Batch 5: D Loss: 0.9712789058685303, Generator Loss: 0.9519469738006592\n",
      "Batch 10: D Loss: 0.9672621488571167, Generator Loss: 0.9563300609588623\n"
     ]
    },
    {
     "name": "stderr",
     "output_type": "stream",
     "text": [
      " 11%|█         | 32/300 [01:03<08:48,  1.97s/it]"
     ]
    },
    {
     "name": "stdout",
     "output_type": "stream",
     "text": [
      "Batch 15: D Loss: 0.9645415544509888, Generator Loss: 0.9582279920578003\n",
      "Batch 0: D Loss: 0.9643536806106567, Generator Loss: 0.9594541788101196\n",
      "Batch 5: D Loss: 0.9616097807884216, Generator Loss: 0.9621950387954712\n",
      "Batch 10: D Loss: 0.9615378379821777, Generator Loss: 0.9638077616691589\n"
     ]
    },
    {
     "name": "stderr",
     "output_type": "stream",
     "text": [
      " 11%|█         | 33/300 [01:05<08:46,  1.97s/it]"
     ]
    },
    {
     "name": "stdout",
     "output_type": "stream",
     "text": [
      "Batch 15: D Loss: 0.9636556506156921, Generator Loss: 0.9617860913276672\n",
      "Batch 0: D Loss: 0.9617478847503662, Generator Loss: 0.965095579624176\n",
      "Batch 5: D Loss: 0.957252025604248, Generator Loss: 0.9695236682891846\n",
      "Batch 10: D Loss: 0.9529016613960266, Generator Loss: 0.9719035029411316\n"
     ]
    },
    {
     "name": "stderr",
     "output_type": "stream",
     "text": [
      " 11%|█▏        | 34/300 [01:07<08:46,  1.98s/it]"
     ]
    },
    {
     "name": "stdout",
     "output_type": "stream",
     "text": [
      "Batch 15: D Loss: 0.9487449526786804, Generator Loss: 0.9746700525283813\n",
      "Batch 0: D Loss: 0.9473190307617188, Generator Loss: 0.9765552282333374\n",
      "Batch 5: D Loss: 0.9452529549598694, Generator Loss: 0.9787914752960205\n",
      "Batch 10: D Loss: 0.9421312808990479, Generator Loss: 0.9818215370178223\n"
     ]
    },
    {
     "name": "stderr",
     "output_type": "stream",
     "text": [
      " 12%|█▏        | 35/300 [01:09<08:44,  1.98s/it]"
     ]
    },
    {
     "name": "stdout",
     "output_type": "stream",
     "text": [
      "Batch 15: D Loss: 0.9392039775848389, Generator Loss: 0.9825111031532288\n",
      "Batch 0: D Loss: 0.9389570951461792, Generator Loss: 0.9835402965545654\n",
      "Batch 5: D Loss: 0.9376774430274963, Generator Loss: 0.9850560426712036\n",
      "Batch 10: D Loss: 0.934738278388977, Generator Loss: 0.9868496656417847\n"
     ]
    },
    {
     "name": "stderr",
     "output_type": "stream",
     "text": [
      " 12%|█▏        | 36/300 [01:11<08:44,  1.99s/it]"
     ]
    },
    {
     "name": "stdout",
     "output_type": "stream",
     "text": [
      "Batch 15: D Loss: 0.9321354031562805, Generator Loss: 0.9883490204811096\n",
      "Batch 0: D Loss: 0.9326227903366089, Generator Loss: 0.9875141978263855\n",
      "Batch 5: D Loss: 0.9328054189682007, Generator Loss: 0.9890520572662354\n",
      "Batch 10: D Loss: 0.9323981404304504, Generator Loss: 0.9894968271255493\n"
     ]
    },
    {
     "name": "stderr",
     "output_type": "stream",
     "text": [
      " 12%|█▏        | 37/300 [01:13<08:42,  1.99s/it]"
     ]
    },
    {
     "name": "stdout",
     "output_type": "stream",
     "text": [
      "Batch 15: D Loss: 0.9306850433349609, Generator Loss: 0.9897106289863586\n",
      "Batch 0: D Loss: 0.9304282069206238, Generator Loss: 0.9922120571136475\n",
      "Batch 5: D Loss: 0.9300270080566406, Generator Loss: 0.9956498146057129\n",
      "Batch 10: D Loss: 0.9316903352737427, Generator Loss: 0.9954004287719727\n"
     ]
    },
    {
     "name": "stderr",
     "output_type": "stream",
     "text": [
      " 13%|█▎        | 38/300 [01:15<08:39,  1.98s/it]"
     ]
    },
    {
     "name": "stdout",
     "output_type": "stream",
     "text": [
      "Batch 15: D Loss: 0.9289991855621338, Generator Loss: 0.9947388172149658\n",
      "Batch 0: D Loss: 0.9292916059494019, Generator Loss: 0.9960237741470337\n",
      "Batch 5: D Loss: 0.926697313785553, Generator Loss: 0.9946953058242798\n",
      "Batch 10: D Loss: 0.9242992401123047, Generator Loss: 0.9981359243392944\n"
     ]
    },
    {
     "name": "stderr",
     "output_type": "stream",
     "text": [
      " 13%|█▎        | 39/300 [01:17<08:37,  1.98s/it]"
     ]
    },
    {
     "name": "stdout",
     "output_type": "stream",
     "text": [
      "Batch 15: D Loss: 0.9249983429908752, Generator Loss: 0.999347984790802\n",
      "Batch 0: D Loss: 0.9226793050765991, Generator Loss: 0.9991909265518188\n",
      "Batch 5: D Loss: 0.9211360812187195, Generator Loss: 1.001070499420166\n",
      "Batch 10: D Loss: 0.9240044355392456, Generator Loss: 1.000550389289856\n"
     ]
    },
    {
     "name": "stderr",
     "output_type": "stream",
     "text": [
      " 13%|█▎        | 40/300 [01:19<08:33,  1.98s/it]"
     ]
    },
    {
     "name": "stdout",
     "output_type": "stream",
     "text": [
      "Batch 15: D Loss: 0.9309196472167969, Generator Loss: 0.9966772794723511\n",
      "Batch 0: D Loss: 0.936748743057251, Generator Loss: 0.9957730770111084\n",
      "Batch 5: D Loss: 1.108356237411499, Generator Loss: 0.9935169816017151\n",
      "Batch 10: D Loss: 1.4485670328140259, Generator Loss: 0.5132484436035156\n"
     ]
    },
    {
     "name": "stderr",
     "output_type": "stream",
     "text": [
      " 14%|█▎        | 41/300 [01:21<08:33,  1.98s/it]"
     ]
    },
    {
     "name": "stdout",
     "output_type": "stream",
     "text": [
      "Batch 15: D Loss: 1.3783352375030518, Generator Loss: 0.952232301235199\n",
      "Batch 0: D Loss: 1.3769264221191406, Generator Loss: 0.9583285450935364\n",
      "Batch 5: D Loss: 1.0802658796310425, Generator Loss: 0.9537560939788818\n",
      "Batch 10: D Loss: 0.9433701038360596, Generator Loss: 0.9876330494880676\n"
     ]
    },
    {
     "name": "stderr",
     "output_type": "stream",
     "text": [
      " 14%|█▍        | 42/300 [01:23<08:31,  1.98s/it]"
     ]
    },
    {
     "name": "stdout",
     "output_type": "stream",
     "text": [
      "Batch 15: D Loss: 0.9349188804626465, Generator Loss: 0.9822428822517395\n",
      "Batch 0: D Loss: 0.9312766790390015, Generator Loss: 0.9866717457771301\n",
      "Batch 5: D Loss: 0.9229816198348999, Generator Loss: 0.9953821897506714\n",
      "Batch 10: D Loss: 0.9185600280761719, Generator Loss: 1.0026193857192993\n"
     ]
    },
    {
     "name": "stderr",
     "output_type": "stream",
     "text": [
      " 14%|█▍        | 43/300 [01:25<08:29,  1.98s/it]"
     ]
    },
    {
     "name": "stdout",
     "output_type": "stream",
     "text": [
      "Batch 15: D Loss: 0.9141107201576233, Generator Loss: 1.0042071342468262\n",
      "Batch 0: D Loss: 0.9174951314926147, Generator Loss: 1.0036321878433228\n",
      "Batch 5: D Loss: 0.9137058258056641, Generator Loss: 1.004734754562378\n",
      "Batch 10: D Loss: 0.9117258787155151, Generator Loss: 1.00497567653656\n"
     ]
    },
    {
     "name": "stderr",
     "output_type": "stream",
     "text": [
      " 15%|█▍        | 44/300 [01:27<08:31,  2.00s/it]"
     ]
    },
    {
     "name": "stdout",
     "output_type": "stream",
     "text": [
      "Batch 15: D Loss: 0.9111480712890625, Generator Loss: 1.0065948963165283\n",
      "Batch 0: D Loss: 0.9107416868209839, Generator Loss: 1.0057374238967896\n",
      "Batch 5: D Loss: 0.9096255898475647, Generator Loss: 1.0066074132919312\n",
      "Batch 10: D Loss: 0.9089470505714417, Generator Loss: 1.0073010921478271\n"
     ]
    },
    {
     "name": "stderr",
     "output_type": "stream",
     "text": [
      " 15%|█▌        | 45/300 [01:29<08:27,  1.99s/it]"
     ]
    },
    {
     "name": "stdout",
     "output_type": "stream",
     "text": [
      "Batch 15: D Loss: 0.9071022272109985, Generator Loss: 1.009318470954895\n",
      "Batch 0: D Loss: 0.9073494076728821, Generator Loss: 1.0087984800338745\n",
      "Batch 5: D Loss: 0.9070805907249451, Generator Loss: 1.0102912187576294\n",
      "Batch 10: D Loss: 0.9066823720932007, Generator Loss: 1.0097835063934326\n"
     ]
    },
    {
     "name": "stderr",
     "output_type": "stream",
     "text": [
      " 15%|█▌        | 46/300 [01:31<08:26,  2.00s/it]"
     ]
    },
    {
     "name": "stdout",
     "output_type": "stream",
     "text": [
      "Batch 15: D Loss: 0.9082404375076294, Generator Loss: 1.009347915649414\n",
      "Batch 0: D Loss: 0.9066043496131897, Generator Loss: 1.010067343711853\n",
      "Batch 5: D Loss: 0.9062308073043823, Generator Loss: 1.010246753692627\n",
      "Batch 10: D Loss: 0.9062799215316772, Generator Loss: 1.0107977390289307\n"
     ]
    },
    {
     "name": "stderr",
     "output_type": "stream",
     "text": [
      " 16%|█▌        | 47/300 [01:33<08:23,  1.99s/it]"
     ]
    },
    {
     "name": "stdout",
     "output_type": "stream",
     "text": [
      "Batch 15: D Loss: 0.9072985649108887, Generator Loss: 1.0102078914642334\n",
      "Batch 0: D Loss: 0.905726969242096, Generator Loss: 1.0100739002227783\n",
      "Batch 5: D Loss: 0.9057444334030151, Generator Loss: 1.0112566947937012\n",
      "Batch 10: D Loss: 0.9070521593093872, Generator Loss: 1.0105822086334229\n"
     ]
    },
    {
     "name": "stderr",
     "output_type": "stream",
     "text": [
      " 16%|█▌        | 48/300 [01:35<08:19,  1.98s/it]"
     ]
    },
    {
     "name": "stdout",
     "output_type": "stream",
     "text": [
      "Batch 15: D Loss: 0.9082157611846924, Generator Loss: 1.010046362876892\n",
      "Batch 0: D Loss: 0.9085522890090942, Generator Loss: 1.0092250108718872\n",
      "Batch 5: D Loss: 0.9090867042541504, Generator Loss: 1.008187174797058\n",
      "Batch 10: D Loss: 0.9096797704696655, Generator Loss: 1.0090506076812744\n"
     ]
    },
    {
     "name": "stderr",
     "output_type": "stream",
     "text": [
      " 16%|█▋        | 49/300 [01:37<08:16,  1.98s/it]"
     ]
    },
    {
     "name": "stdout",
     "output_type": "stream",
     "text": [
      "Batch 15: D Loss: 0.9098173379898071, Generator Loss: 1.0051137208938599\n",
      "Batch 0: D Loss: 0.9109669327735901, Generator Loss: 1.009052038192749\n",
      "Batch 5: D Loss: 0.9147406816482544, Generator Loss: 1.0105621814727783\n",
      "Batch 10: D Loss: 0.9128152132034302, Generator Loss: 1.0097907781600952\n"
     ]
    },
    {
     "name": "stderr",
     "output_type": "stream",
     "text": [
      " 17%|█▋        | 50/300 [01:39<08:13,  1.97s/it]"
     ]
    },
    {
     "name": "stdout",
     "output_type": "stream",
     "text": [
      "Batch 15: D Loss: 0.9171019196510315, Generator Loss: 1.0031769275665283\n",
      "Batch 0: D Loss: 0.9199429750442505, Generator Loss: 1.0032386779785156\n",
      "Batch 5: D Loss: 0.9491273164749146, Generator Loss: 0.9918295741081238\n",
      "Batch 10: D Loss: 1.0394461154937744, Generator Loss: 1.0022306442260742\n"
     ]
    },
    {
     "name": "stderr",
     "output_type": "stream",
     "text": [
      " 17%|█▋        | 51/300 [01:41<08:13,  1.98s/it]"
     ]
    },
    {
     "name": "stdout",
     "output_type": "stream",
     "text": [
      "Batch 15: D Loss: 1.0392069816589355, Generator Loss: 0.9653283953666687\n",
      "Batch 0: D Loss: 0.9759095907211304, Generator Loss: 0.9364508390426636\n",
      "Batch 5: D Loss: 1.0672321319580078, Generator Loss: 0.991107702255249\n",
      "Batch 10: D Loss: 1.0728627443313599, Generator Loss: 0.9832137823104858\n"
     ]
    },
    {
     "name": "stderr",
     "output_type": "stream",
     "text": [
      " 17%|█▋        | 52/300 [01:43<08:11,  1.98s/it]"
     ]
    },
    {
     "name": "stdout",
     "output_type": "stream",
     "text": [
      "Batch 15: D Loss: 1.0119789838790894, Generator Loss: 0.9646763205528259\n",
      "Batch 0: D Loss: 0.9875479936599731, Generator Loss: 0.97328782081604\n",
      "Batch 5: D Loss: 0.9595466256141663, Generator Loss: 0.9472582936286926\n",
      "Batch 10: D Loss: 0.9714369773864746, Generator Loss: 0.9354761242866516\n"
     ]
    },
    {
     "name": "stderr",
     "output_type": "stream",
     "text": [
      " 18%|█▊        | 53/300 [01:45<08:09,  1.98s/it]"
     ]
    },
    {
     "name": "stdout",
     "output_type": "stream",
     "text": [
      "Batch 15: D Loss: 0.9829961061477661, Generator Loss: 0.9619539380073547\n",
      "Batch 0: D Loss: 0.9626833200454712, Generator Loss: 0.9806258082389832\n",
      "Batch 5: D Loss: 0.9343826770782471, Generator Loss: 0.9989181160926819\n",
      "Batch 10: D Loss: 0.9209893345832825, Generator Loss: 0.9994099140167236\n"
     ]
    },
    {
     "name": "stderr",
     "output_type": "stream",
     "text": [
      " 18%|█▊        | 54/300 [01:47<08:08,  1.99s/it]"
     ]
    },
    {
     "name": "stdout",
     "output_type": "stream",
     "text": [
      "Batch 15: D Loss: 0.9144797921180725, Generator Loss: 1.0021917819976807\n",
      "Batch 0: D Loss: 0.9166814088821411, Generator Loss: 1.0026371479034424\n",
      "Batch 5: D Loss: 0.9128804206848145, Generator Loss: 1.005034327507019\n",
      "Batch 10: D Loss: 0.9131371378898621, Generator Loss: 1.0089761018753052\n"
     ]
    },
    {
     "name": "stderr",
     "output_type": "stream",
     "text": [
      " 18%|█▊        | 55/300 [01:49<08:05,  1.98s/it]"
     ]
    },
    {
     "name": "stdout",
     "output_type": "stream",
     "text": [
      "Batch 15: D Loss: 0.9154074192047119, Generator Loss: 1.0092980861663818\n",
      "Batch 0: D Loss: 0.9102157950401306, Generator Loss: 1.0087226629257202\n",
      "Batch 5: D Loss: 0.9110397100448608, Generator Loss: 1.008665680885315\n",
      "Batch 10: D Loss: 0.912327766418457, Generator Loss: 1.0081102848052979\n"
     ]
    },
    {
     "name": "stderr",
     "output_type": "stream",
     "text": [
      " 19%|█▊        | 56/300 [01:51<08:04,  1.98s/it]"
     ]
    },
    {
     "name": "stdout",
     "output_type": "stream",
     "text": [
      "Batch 15: D Loss: 0.9145045280456543, Generator Loss: 1.0100120306015015\n",
      "Batch 0: D Loss: 0.912284255027771, Generator Loss: 1.0069935321807861\n",
      "Batch 5: D Loss: 0.9163104891777039, Generator Loss: 1.0077831745147705\n",
      "Batch 10: D Loss: 0.9278151392936707, Generator Loss: 0.999112606048584\n"
     ]
    },
    {
     "name": "stderr",
     "output_type": "stream",
     "text": [
      " 19%|█▉        | 57/300 [01:53<08:01,  1.98s/it]"
     ]
    },
    {
     "name": "stdout",
     "output_type": "stream",
     "text": [
      "Batch 15: D Loss: 0.9464513063430786, Generator Loss: 0.9957758784294128\n",
      "Batch 0: D Loss: 0.9377115964889526, Generator Loss: 0.9990852475166321\n",
      "Batch 5: D Loss: 0.9881969094276428, Generator Loss: 0.9970623254776001\n",
      "Batch 10: D Loss: 0.9934646487236023, Generator Loss: 0.9852249622344971\n"
     ]
    },
    {
     "name": "stderr",
     "output_type": "stream",
     "text": [
      " 19%|█▉        | 58/300 [01:55<07:58,  1.98s/it]"
     ]
    },
    {
     "name": "stdout",
     "output_type": "stream",
     "text": [
      "Batch 15: D Loss: 0.966221809387207, Generator Loss: 0.9817405343055725\n",
      "Batch 0: D Loss: 0.9953939318656921, Generator Loss: 0.9695795774459839\n",
      "Batch 5: D Loss: 0.9539584517478943, Generator Loss: 0.9957325458526611\n",
      "Batch 10: D Loss: 0.9448010921478271, Generator Loss: 0.9874351024627686\n"
     ]
    },
    {
     "name": "stderr",
     "output_type": "stream",
     "text": [
      " 20%|█▉        | 59/300 [01:57<07:55,  1.97s/it]"
     ]
    },
    {
     "name": "stdout",
     "output_type": "stream",
     "text": [
      "Batch 15: D Loss: 0.9449806213378906, Generator Loss: 0.9815653562545776\n",
      "Batch 0: D Loss: 0.9491623640060425, Generator Loss: 0.9849178791046143\n",
      "Batch 5: D Loss: 0.9390543103218079, Generator Loss: 0.9937747716903687\n",
      "Batch 10: D Loss: 0.9252560138702393, Generator Loss: 1.0032603740692139\n"
     ]
    },
    {
     "name": "stderr",
     "output_type": "stream",
     "text": [
      " 20%|██        | 60/300 [01:59<07:53,  1.97s/it]"
     ]
    },
    {
     "name": "stdout",
     "output_type": "stream",
     "text": [
      "Batch 15: D Loss: 0.9219672679901123, Generator Loss: 1.0018807649612427\n",
      "Batch 0: D Loss: 0.9188916683197021, Generator Loss: 1.0018213987350464\n",
      "Batch 5: D Loss: 0.9150591492652893, Generator Loss: 1.00620698928833\n",
      "Batch 10: D Loss: 0.9171737432479858, Generator Loss: 1.00929856300354\n"
     ]
    },
    {
     "name": "stderr",
     "output_type": "stream",
     "text": [
      " 20%|██        | 61/300 [02:01<07:51,  1.97s/it]"
     ]
    },
    {
     "name": "stdout",
     "output_type": "stream",
     "text": [
      "Batch 15: D Loss: 0.9153685569763184, Generator Loss: 1.0070881843566895\n",
      "Batch 0: D Loss: 0.9152666330337524, Generator Loss: 1.005892038345337\n",
      "Batch 5: D Loss: 0.916923999786377, Generator Loss: 1.007815957069397\n",
      "Batch 10: D Loss: 0.9143513441085815, Generator Loss: 1.008651852607727\n"
     ]
    },
    {
     "name": "stderr",
     "output_type": "stream",
     "text": [
      " 21%|██        | 62/300 [02:03<07:49,  1.97s/it]"
     ]
    },
    {
     "name": "stdout",
     "output_type": "stream",
     "text": [
      "Batch 15: D Loss: 0.917724609375, Generator Loss: 1.0044630765914917\n",
      "Batch 0: D Loss: 0.9157373309135437, Generator Loss: 1.0047314167022705\n",
      "Batch 5: D Loss: 0.9215284585952759, Generator Loss: 1.0145028829574585\n",
      "Batch 10: D Loss: 0.9179764986038208, Generator Loss: 1.0095103979110718\n"
     ]
    },
    {
     "name": "stderr",
     "output_type": "stream",
     "text": [
      " 21%|██        | 63/300 [02:05<07:47,  1.97s/it]"
     ]
    },
    {
     "name": "stdout",
     "output_type": "stream",
     "text": [
      "Batch 15: D Loss: 0.9304139614105225, Generator Loss: 0.9932423233985901\n",
      "Batch 0: D Loss: 0.9277310371398926, Generator Loss: 0.9996848702430725\n",
      "Batch 5: D Loss: 0.9189358949661255, Generator Loss: 1.005395770072937\n",
      "Batch 10: D Loss: 0.9296634197235107, Generator Loss: 1.007767677307129\n"
     ]
    },
    {
     "name": "stderr",
     "output_type": "stream",
     "text": [
      " 21%|██▏       | 64/300 [02:07<07:45,  1.97s/it]"
     ]
    },
    {
     "name": "stdout",
     "output_type": "stream",
     "text": [
      "Batch 15: D Loss: 0.9235344529151917, Generator Loss: 1.0055365562438965\n",
      "Batch 0: D Loss: 0.921873152256012, Generator Loss: 1.0081278085708618\n",
      "Batch 5: D Loss: 0.9143068194389343, Generator Loss: 1.0105798244476318\n",
      "Batch 10: D Loss: 0.9171682596206665, Generator Loss: 1.0044419765472412\n"
     ]
    },
    {
     "name": "stderr",
     "output_type": "stream",
     "text": [
      " 22%|██▏       | 65/300 [02:09<07:43,  1.97s/it]"
     ]
    },
    {
     "name": "stdout",
     "output_type": "stream",
     "text": [
      "Batch 15: D Loss: 0.9117906093597412, Generator Loss: 1.0142148733139038\n",
      "Batch 0: D Loss: 0.9092534184455872, Generator Loss: 1.0118952989578247\n",
      "Batch 5: D Loss: 0.9118844866752625, Generator Loss: 1.0099594593048096\n",
      "Batch 10: D Loss: 0.9115844964981079, Generator Loss: 1.0098934173583984\n"
     ]
    },
    {
     "name": "stderr",
     "output_type": "stream",
     "text": [
      " 22%|██▏       | 66/300 [02:11<07:41,  1.97s/it]"
     ]
    },
    {
     "name": "stdout",
     "output_type": "stream",
     "text": [
      "Batch 15: D Loss: 0.9204820394515991, Generator Loss: 1.0099624395370483\n",
      "Batch 0: D Loss: 0.908542275428772, Generator Loss: 1.0091826915740967\n",
      "Batch 5: D Loss: 0.9094989895820618, Generator Loss: 1.012300729751587\n",
      "Batch 10: D Loss: 0.9087794423103333, Generator Loss: 1.0138869285583496\n"
     ]
    },
    {
     "name": "stderr",
     "output_type": "stream",
     "text": [
      " 22%|██▏       | 67/300 [02:13<07:39,  1.97s/it]"
     ]
    },
    {
     "name": "stdout",
     "output_type": "stream",
     "text": [
      "Batch 15: D Loss: 0.9099913835525513, Generator Loss: 1.0148234367370605\n",
      "Batch 0: D Loss: 0.9080134034156799, Generator Loss: 1.0137267112731934\n",
      "Batch 5: D Loss: 0.9104671478271484, Generator Loss: 1.0154097080230713\n",
      "Batch 10: D Loss: 0.905099630355835, Generator Loss: 1.0163042545318604\n"
     ]
    },
    {
     "name": "stderr",
     "output_type": "stream",
     "text": [
      " 23%|██▎       | 68/300 [02:14<07:37,  1.97s/it]"
     ]
    },
    {
     "name": "stdout",
     "output_type": "stream",
     "text": [
      "Batch 15: D Loss: 0.9045960903167725, Generator Loss: 1.0168224573135376\n",
      "Batch 0: D Loss: 0.9083849191665649, Generator Loss: 1.0144002437591553\n",
      "Batch 5: D Loss: 0.9086636900901794, Generator Loss: 1.0141406059265137\n",
      "Batch 10: D Loss: 0.9123185276985168, Generator Loss: 1.0153491497039795\n"
     ]
    },
    {
     "name": "stderr",
     "output_type": "stream",
     "text": [
      " 23%|██▎       | 69/300 [02:16<07:35,  1.97s/it]"
     ]
    },
    {
     "name": "stdout",
     "output_type": "stream",
     "text": [
      "Batch 15: D Loss: 0.9180799722671509, Generator Loss: 1.0148459672927856\n",
      "Batch 0: D Loss: 0.909579873085022, Generator Loss: 1.012202501296997\n",
      "Batch 5: D Loss: 0.9100617170333862, Generator Loss: 1.014715313911438\n",
      "Batch 10: D Loss: 0.9083071947097778, Generator Loss: 1.0112693309783936\n"
     ]
    },
    {
     "name": "stderr",
     "output_type": "stream",
     "text": [
      " 23%|██▎       | 70/300 [02:18<07:32,  1.97s/it]"
     ]
    },
    {
     "name": "stdout",
     "output_type": "stream",
     "text": [
      "Batch 15: D Loss: 0.9123719334602356, Generator Loss: 1.0075751543045044\n",
      "Batch 0: D Loss: 0.9144506454467773, Generator Loss: 1.0050064325332642\n",
      "Batch 5: D Loss: 0.9396810531616211, Generator Loss: 0.9954046010971069\n",
      "Batch 10: D Loss: 0.9632563591003418, Generator Loss: 0.9932509660720825\n"
     ]
    },
    {
     "name": "stderr",
     "output_type": "stream",
     "text": [
      " 24%|██▎       | 71/300 [02:20<07:32,  1.97s/it]"
     ]
    },
    {
     "name": "stdout",
     "output_type": "stream",
     "text": [
      "Batch 15: D Loss: 1.0537358522415161, Generator Loss: 1.0144644975662231\n",
      "Batch 0: D Loss: 1.24677574634552, Generator Loss: 1.0142483711242676\n",
      "Batch 5: D Loss: 0.9339524507522583, Generator Loss: 1.0139942169189453\n",
      "Batch 10: D Loss: 0.9879344701766968, Generator Loss: 0.9398505687713623\n"
     ]
    },
    {
     "name": "stderr",
     "output_type": "stream",
     "text": [
      " 24%|██▍       | 72/300 [02:22<07:29,  1.97s/it]"
     ]
    },
    {
     "name": "stdout",
     "output_type": "stream",
     "text": [
      "Batch 15: D Loss: 0.9371715784072876, Generator Loss: 1.0147333145141602\n",
      "Batch 0: D Loss: 1.0371441841125488, Generator Loss: 1.0123928785324097\n",
      "Batch 5: D Loss: 0.9428042769432068, Generator Loss: 1.0054270029067993\n",
      "Batch 10: D Loss: 0.9190941452980042, Generator Loss: 1.0158032178878784\n"
     ]
    },
    {
     "name": "stderr",
     "output_type": "stream",
     "text": [
      " 24%|██▍       | 73/300 [02:24<07:27,  1.97s/it]"
     ]
    },
    {
     "name": "stdout",
     "output_type": "stream",
     "text": [
      "Batch 15: D Loss: 0.9235340356826782, Generator Loss: 1.0128294229507446\n",
      "Batch 0: D Loss: 0.9090664386749268, Generator Loss: 1.0070465803146362\n",
      "Batch 5: D Loss: 0.916650116443634, Generator Loss: 1.0011699199676514\n",
      "Batch 10: D Loss: 0.9025248289108276, Generator Loss: 1.0176935195922852\n"
     ]
    },
    {
     "name": "stderr",
     "output_type": "stream",
     "text": [
      " 25%|██▍       | 74/300 [02:26<07:26,  1.97s/it]"
     ]
    },
    {
     "name": "stdout",
     "output_type": "stream",
     "text": [
      "Batch 15: D Loss: 0.897186815738678, Generator Loss: 1.0221269130706787\n",
      "Batch 0: D Loss: 0.9039262533187866, Generator Loss: 1.0196423530578613\n",
      "Batch 5: D Loss: 0.9026637673377991, Generator Loss: 1.018784523010254\n",
      "Batch 10: D Loss: 0.8988454341888428, Generator Loss: 1.0179705619812012\n"
     ]
    },
    {
     "name": "stderr",
     "output_type": "stream",
     "text": [
      " 25%|██▌       | 75/300 [02:28<07:23,  1.97s/it]"
     ]
    },
    {
     "name": "stdout",
     "output_type": "stream",
     "text": [
      "Batch 15: D Loss: 0.9001290798187256, Generator Loss: 1.0158824920654297\n",
      "Batch 0: D Loss: 0.9008241891860962, Generator Loss: 1.013000726699829\n",
      "Batch 5: D Loss: 0.9018021821975708, Generator Loss: 1.0182795524597168\n",
      "Batch 10: D Loss: 0.9049113988876343, Generator Loss: 1.017367959022522\n"
     ]
    },
    {
     "name": "stderr",
     "output_type": "stream",
     "text": [
      " 25%|██▌       | 76/300 [02:30<07:22,  1.97s/it]"
     ]
    },
    {
     "name": "stdout",
     "output_type": "stream",
     "text": [
      "Batch 15: D Loss: 0.9244743585586548, Generator Loss: 1.0170774459838867\n",
      "Batch 0: D Loss: 0.9074769020080566, Generator Loss: 1.0130873918533325\n",
      "Batch 5: D Loss: 0.9200872778892517, Generator Loss: 1.0136158466339111\n",
      "Batch 10: D Loss: 0.9257444143295288, Generator Loss: 1.0112982988357544\n"
     ]
    },
    {
     "name": "stderr",
     "output_type": "stream",
     "text": [
      " 26%|██▌       | 77/300 [02:32<07:19,  1.97s/it]"
     ]
    },
    {
     "name": "stdout",
     "output_type": "stream",
     "text": [
      "Batch 15: D Loss: 0.919133186340332, Generator Loss: 1.016283392906189\n",
      "Batch 0: D Loss: 0.9078338742256165, Generator Loss: 1.0148084163665771\n",
      "Batch 5: D Loss: 0.904382586479187, Generator Loss: 1.0142178535461426\n",
      "Batch 10: D Loss: 0.9018067121505737, Generator Loss: 1.016557216644287\n"
     ]
    },
    {
     "name": "stderr",
     "output_type": "stream",
     "text": [
      " 26%|██▌       | 78/300 [02:34<07:24,  2.00s/it]"
     ]
    },
    {
     "name": "stdout",
     "output_type": "stream",
     "text": [
      "Batch 15: D Loss: 0.8998306393623352, Generator Loss: 1.0175584554672241\n",
      "Batch 0: D Loss: 0.8991128206253052, Generator Loss: 1.0167012214660645\n",
      "Batch 5: D Loss: 0.8999330997467041, Generator Loss: 1.0173141956329346\n",
      "Batch 10: D Loss: 0.8981286287307739, Generator Loss: 1.0176265239715576\n"
     ]
    },
    {
     "name": "stderr",
     "output_type": "stream",
     "text": [
      " 26%|██▋       | 79/300 [02:36<07:19,  1.99s/it]"
     ]
    },
    {
     "name": "stdout",
     "output_type": "stream",
     "text": [
      "Batch 15: D Loss: 0.8983266353607178, Generator Loss: 1.0182193517684937\n",
      "Batch 0: D Loss: 0.8971247673034668, Generator Loss: 1.0184657573699951\n",
      "Batch 5: D Loss: 0.8959082961082458, Generator Loss: 1.020923137664795\n",
      "Batch 10: D Loss: 0.8956096768379211, Generator Loss: 1.0218256711959839\n"
     ]
    },
    {
     "name": "stderr",
     "output_type": "stream",
     "text": [
      " 27%|██▋       | 80/300 [02:38<07:16,  1.98s/it]"
     ]
    },
    {
     "name": "stdout",
     "output_type": "stream",
     "text": [
      "Batch 15: D Loss: 0.8937291502952576, Generator Loss: 1.0218491554260254\n",
      "Batch 0: D Loss: 0.8951618671417236, Generator Loss: 1.0213565826416016\n",
      "Batch 5: D Loss: 0.8940368890762329, Generator Loss: 1.0216608047485352\n",
      "Batch 10: D Loss: 0.8937459588050842, Generator Loss: 1.0223352909088135\n"
     ]
    },
    {
     "name": "stderr",
     "output_type": "stream",
     "text": [
      " 27%|██▋       | 81/300 [02:40<07:14,  1.98s/it]"
     ]
    },
    {
     "name": "stdout",
     "output_type": "stream",
     "text": [
      "Batch 15: D Loss: 0.8936144113540649, Generator Loss: 1.0216869115829468\n",
      "Batch 0: D Loss: 0.893004298210144, Generator Loss: 1.0228798389434814\n",
      "Batch 5: D Loss: 0.891262412071228, Generator Loss: 1.0229697227478027\n",
      "Batch 10: D Loss: 0.8931637406349182, Generator Loss: 1.0219537019729614\n"
     ]
    },
    {
     "name": "stderr",
     "output_type": "stream",
     "text": [
      " 27%|██▋       | 82/300 [02:42<07:11,  1.98s/it]"
     ]
    },
    {
     "name": "stdout",
     "output_type": "stream",
     "text": [
      "Batch 15: D Loss: 0.891248345375061, Generator Loss: 1.0227904319763184\n",
      "Batch 0: D Loss: 0.8918291926383972, Generator Loss: 1.0244858264923096\n",
      "Batch 5: D Loss: 0.8912111520767212, Generator Loss: 1.0240862369537354\n",
      "Batch 10: D Loss: 0.8906447887420654, Generator Loss: 1.0256071090698242\n"
     ]
    },
    {
     "name": "stderr",
     "output_type": "stream",
     "text": [
      " 28%|██▊       | 83/300 [02:44<07:08,  1.97s/it]"
     ]
    },
    {
     "name": "stdout",
     "output_type": "stream",
     "text": [
      "Batch 15: D Loss: 0.8891198635101318, Generator Loss: 1.026962161064148\n",
      "Batch 0: D Loss: 0.889694333076477, Generator Loss: 1.0252363681793213\n",
      "Batch 5: D Loss: 0.8896303176879883, Generator Loss: 1.0252766609191895\n",
      "Batch 10: D Loss: 0.8893113136291504, Generator Loss: 1.026794672012329\n"
     ]
    },
    {
     "name": "stderr",
     "output_type": "stream",
     "text": [
      " 28%|██▊       | 84/300 [02:46<07:06,  1.98s/it]"
     ]
    },
    {
     "name": "stdout",
     "output_type": "stream",
     "text": [
      "Batch 15: D Loss: 0.8888170123100281, Generator Loss: 1.0261123180389404\n",
      "Batch 0: D Loss: 0.8890093564987183, Generator Loss: 1.0266351699829102\n",
      "Batch 5: D Loss: 0.8879433274269104, Generator Loss: 1.0262916088104248\n",
      "Batch 10: D Loss: 0.8871505856513977, Generator Loss: 1.0253393650054932\n"
     ]
    },
    {
     "name": "stderr",
     "output_type": "stream",
     "text": [
      " 28%|██▊       | 85/300 [02:48<07:05,  1.98s/it]"
     ]
    },
    {
     "name": "stdout",
     "output_type": "stream",
     "text": [
      "Batch 15: D Loss: 0.8889786005020142, Generator Loss: 1.0237425565719604\n",
      "Batch 0: D Loss: 0.8877115845680237, Generator Loss: 1.0275812149047852\n",
      "Batch 5: D Loss: 0.8873774409294128, Generator Loss: 1.0283594131469727\n",
      "Batch 10: D Loss: 0.8875942826271057, Generator Loss: 1.0277583599090576\n"
     ]
    },
    {
     "name": "stderr",
     "output_type": "stream",
     "text": [
      " 29%|██▊       | 86/300 [02:50<07:03,  1.98s/it]"
     ]
    },
    {
     "name": "stdout",
     "output_type": "stream",
     "text": [
      "Batch 15: D Loss: 0.8866723775863647, Generator Loss: 1.0268170833587646\n",
      "Batch 0: D Loss: 0.8874735236167908, Generator Loss: 1.0271891355514526\n",
      "Batch 5: D Loss: 0.8866821527481079, Generator Loss: 1.027543067932129\n",
      "Batch 10: D Loss: 0.886817216873169, Generator Loss: 1.027048110961914\n"
     ]
    },
    {
     "name": "stderr",
     "output_type": "stream",
     "text": [
      " 29%|██▉       | 87/300 [02:52<07:00,  1.97s/it]"
     ]
    },
    {
     "name": "stdout",
     "output_type": "stream",
     "text": [
      "Batch 15: D Loss: 0.8872314095497131, Generator Loss: 1.027470588684082\n",
      "Batch 0: D Loss: 0.8892643451690674, Generator Loss: 1.024718999862671\n",
      "Batch 5: D Loss: 0.8907275199890137, Generator Loss: 1.023342251777649\n",
      "Batch 10: D Loss: 0.8899455070495605, Generator Loss: 1.0221977233886719\n"
     ]
    },
    {
     "name": "stderr",
     "output_type": "stream",
     "text": [
      " 29%|██▉       | 88/300 [02:54<06:57,  1.97s/it]"
     ]
    },
    {
     "name": "stdout",
     "output_type": "stream",
     "text": [
      "Batch 15: D Loss: 0.8894523978233337, Generator Loss: 1.0288828611373901\n",
      "Batch 0: D Loss: 0.8904772996902466, Generator Loss: 1.0269912481307983\n",
      "Batch 5: D Loss: 0.8858749270439148, Generator Loss: 1.0284090042114258\n",
      "Batch 10: D Loss: 0.8853679895401001, Generator Loss: 1.0281938314437866\n"
     ]
    },
    {
     "name": "stderr",
     "output_type": "stream",
     "text": [
      " 30%|██▉       | 89/300 [02:56<06:54,  1.97s/it]"
     ]
    },
    {
     "name": "stdout",
     "output_type": "stream",
     "text": [
      "Batch 15: D Loss: 0.8847867250442505, Generator Loss: 1.029050350189209\n",
      "Batch 0: D Loss: 0.8851269483566284, Generator Loss: 1.0292943716049194\n",
      "Batch 5: D Loss: 0.8847517371177673, Generator Loss: 1.0294482707977295\n",
      "Batch 10: D Loss: 0.8843929171562195, Generator Loss: 1.0300754308700562\n"
     ]
    },
    {
     "name": "stderr",
     "output_type": "stream",
     "text": [
      " 30%|███       | 90/300 [02:58<06:52,  1.96s/it]"
     ]
    },
    {
     "name": "stdout",
     "output_type": "stream",
     "text": [
      "Batch 15: D Loss: 0.8843276500701904, Generator Loss: 1.029093623161316\n",
      "Batch 0: D Loss: 0.8837364315986633, Generator Loss: 1.0293910503387451\n",
      "Batch 5: D Loss: 0.8837944269180298, Generator Loss: 1.0294232368469238\n",
      "Batch 10: D Loss: 0.8828519582748413, Generator Loss: 1.0315794944763184\n"
     ]
    },
    {
     "name": "stderr",
     "output_type": "stream",
     "text": [
      " 30%|███       | 91/300 [03:00<06:51,  1.97s/it]"
     ]
    },
    {
     "name": "stdout",
     "output_type": "stream",
     "text": [
      "Batch 15: D Loss: 0.882551908493042, Generator Loss: 1.0312660932540894\n",
      "Batch 0: D Loss: 0.8828322887420654, Generator Loss: 1.0308268070220947\n",
      "Batch 5: D Loss: 0.8822158575057983, Generator Loss: 1.0320402383804321\n",
      "Batch 10: D Loss: 0.8818280696868896, Generator Loss: 1.032258152961731\n"
     ]
    },
    {
     "name": "stderr",
     "output_type": "stream",
     "text": [
      " 31%|███       | 92/300 [03:02<06:49,  1.97s/it]"
     ]
    },
    {
     "name": "stdout",
     "output_type": "stream",
     "text": [
      "Batch 15: D Loss: 0.8823441863059998, Generator Loss: 1.0309969186782837\n",
      "Batch 0: D Loss: 0.8819116353988647, Generator Loss: 1.0322086811065674\n",
      "Batch 5: D Loss: 0.8816657662391663, Generator Loss: 1.0327644348144531\n",
      "Batch 10: D Loss: 0.882178008556366, Generator Loss: 1.0331052541732788\n"
     ]
    },
    {
     "name": "stderr",
     "output_type": "stream",
     "text": [
      " 31%|███       | 93/300 [03:04<06:47,  1.97s/it]"
     ]
    },
    {
     "name": "stdout",
     "output_type": "stream",
     "text": [
      "Batch 15: D Loss: 0.8816123604774475, Generator Loss: 1.0332744121551514\n",
      "Batch 0: D Loss: 0.8829353451728821, Generator Loss: 1.0313525199890137\n",
      "Batch 5: D Loss: 0.8810281753540039, Generator Loss: 1.0329887866973877\n",
      "Batch 10: D Loss: 0.8829820156097412, Generator Loss: 1.0319862365722656\n"
     ]
    },
    {
     "name": "stderr",
     "output_type": "stream",
     "text": [
      " 31%|███▏      | 94/300 [03:06<06:45,  1.97s/it]"
     ]
    },
    {
     "name": "stdout",
     "output_type": "stream",
     "text": [
      "Batch 15: D Loss: 0.8827551603317261, Generator Loss: 1.0288798809051514\n",
      "Batch 0: D Loss: 0.8827696442604065, Generator Loss: 1.0321918725967407\n",
      "Batch 5: D Loss: 0.8814101815223694, Generator Loss: 1.0332162380218506\n",
      "Batch 10: D Loss: 0.8814724683761597, Generator Loss: 1.0326602458953857\n"
     ]
    },
    {
     "name": "stderr",
     "output_type": "stream",
     "text": [
      " 32%|███▏      | 95/300 [03:08<06:43,  1.97s/it]"
     ]
    },
    {
     "name": "stdout",
     "output_type": "stream",
     "text": [
      "Batch 15: D Loss: 0.8808797597885132, Generator Loss: 1.0325847864151\n",
      "Batch 0: D Loss: 0.8827779293060303, Generator Loss: 1.0314631462097168\n",
      "Batch 5: D Loss: 0.8833688497543335, Generator Loss: 1.0330164432525635\n",
      "Batch 10: D Loss: 0.8827781677246094, Generator Loss: 1.0325558185577393\n"
     ]
    },
    {
     "name": "stderr",
     "output_type": "stream",
     "text": [
      " 32%|███▏      | 96/300 [03:10<06:42,  1.97s/it]"
     ]
    },
    {
     "name": "stdout",
     "output_type": "stream",
     "text": [
      "Batch 15: D Loss: 0.8836248517036438, Generator Loss: 1.0296950340270996\n",
      "Batch 0: D Loss: 0.8834642767906189, Generator Loss: 1.0307118892669678\n",
      "Batch 5: D Loss: 0.8839698433876038, Generator Loss: 1.031701683998108\n",
      "Batch 10: D Loss: 0.8850770592689514, Generator Loss: 1.0278888940811157\n"
     ]
    },
    {
     "name": "stderr",
     "output_type": "stream",
     "text": [
      " 32%|███▏      | 97/300 [03:12<06:40,  1.97s/it]"
     ]
    },
    {
     "name": "stdout",
     "output_type": "stream",
     "text": [
      "Batch 15: D Loss: 0.9058053493499756, Generator Loss: 1.027552604675293\n",
      "Batch 0: D Loss: 0.8959429264068604, Generator Loss: 1.0321614742279053\n",
      "Batch 5: D Loss: 0.8949506282806396, Generator Loss: 1.0316276550292969\n",
      "Batch 10: D Loss: 0.9028582572937012, Generator Loss: 1.027569055557251\n"
     ]
    },
    {
     "name": "stderr",
     "output_type": "stream",
     "text": [
      " 33%|███▎      | 98/300 [03:14<06:37,  1.97s/it]"
     ]
    },
    {
     "name": "stdout",
     "output_type": "stream",
     "text": [
      "Batch 15: D Loss: 0.911687970161438, Generator Loss: 1.0301058292388916\n",
      "Batch 0: D Loss: 0.896560788154602, Generator Loss: 1.0208083391189575\n",
      "Batch 5: D Loss: 0.9025719165802002, Generator Loss: 1.0262999534606934\n",
      "Batch 10: D Loss: 0.9020889401435852, Generator Loss: 1.0270814895629883\n"
     ]
    },
    {
     "name": "stderr",
     "output_type": "stream",
     "text": [
      " 33%|███▎      | 99/300 [03:16<06:34,  1.96s/it]"
     ]
    },
    {
     "name": "stdout",
     "output_type": "stream",
     "text": [
      "Batch 15: D Loss: 0.9063283205032349, Generator Loss: 1.0258742570877075\n",
      "Batch 0: D Loss: 0.8981318473815918, Generator Loss: 1.0270570516586304\n",
      "Batch 5: D Loss: 0.8951910734176636, Generator Loss: 1.0177744626998901\n",
      "Batch 10: D Loss: 0.8884929418563843, Generator Loss: 1.029628038406372\n"
     ]
    },
    {
     "name": "stderr",
     "output_type": "stream",
     "text": [
      " 33%|███▎      | 100/300 [03:18<06:32,  1.96s/it]"
     ]
    },
    {
     "name": "stdout",
     "output_type": "stream",
     "text": [
      "Batch 15: D Loss: 0.891657829284668, Generator Loss: 1.0279810428619385\n",
      "Batch 0: D Loss: 0.8878340721130371, Generator Loss: 1.0288679599761963\n",
      "Batch 5: D Loss: 0.8865586519241333, Generator Loss: 1.0282752513885498\n",
      "Batch 10: D Loss: 0.886189341545105, Generator Loss: 1.0281790494918823\n"
     ]
    },
    {
     "name": "stderr",
     "output_type": "stream",
     "text": [
      " 34%|███▎      | 101/300 [03:20<06:31,  1.97s/it]"
     ]
    },
    {
     "name": "stdout",
     "output_type": "stream",
     "text": [
      "Batch 15: D Loss: 0.8835968971252441, Generator Loss: 1.032129168510437\n",
      "Batch 0: D Loss: 0.8851875066757202, Generator Loss: 1.0305614471435547\n",
      "Batch 5: D Loss: 0.8857573866844177, Generator Loss: 1.0296032428741455\n",
      "Batch 10: D Loss: 0.8868775367736816, Generator Loss: 1.030360460281372\n"
     ]
    },
    {
     "name": "stderr",
     "output_type": "stream",
     "text": [
      " 34%|███▍      | 102/300 [03:22<06:30,  1.97s/it]"
     ]
    },
    {
     "name": "stdout",
     "output_type": "stream",
     "text": [
      "Batch 15: D Loss: 0.8862738609313965, Generator Loss: 1.0271401405334473\n",
      "Batch 0: D Loss: 0.886928915977478, Generator Loss: 1.0278890132904053\n",
      "Batch 5: D Loss: 0.8889287710189819, Generator Loss: 1.0287790298461914\n",
      "Batch 10: D Loss: 0.8926906585693359, Generator Loss: 1.0309785604476929\n"
     ]
    },
    {
     "name": "stderr",
     "output_type": "stream",
     "text": [
      " 34%|███▍      | 103/300 [03:24<06:27,  1.97s/it]"
     ]
    },
    {
     "name": "stdout",
     "output_type": "stream",
     "text": [
      "Batch 15: D Loss: 0.8970674276351929, Generator Loss: 1.0249638557434082\n",
      "Batch 0: D Loss: 0.8987740874290466, Generator Loss: 1.0299241542816162\n",
      "Batch 5: D Loss: 0.9202858209609985, Generator Loss: 1.0262360572814941\n",
      "Batch 10: D Loss: 0.9280716180801392, Generator Loss: 1.0118122100830078\n"
     ]
    },
    {
     "name": "stderr",
     "output_type": "stream",
     "text": [
      " 35%|███▍      | 104/300 [03:25<06:25,  1.97s/it]"
     ]
    },
    {
     "name": "stdout",
     "output_type": "stream",
     "text": [
      "Batch 15: D Loss: 0.902890145778656, Generator Loss: 1.0271331071853638\n",
      "Batch 0: D Loss: 0.9179754853248596, Generator Loss: 1.025777816772461\n",
      "Batch 5: D Loss: 0.8964083194732666, Generator Loss: 1.020616054534912\n",
      "Batch 10: D Loss: 0.8933933973312378, Generator Loss: 1.025012731552124\n"
     ]
    },
    {
     "name": "stderr",
     "output_type": "stream",
     "text": [
      " 35%|███▌      | 105/300 [03:27<06:23,  1.97s/it]"
     ]
    },
    {
     "name": "stdout",
     "output_type": "stream",
     "text": [
      "Batch 15: D Loss: 0.889417290687561, Generator Loss: 1.028762698173523\n",
      "Batch 0: D Loss: 0.8894694447517395, Generator Loss: 1.0279101133346558\n",
      "Batch 5: D Loss: 0.8920528888702393, Generator Loss: 1.0291476249694824\n",
      "Batch 10: D Loss: 0.8902703523635864, Generator Loss: 1.0210306644439697\n"
     ]
    },
    {
     "name": "stderr",
     "output_type": "stream",
     "text": [
      " 35%|███▌      | 106/300 [03:29<06:22,  1.97s/it]"
     ]
    },
    {
     "name": "stdout",
     "output_type": "stream",
     "text": [
      "Batch 15: D Loss: 0.8950047492980957, Generator Loss: 1.025377631187439\n",
      "Batch 0: D Loss: 0.8882725834846497, Generator Loss: 1.0289640426635742\n",
      "Batch 5: D Loss: 0.8895661234855652, Generator Loss: 1.0291204452514648\n",
      "Batch 10: D Loss: 0.886876106262207, Generator Loss: 1.0270030498504639\n"
     ]
    },
    {
     "name": "stderr",
     "output_type": "stream",
     "text": [
      " 36%|███▌      | 107/300 [03:31<06:20,  1.97s/it]"
     ]
    },
    {
     "name": "stdout",
     "output_type": "stream",
     "text": [
      "Batch 15: D Loss: 0.886040985584259, Generator Loss: 1.0295213460922241\n",
      "Batch 0: D Loss: 0.8865129947662354, Generator Loss: 1.028442144393921\n",
      "Batch 5: D Loss: 0.8879132270812988, Generator Loss: 1.028763771057129\n",
      "Batch 10: D Loss: 0.8844828605651855, Generator Loss: 1.0298676490783691\n"
     ]
    },
    {
     "name": "stderr",
     "output_type": "stream",
     "text": [
      " 36%|███▌      | 108/300 [03:33<06:18,  1.97s/it]"
     ]
    },
    {
     "name": "stdout",
     "output_type": "stream",
     "text": [
      "Batch 15: D Loss: 0.8841263055801392, Generator Loss: 1.0305874347686768\n",
      "Batch 0: D Loss: 0.8841913938522339, Generator Loss: 1.0303568840026855\n",
      "Batch 5: D Loss: 0.883574366569519, Generator Loss: 1.0281099081039429\n",
      "Batch 10: D Loss: 0.8833160996437073, Generator Loss: 1.0315154790878296\n"
     ]
    },
    {
     "name": "stderr",
     "output_type": "stream",
     "text": [
      " 36%|███▋      | 109/300 [03:35<06:16,  1.97s/it]"
     ]
    },
    {
     "name": "stdout",
     "output_type": "stream",
     "text": [
      "Batch 15: D Loss: 0.8818931579589844, Generator Loss: 1.0342007875442505\n",
      "Batch 0: D Loss: 0.8817030787467957, Generator Loss: 1.0319626331329346\n",
      "Batch 5: D Loss: 0.8814757466316223, Generator Loss: 1.0324065685272217\n",
      "Batch 10: D Loss: 0.8817282319068909, Generator Loss: 1.0316781997680664\n"
     ]
    },
    {
     "name": "stderr",
     "output_type": "stream",
     "text": [
      " 37%|███▋      | 110/300 [03:37<06:14,  1.97s/it]"
     ]
    },
    {
     "name": "stdout",
     "output_type": "stream",
     "text": [
      "Batch 15: D Loss: 0.8800341486930847, Generator Loss: 1.0334328413009644\n",
      "Batch 0: D Loss: 0.8816654682159424, Generator Loss: 1.0337648391723633\n",
      "Batch 5: D Loss: 0.8817018866539001, Generator Loss: 1.0320603847503662\n",
      "Batch 10: D Loss: 0.881818950176239, Generator Loss: 1.0325477123260498\n"
     ]
    },
    {
     "name": "stderr",
     "output_type": "stream",
     "text": [
      " 37%|███▋      | 111/300 [03:39<06:13,  1.97s/it]"
     ]
    },
    {
     "name": "stdout",
     "output_type": "stream",
     "text": [
      "Batch 15: D Loss: 0.8806959390640259, Generator Loss: 1.0344513654708862\n",
      "Batch 0: D Loss: 0.880308985710144, Generator Loss: 1.0330541133880615\n",
      "Batch 5: D Loss: 0.8812096118927002, Generator Loss: 1.0323785543441772\n",
      "Batch 10: D Loss: 0.8813591003417969, Generator Loss: 1.033889889717102\n"
     ]
    },
    {
     "name": "stderr",
     "output_type": "stream",
     "text": [
      " 37%|███▋      | 112/300 [03:41<06:11,  1.98s/it]"
     ]
    },
    {
     "name": "stdout",
     "output_type": "stream",
     "text": [
      "Batch 15: D Loss: 0.8796558380126953, Generator Loss: 1.033874750137329\n",
      "Batch 0: D Loss: 0.8808295726776123, Generator Loss: 1.0341358184814453\n",
      "Batch 5: D Loss: 0.8803925514221191, Generator Loss: 1.033043384552002\n",
      "Batch 10: D Loss: 0.8803049325942993, Generator Loss: 1.0330427885055542\n"
     ]
    },
    {
     "name": "stderr",
     "output_type": "stream",
     "text": [
      " 38%|███▊      | 113/300 [03:43<06:09,  1.98s/it]"
     ]
    },
    {
     "name": "stdout",
     "output_type": "stream",
     "text": [
      "Batch 15: D Loss: 0.8820239305496216, Generator Loss: 1.0320689678192139\n",
      "Batch 0: D Loss: 0.8818037509918213, Generator Loss: 1.0325491428375244\n",
      "Batch 5: D Loss: 0.8818113803863525, Generator Loss: 1.0315852165222168\n",
      "Batch 10: D Loss: 0.882028341293335, Generator Loss: 1.0324153900146484\n"
     ]
    },
    {
     "name": "stderr",
     "output_type": "stream",
     "text": [
      " 38%|███▊      | 114/300 [03:45<06:07,  1.97s/it]"
     ]
    },
    {
     "name": "stdout",
     "output_type": "stream",
     "text": [
      "Batch 15: D Loss: 0.8896991014480591, Generator Loss: 1.0284044742584229\n",
      "Batch 0: D Loss: 0.8866438865661621, Generator Loss: 1.031554937362671\n",
      "Batch 5: D Loss: 0.8889901638031006, Generator Loss: 1.0301711559295654\n",
      "Batch 10: D Loss: 0.896555483341217, Generator Loss: 1.03018319606781\n"
     ]
    },
    {
     "name": "stderr",
     "output_type": "stream",
     "text": [
      " 38%|███▊      | 115/300 [03:47<06:04,  1.97s/it]"
     ]
    },
    {
     "name": "stdout",
     "output_type": "stream",
     "text": [
      "Batch 15: D Loss: 0.8809648752212524, Generator Loss: 1.0377689599990845\n",
      "Batch 0: D Loss: 0.8815408945083618, Generator Loss: 1.0342334508895874\n",
      "Batch 5: D Loss: 0.8802099227905273, Generator Loss: 1.0355730056762695\n",
      "Batch 10: D Loss: 0.8792008757591248, Generator Loss: 1.03551185131073\n"
     ]
    },
    {
     "name": "stderr",
     "output_type": "stream",
     "text": [
      " 39%|███▊      | 116/300 [03:49<06:03,  1.98s/it]"
     ]
    },
    {
     "name": "stdout",
     "output_type": "stream",
     "text": [
      "Batch 15: D Loss: 0.8770852088928223, Generator Loss: 1.0384409427642822\n",
      "Batch 0: D Loss: 0.8789594173431396, Generator Loss: 1.0362660884857178\n",
      "Batch 5: D Loss: 0.8778986930847168, Generator Loss: 1.0364842414855957\n",
      "Batch 10: D Loss: 0.8773643970489502, Generator Loss: 1.0377925634384155\n"
     ]
    },
    {
     "name": "stderr",
     "output_type": "stream",
     "text": [
      " 39%|███▉      | 117/300 [03:51<06:01,  1.98s/it]"
     ]
    },
    {
     "name": "stdout",
     "output_type": "stream",
     "text": [
      "Batch 15: D Loss: 0.875673770904541, Generator Loss: 1.0380200147628784\n",
      "Batch 0: D Loss: 0.8766371011734009, Generator Loss: 1.0381217002868652\n",
      "Batch 5: D Loss: 0.8762105107307434, Generator Loss: 1.0377519130706787\n",
      "Batch 10: D Loss: 0.8753843903541565, Generator Loss: 1.0384457111358643\n"
     ]
    },
    {
     "name": "stderr",
     "output_type": "stream",
     "text": [
      " 39%|███▉      | 118/300 [03:53<05:58,  1.97s/it]"
     ]
    },
    {
     "name": "stdout",
     "output_type": "stream",
     "text": [
      "Batch 15: D Loss: 0.8753774762153625, Generator Loss: 1.038980484008789\n",
      "Batch 0: D Loss: 0.8753475546836853, Generator Loss: 1.0386801958084106\n",
      "Batch 5: D Loss: 0.8757284879684448, Generator Loss: 1.0383827686309814\n",
      "Batch 10: D Loss: 0.8751197457313538, Generator Loss: 1.0389528274536133\n"
     ]
    },
    {
     "name": "stderr",
     "output_type": "stream",
     "text": [
      " 40%|███▉      | 119/300 [03:55<05:57,  1.97s/it]"
     ]
    },
    {
     "name": "stdout",
     "output_type": "stream",
     "text": [
      "Batch 15: D Loss: 0.8744781613349915, Generator Loss: 1.039164423942566\n",
      "Batch 0: D Loss: 0.874760091304779, Generator Loss: 1.0402491092681885\n",
      "Batch 5: D Loss: 0.873638391494751, Generator Loss: 1.040676236152649\n",
      "Batch 10: D Loss: 0.8739426136016846, Generator Loss: 1.0402506589889526\n"
     ]
    },
    {
     "name": "stderr",
     "output_type": "stream",
     "text": [
      " 40%|████      | 120/300 [03:57<05:54,  1.97s/it]"
     ]
    },
    {
     "name": "stdout",
     "output_type": "stream",
     "text": [
      "Batch 15: D Loss: 0.8735367059707642, Generator Loss: 1.041609287261963\n",
      "Batch 0: D Loss: 0.8733152151107788, Generator Loss: 1.0410020351409912\n",
      "Batch 5: D Loss: 0.8732824325561523, Generator Loss: 1.0397531986236572\n",
      "Batch 10: D Loss: 0.8734591007232666, Generator Loss: 1.0409303903579712\n"
     ]
    },
    {
     "name": "stderr",
     "output_type": "stream",
     "text": [
      " 40%|████      | 121/300 [03:59<05:53,  1.98s/it]"
     ]
    },
    {
     "name": "stdout",
     "output_type": "stream",
     "text": [
      "Batch 15: D Loss: 0.8739911317825317, Generator Loss: 1.0405046939849854\n",
      "Batch 0: D Loss: 0.8734780550003052, Generator Loss: 1.0403883457183838\n",
      "Batch 5: D Loss: 0.8728330135345459, Generator Loss: 1.04046630859375\n",
      "Batch 10: D Loss: 0.8736360669136047, Generator Loss: 1.0401008129119873\n"
     ]
    },
    {
     "name": "stderr",
     "output_type": "stream",
     "text": [
      " 41%|████      | 122/300 [04:01<05:51,  1.98s/it]"
     ]
    },
    {
     "name": "stdout",
     "output_type": "stream",
     "text": [
      "Batch 15: D Loss: 0.8723187446594238, Generator Loss: 1.0418789386749268\n",
      "Batch 0: D Loss: 0.8734560608863831, Generator Loss: 1.0404011011123657\n",
      "Batch 5: D Loss: 0.873721182346344, Generator Loss: 1.0404353141784668\n",
      "Batch 10: D Loss: 0.873238205909729, Generator Loss: 1.0398895740509033\n"
     ]
    },
    {
     "name": "stderr",
     "output_type": "stream",
     "text": [
      " 41%|████      | 123/300 [04:03<05:50,  1.98s/it]"
     ]
    },
    {
     "name": "stdout",
     "output_type": "stream",
     "text": [
      "Batch 15: D Loss: 0.8717585802078247, Generator Loss: 1.0396831035614014\n",
      "Batch 0: D Loss: 0.8730561137199402, Generator Loss: 1.040315866470337\n",
      "Batch 5: D Loss: 0.8728594779968262, Generator Loss: 1.040823221206665\n",
      "Batch 10: D Loss: 0.8719491958618164, Generator Loss: 1.040986180305481\n"
     ]
    },
    {
     "name": "stderr",
     "output_type": "stream",
     "text": [
      " 41%|████▏     | 124/300 [04:05<05:47,  1.98s/it]"
     ]
    },
    {
     "name": "stdout",
     "output_type": "stream",
     "text": [
      "Batch 15: D Loss: 0.8722400665283203, Generator Loss: 1.0391850471496582\n",
      "Batch 0: D Loss: 0.8726212382316589, Generator Loss: 1.0403273105621338\n",
      "Batch 5: D Loss: 0.8719725608825684, Generator Loss: 1.0410845279693604\n",
      "Batch 10: D Loss: 0.8724132776260376, Generator Loss: 1.0408923625946045\n"
     ]
    },
    {
     "name": "stderr",
     "output_type": "stream",
     "text": [
      " 42%|████▏     | 125/300 [04:07<05:45,  1.97s/it]"
     ]
    },
    {
     "name": "stdout",
     "output_type": "stream",
     "text": [
      "Batch 15: D Loss: 0.8718875646591187, Generator Loss: 1.04042649269104\n",
      "Batch 0: D Loss: 0.872203528881073, Generator Loss: 1.0408148765563965\n",
      "Batch 5: D Loss: 0.8717120289802551, Generator Loss: 1.0418498516082764\n",
      "Batch 10: D Loss: 0.8720681071281433, Generator Loss: 1.040661096572876\n"
     ]
    },
    {
     "name": "stderr",
     "output_type": "stream",
     "text": [
      " 42%|████▏     | 126/300 [04:09<05:44,  1.98s/it]"
     ]
    },
    {
     "name": "stdout",
     "output_type": "stream",
     "text": [
      "Batch 15: D Loss: 0.870978593826294, Generator Loss: 1.0417457818984985\n",
      "Batch 0: D Loss: 0.8721259832382202, Generator Loss: 1.041086196899414\n",
      "Batch 5: D Loss: 0.8718982934951782, Generator Loss: 1.0411537885665894\n",
      "Batch 10: D Loss: 0.8720739483833313, Generator Loss: 1.0412178039550781\n"
     ]
    },
    {
     "name": "stderr",
     "output_type": "stream",
     "text": [
      " 42%|████▏     | 127/300 [04:11<05:41,  1.97s/it]"
     ]
    },
    {
     "name": "stdout",
     "output_type": "stream",
     "text": [
      "Batch 15: D Loss: 0.871769905090332, Generator Loss: 1.041455864906311\n",
      "Batch 0: D Loss: 0.8722271919250488, Generator Loss: 1.0410995483398438\n",
      "Batch 5: D Loss: 0.8722079992294312, Generator Loss: 1.0414836406707764\n",
      "Batch 10: D Loss: 0.8708056211471558, Generator Loss: 1.041372299194336\n"
     ]
    },
    {
     "name": "stderr",
     "output_type": "stream",
     "text": [
      " 43%|████▎     | 128/300 [04:13<05:39,  1.97s/it]"
     ]
    },
    {
     "name": "stdout",
     "output_type": "stream",
     "text": [
      "Batch 15: D Loss: 0.8712500333786011, Generator Loss: 1.0403378009796143\n",
      "Batch 0: D Loss: 0.8712297677993774, Generator Loss: 1.0419385433197021\n",
      "Batch 5: D Loss: 0.8714625239372253, Generator Loss: 1.0414820909500122\n",
      "Batch 10: D Loss: 0.8712722659111023, Generator Loss: 1.0416696071624756\n"
     ]
    },
    {
     "name": "stderr",
     "output_type": "stream",
     "text": [
      " 43%|████▎     | 129/300 [04:15<05:37,  1.97s/it]"
     ]
    },
    {
     "name": "stdout",
     "output_type": "stream",
     "text": [
      "Batch 15: D Loss: 0.8699623346328735, Generator Loss: 1.0432356595993042\n",
      "Batch 0: D Loss: 0.8715356588363647, Generator Loss: 1.0408692359924316\n",
      "Batch 5: D Loss: 0.8709456920623779, Generator Loss: 1.042206048965454\n",
      "Batch 10: D Loss: 0.871468186378479, Generator Loss: 1.04184889793396\n"
     ]
    },
    {
     "name": "stderr",
     "output_type": "stream",
     "text": [
      " 43%|████▎     | 130/300 [04:17<05:34,  1.97s/it]"
     ]
    },
    {
     "name": "stdout",
     "output_type": "stream",
     "text": [
      "Batch 15: D Loss: 0.8712062239646912, Generator Loss: 1.0411731004714966\n",
      "Batch 0: D Loss: 0.8705856800079346, Generator Loss: 1.0411533117294312\n",
      "Batch 5: D Loss: 0.8710240125656128, Generator Loss: 1.0415608882904053\n",
      "Batch 10: D Loss: 0.8707273006439209, Generator Loss: 1.0419821739196777\n"
     ]
    },
    {
     "name": "stderr",
     "output_type": "stream",
     "text": [
      " 44%|████▎     | 131/300 [04:19<05:33,  1.97s/it]"
     ]
    },
    {
     "name": "stdout",
     "output_type": "stream",
     "text": [
      "Batch 15: D Loss: 0.8707246780395508, Generator Loss: 1.0430197715759277\n",
      "Batch 0: D Loss: 0.8707491755485535, Generator Loss: 1.041652798652649\n",
      "Batch 5: D Loss: 0.8698022961616516, Generator Loss: 1.0423784255981445\n",
      "Batch 10: D Loss: 0.8702405691146851, Generator Loss: 1.0413992404937744\n"
     ]
    },
    {
     "name": "stderr",
     "output_type": "stream",
     "text": [
      " 44%|████▍     | 132/300 [04:21<05:31,  1.97s/it]"
     ]
    },
    {
     "name": "stdout",
     "output_type": "stream",
     "text": [
      "Batch 15: D Loss: 0.8707515001296997, Generator Loss: 1.0429880619049072\n",
      "Batch 0: D Loss: 0.8701359033584595, Generator Loss: 1.0424901247024536\n",
      "Batch 5: D Loss: 0.8709410429000854, Generator Loss: 1.0430073738098145\n",
      "Batch 10: D Loss: 0.8705517053604126, Generator Loss: 1.041884422302246\n"
     ]
    },
    {
     "name": "stderr",
     "output_type": "stream",
     "text": [
      " 44%|████▍     | 133/300 [04:23<05:29,  1.97s/it]"
     ]
    },
    {
     "name": "stdout",
     "output_type": "stream",
     "text": [
      "Batch 15: D Loss: 0.8695929646492004, Generator Loss: 1.0429240465164185\n",
      "Batch 0: D Loss: 0.8698539733886719, Generator Loss: 1.0427213907241821\n",
      "Batch 5: D Loss: 0.870175838470459, Generator Loss: 1.0425233840942383\n",
      "Batch 10: D Loss: 0.8701214790344238, Generator Loss: 1.0419148206710815\n"
     ]
    },
    {
     "name": "stderr",
     "output_type": "stream",
     "text": [
      " 45%|████▍     | 134/300 [04:25<05:27,  1.97s/it]"
     ]
    },
    {
     "name": "stdout",
     "output_type": "stream",
     "text": [
      "Batch 15: D Loss: 0.8694251775741577, Generator Loss: 1.0403742790222168\n",
      "Batch 0: D Loss: 0.8707902431488037, Generator Loss: 1.0419702529907227\n",
      "Batch 5: D Loss: 0.8699988126754761, Generator Loss: 1.0419516563415527\n",
      "Batch 10: D Loss: 0.8705117702484131, Generator Loss: 1.041641116142273\n"
     ]
    },
    {
     "name": "stderr",
     "output_type": "stream",
     "text": [
      " 45%|████▌     | 135/300 [04:27<05:24,  1.97s/it]"
     ]
    },
    {
     "name": "stdout",
     "output_type": "stream",
     "text": [
      "Batch 15: D Loss: 0.8706201314926147, Generator Loss: 1.0411230325698853\n",
      "Batch 0: D Loss: 0.8704467415809631, Generator Loss: 1.0418356657028198\n",
      "Batch 5: D Loss: 0.8704355955123901, Generator Loss: 1.041973352432251\n",
      "Batch 10: D Loss: 0.8714499473571777, Generator Loss: 1.0402514934539795\n"
     ]
    },
    {
     "name": "stderr",
     "output_type": "stream",
     "text": [
      " 45%|████▌     | 136/300 [04:29<05:23,  1.97s/it]"
     ]
    },
    {
     "name": "stdout",
     "output_type": "stream",
     "text": [
      "Batch 15: D Loss: 0.8711438179016113, Generator Loss: 1.039370059967041\n",
      "Batch 0: D Loss: 0.8714457154273987, Generator Loss: 1.0408531427383423\n",
      "Batch 5: D Loss: 0.8709450364112854, Generator Loss: 1.0411243438720703\n",
      "Batch 10: D Loss: 0.87134850025177, Generator Loss: 1.0395667552947998\n"
     ]
    },
    {
     "name": "stderr",
     "output_type": "stream",
     "text": [
      " 46%|████▌     | 137/300 [04:31<05:21,  1.97s/it]"
     ]
    },
    {
     "name": "stdout",
     "output_type": "stream",
     "text": [
      "Batch 15: D Loss: 0.8734103441238403, Generator Loss: 1.0352962017059326\n",
      "Batch 0: D Loss: 0.8724226951599121, Generator Loss: 1.0403608083724976\n",
      "Batch 5: D Loss: 0.8760133981704712, Generator Loss: 1.0360755920410156\n",
      "Batch 10: D Loss: 0.875098705291748, Generator Loss: 1.0368430614471436\n"
     ]
    },
    {
     "name": "stderr",
     "output_type": "stream",
     "text": [
      " 46%|████▌     | 138/300 [04:33<05:19,  1.97s/it]"
     ]
    },
    {
     "name": "stdout",
     "output_type": "stream",
     "text": [
      "Batch 15: D Loss: 0.8798549771308899, Generator Loss: 1.0385701656341553\n",
      "Batch 0: D Loss: 0.8778886795043945, Generator Loss: 1.0341832637786865\n",
      "Batch 5: D Loss: 0.8854274153709412, Generator Loss: 1.0312917232513428\n",
      "Batch 10: D Loss: 0.9172744750976562, Generator Loss: 1.0143020153045654\n"
     ]
    },
    {
     "name": "stderr",
     "output_type": "stream",
     "text": [
      " 46%|████▋     | 139/300 [04:35<05:16,  1.97s/it]"
     ]
    },
    {
     "name": "stdout",
     "output_type": "stream",
     "text": [
      "Batch 15: D Loss: 0.8945225477218628, Generator Loss: 1.0243223905563354\n",
      "Batch 0: D Loss: 0.90822434425354, Generator Loss: 1.0180890560150146\n",
      "Batch 5: D Loss: 0.9230377674102783, Generator Loss: 1.016974925994873\n",
      "Batch 10: D Loss: 0.9352291822433472, Generator Loss: 1.0245869159698486\n"
     ]
    },
    {
     "name": "stderr",
     "output_type": "stream",
     "text": [
      " 47%|████▋     | 140/300 [04:37<05:15,  1.97s/it]"
     ]
    },
    {
     "name": "stdout",
     "output_type": "stream",
     "text": [
      "Batch 15: D Loss: 0.8941435813903809, Generator Loss: 1.034873127937317\n",
      "Batch 0: D Loss: 0.8908231854438782, Generator Loss: 1.0372518301010132\n",
      "Batch 5: D Loss: 0.8826562166213989, Generator Loss: 1.036374568939209\n",
      "Batch 10: D Loss: 0.8819909691810608, Generator Loss: 1.0324283838272095\n"
     ]
    },
    {
     "name": "stderr",
     "output_type": "stream",
     "text": [
      " 47%|████▋     | 141/300 [04:38<05:13,  1.97s/it]"
     ]
    },
    {
     "name": "stdout",
     "output_type": "stream",
     "text": [
      "Batch 15: D Loss: 0.8859864473342896, Generator Loss: 1.032482624053955\n",
      "Batch 0: D Loss: 0.878400981426239, Generator Loss: 1.037087321281433\n",
      "Batch 5: D Loss: 0.8769779205322266, Generator Loss: 1.040010690689087\n",
      "Batch 10: D Loss: 0.8763941526412964, Generator Loss: 1.041113018989563\n"
     ]
    },
    {
     "name": "stderr",
     "output_type": "stream",
     "text": [
      " 47%|████▋     | 142/300 [04:40<05:11,  1.97s/it]"
     ]
    },
    {
     "name": "stdout",
     "output_type": "stream",
     "text": [
      "Batch 15: D Loss: 0.8754895925521851, Generator Loss: 1.043599009513855\n",
      "Batch 0: D Loss: 0.8745434284210205, Generator Loss: 1.042751669883728\n",
      "Batch 5: D Loss: 0.8732305765151978, Generator Loss: 1.042440414428711\n",
      "Batch 10: D Loss: 0.8740835189819336, Generator Loss: 1.0417404174804688\n"
     ]
    },
    {
     "name": "stderr",
     "output_type": "stream",
     "text": [
      " 48%|████▊     | 143/300 [04:42<05:09,  1.97s/it]"
     ]
    },
    {
     "name": "stdout",
     "output_type": "stream",
     "text": [
      "Batch 15: D Loss: 0.874165415763855, Generator Loss: 1.0438050031661987\n",
      "Batch 0: D Loss: 0.8723263144493103, Generator Loss: 1.0425915718078613\n",
      "Batch 5: D Loss: 0.8705596327781677, Generator Loss: 1.0448987483978271\n",
      "Batch 10: D Loss: 0.8704279661178589, Generator Loss: 1.044137716293335\n"
     ]
    },
    {
     "name": "stderr",
     "output_type": "stream",
     "text": [
      " 48%|████▊     | 144/300 [04:44<05:07,  1.97s/it]"
     ]
    },
    {
     "name": "stdout",
     "output_type": "stream",
     "text": [
      "Batch 15: D Loss: 0.8727817535400391, Generator Loss: 1.0415335893630981\n",
      "Batch 0: D Loss: 0.8710291385650635, Generator Loss: 1.045791506767273\n",
      "Batch 5: D Loss: 0.8703118562698364, Generator Loss: 1.0469775199890137\n",
      "Batch 10: D Loss: 0.8711831569671631, Generator Loss: 1.0448139905929565\n"
     ]
    },
    {
     "name": "stderr",
     "output_type": "stream",
     "text": [
      " 48%|████▊     | 145/300 [04:46<05:04,  1.97s/it]"
     ]
    },
    {
     "name": "stdout",
     "output_type": "stream",
     "text": [
      "Batch 15: D Loss: 0.8700542449951172, Generator Loss: 1.0436190366744995\n",
      "Batch 0: D Loss: 0.8703698515892029, Generator Loss: 1.0441867113113403\n",
      "Batch 5: D Loss: 0.8716099858283997, Generator Loss: 1.0433536767959595\n",
      "Batch 10: D Loss: 0.8712635040283203, Generator Loss: 1.0439813137054443\n"
     ]
    },
    {
     "name": "stderr",
     "output_type": "stream",
     "text": [
      " 49%|████▊     | 146/300 [04:48<05:03,  1.97s/it]"
     ]
    },
    {
     "name": "stdout",
     "output_type": "stream",
     "text": [
      "Batch 15: D Loss: 0.8801895380020142, Generator Loss: 1.0326205492019653\n",
      "Batch 0: D Loss: 0.8710736036300659, Generator Loss: 1.043968915939331\n",
      "Batch 5: D Loss: 0.8756283521652222, Generator Loss: 1.0425974130630493\n",
      "Batch 10: D Loss: 0.8731292486190796, Generator Loss: 1.0414965152740479\n"
     ]
    },
    {
     "name": "stderr",
     "output_type": "stream",
     "text": [
      " 49%|████▉     | 147/300 [04:50<05:01,  1.97s/it]"
     ]
    },
    {
     "name": "stdout",
     "output_type": "stream",
     "text": [
      "Batch 15: D Loss: 0.8744519948959351, Generator Loss: 1.0420364141464233\n",
      "Batch 0: D Loss: 0.8782227039337158, Generator Loss: 1.0396206378936768\n",
      "Batch 5: D Loss: 0.8768574595451355, Generator Loss: 1.041667103767395\n",
      "Batch 10: D Loss: 0.8802703022956848, Generator Loss: 1.0376951694488525\n"
     ]
    },
    {
     "name": "stderr",
     "output_type": "stream",
     "text": [
      " 49%|████▉     | 148/300 [04:52<04:59,  1.97s/it]"
     ]
    },
    {
     "name": "stdout",
     "output_type": "stream",
     "text": [
      "Batch 15: D Loss: 0.8926945924758911, Generator Loss: 1.0255478620529175\n",
      "Batch 0: D Loss: 0.8807369470596313, Generator Loss: 1.0345189571380615\n",
      "Batch 5: D Loss: 0.9126132130622864, Generator Loss: 1.0218943357467651\n",
      "Batch 10: D Loss: 0.8810936212539673, Generator Loss: 1.031207799911499\n"
     ]
    },
    {
     "name": "stderr",
     "output_type": "stream",
     "text": [
      " 50%|████▉     | 149/300 [04:54<04:57,  1.97s/it]"
     ]
    },
    {
     "name": "stdout",
     "output_type": "stream",
     "text": [
      "Batch 15: D Loss: 0.8967735171318054, Generator Loss: 1.0434590578079224\n",
      "Batch 0: D Loss: 0.8756603002548218, Generator Loss: 1.0436646938323975\n",
      "Batch 5: D Loss: 0.8724294900894165, Generator Loss: 1.0411088466644287\n",
      "Batch 10: D Loss: 0.8711422085762024, Generator Loss: 1.0427203178405762\n"
     ]
    },
    {
     "name": "stderr",
     "output_type": "stream",
     "text": [
      " 50%|█████     | 150/300 [04:56<04:55,  1.97s/it]"
     ]
    },
    {
     "name": "stdout",
     "output_type": "stream",
     "text": [
      "Batch 15: D Loss: 0.8705282807350159, Generator Loss: 1.0421955585479736\n",
      "Batch 0: D Loss: 0.8707311749458313, Generator Loss: 1.0421602725982666\n",
      "Batch 5: D Loss: 0.870612382888794, Generator Loss: 1.0429887771606445\n",
      "Batch 10: D Loss: 0.8702760934829712, Generator Loss: 1.0431830883026123\n"
     ]
    },
    {
     "name": "stderr",
     "output_type": "stream",
     "text": [
      " 50%|█████     | 151/300 [04:58<04:53,  1.97s/it]"
     ]
    },
    {
     "name": "stdout",
     "output_type": "stream",
     "text": [
      "Batch 15: D Loss: 0.868252158164978, Generator Loss: 1.04179048538208\n",
      "Batch 0: D Loss: 0.8701732158660889, Generator Loss: 1.0419857501983643\n",
      "Batch 5: D Loss: 0.8711657524108887, Generator Loss: 1.042053461074829\n",
      "Batch 10: D Loss: 0.8713645339012146, Generator Loss: 1.0415273904800415\n"
     ]
    },
    {
     "name": "stderr",
     "output_type": "stream",
     "text": [
      " 51%|█████     | 152/300 [05:00<04:51,  1.97s/it]"
     ]
    },
    {
     "name": "stdout",
     "output_type": "stream",
     "text": [
      "Batch 15: D Loss: 0.8704502582550049, Generator Loss: 1.0396567583084106\n",
      "Batch 0: D Loss: 0.8720136880874634, Generator Loss: 1.039189100265503\n",
      "Batch 5: D Loss: 0.87111896276474, Generator Loss: 1.0398794412612915\n",
      "Batch 10: D Loss: 0.8721444606781006, Generator Loss: 1.0374451875686646\n"
     ]
    },
    {
     "name": "stderr",
     "output_type": "stream",
     "text": [
      " 51%|█████     | 153/300 [05:02<04:49,  1.97s/it]"
     ]
    },
    {
     "name": "stdout",
     "output_type": "stream",
     "text": [
      "Batch 15: D Loss: 0.8724572062492371, Generator Loss: 1.0382485389709473\n",
      "Batch 0: D Loss: 0.8720844984054565, Generator Loss: 1.0372800827026367\n",
      "Batch 5: D Loss: 0.8726019859313965, Generator Loss: 1.0346944332122803\n",
      "Batch 10: D Loss: 0.8725765943527222, Generator Loss: 1.0365239381790161\n"
     ]
    },
    {
     "name": "stderr",
     "output_type": "stream",
     "text": [
      " 51%|█████▏    | 154/300 [05:04<04:47,  1.97s/it]"
     ]
    },
    {
     "name": "stdout",
     "output_type": "stream",
     "text": [
      "Batch 15: D Loss: 0.8733950853347778, Generator Loss: 1.0362420082092285\n",
      "Batch 0: D Loss: 0.8746265769004822, Generator Loss: 1.0351336002349854\n",
      "Batch 5: D Loss: 0.8738846778869629, Generator Loss: 1.0354794263839722\n",
      "Batch 10: D Loss: 0.8738130331039429, Generator Loss: 1.0364406108856201\n"
     ]
    },
    {
     "name": "stderr",
     "output_type": "stream",
     "text": [
      " 52%|█████▏    | 155/300 [05:06<04:46,  1.97s/it]"
     ]
    },
    {
     "name": "stdout",
     "output_type": "stream",
     "text": [
      "Batch 15: D Loss: 0.8749983906745911, Generator Loss: 1.0370370149612427\n",
      "Batch 0: D Loss: 0.8788775205612183, Generator Loss: 1.032308578491211\n",
      "Batch 5: D Loss: 0.8817729949951172, Generator Loss: 1.0313931703567505\n",
      "Batch 10: D Loss: 0.8876670598983765, Generator Loss: 1.026929259300232\n"
     ]
    },
    {
     "name": "stderr",
     "output_type": "stream",
     "text": [
      " 52%|█████▏    | 156/300 [05:08<04:45,  1.98s/it]"
     ]
    },
    {
     "name": "stdout",
     "output_type": "stream",
     "text": [
      "Batch 15: D Loss: 0.884242832660675, Generator Loss: 1.0370609760284424\n",
      "Batch 0: D Loss: 0.9051750898361206, Generator Loss: 1.0286095142364502\n",
      "Batch 5: D Loss: 0.9102470278739929, Generator Loss: 1.0295498371124268\n",
      "Batch 10: D Loss: 0.8969317078590393, Generator Loss: 1.011688232421875\n"
     ]
    },
    {
     "name": "stderr",
     "output_type": "stream",
     "text": [
      " 52%|█████▏    | 157/300 [05:10<04:42,  1.98s/it]"
     ]
    },
    {
     "name": "stdout",
     "output_type": "stream",
     "text": [
      "Batch 15: D Loss: 0.8916696310043335, Generator Loss: 1.0304450988769531\n",
      "Batch 0: D Loss: 0.8874446153640747, Generator Loss: 1.0339605808258057\n",
      "Batch 5: D Loss: 0.8891878724098206, Generator Loss: 1.025491714477539\n",
      "Batch 10: D Loss: 0.8877469897270203, Generator Loss: 1.0310122966766357\n"
     ]
    },
    {
     "name": "stderr",
     "output_type": "stream",
     "text": [
      " 53%|█████▎    | 158/300 [05:12<04:40,  1.98s/it]"
     ]
    },
    {
     "name": "stdout",
     "output_type": "stream",
     "text": [
      "Batch 15: D Loss: 0.8944803476333618, Generator Loss: 1.032731294631958\n",
      "Batch 0: D Loss: 0.8880621194839478, Generator Loss: 1.0326895713806152\n",
      "Batch 5: D Loss: 0.8849834203720093, Generator Loss: 1.0345752239227295\n",
      "Batch 10: D Loss: 0.8825315237045288, Generator Loss: 1.034252405166626\n"
     ]
    },
    {
     "name": "stderr",
     "output_type": "stream",
     "text": [
      " 53%|█████▎    | 159/300 [05:14<04:38,  1.98s/it]"
     ]
    },
    {
     "name": "stdout",
     "output_type": "stream",
     "text": [
      "Batch 15: D Loss: 0.8814501762390137, Generator Loss: 1.0326793193817139\n",
      "Batch 0: D Loss: 0.8870143890380859, Generator Loss: 1.0318098068237305\n",
      "Batch 5: D Loss: 0.8847610354423523, Generator Loss: 1.0327857732772827\n",
      "Batch 10: D Loss: 0.8794989585876465, Generator Loss: 1.0332326889038086\n"
     ]
    },
    {
     "name": "stderr",
     "output_type": "stream",
     "text": [
      " 53%|█████▎    | 160/300 [05:16<04:41,  2.01s/it]"
     ]
    },
    {
     "name": "stdout",
     "output_type": "stream",
     "text": [
      "Batch 15: D Loss: 0.8780243396759033, Generator Loss: 1.0390939712524414\n",
      "Batch 0: D Loss: 0.8767527341842651, Generator Loss: 1.038046956062317\n",
      "Batch 5: D Loss: 0.8747613430023193, Generator Loss: 1.0393126010894775\n",
      "Batch 10: D Loss: 0.8732134699821472, Generator Loss: 1.0387752056121826\n"
     ]
    },
    {
     "name": "stderr",
     "output_type": "stream",
     "text": [
      " 54%|█████▎    | 161/300 [05:18<04:43,  2.04s/it]"
     ]
    },
    {
     "name": "stdout",
     "output_type": "stream",
     "text": [
      "Batch 15: D Loss: 0.8722981810569763, Generator Loss: 1.04117751121521\n",
      "Batch 0: D Loss: 0.8719267249107361, Generator Loss: 1.0407683849334717\n",
      "Batch 5: D Loss: 0.8710983991622925, Generator Loss: 1.0408854484558105\n",
      "Batch 10: D Loss: 0.8711560368537903, Generator Loss: 1.040663719177246\n"
     ]
    },
    {
     "name": "stderr",
     "output_type": "stream",
     "text": [
      " 54%|█████▍    | 162/300 [05:20<04:46,  2.07s/it]"
     ]
    },
    {
     "name": "stdout",
     "output_type": "stream",
     "text": [
      "Batch 15: D Loss: 0.8696398735046387, Generator Loss: 1.0408388376235962\n",
      "Batch 0: D Loss: 0.8708685636520386, Generator Loss: 1.0415304899215698\n",
      "Batch 5: D Loss: 0.8703440427780151, Generator Loss: 1.0426301956176758\n",
      "Batch 10: D Loss: 0.86991286277771, Generator Loss: 1.0424909591674805\n"
     ]
    },
    {
     "name": "stderr",
     "output_type": "stream",
     "text": [
      " 54%|█████▍    | 163/300 [05:22<04:44,  2.08s/it]"
     ]
    },
    {
     "name": "stdout",
     "output_type": "stream",
     "text": [
      "Batch 15: D Loss: 0.8692774772644043, Generator Loss: 1.0432957410812378\n",
      "Batch 0: D Loss: 0.869359016418457, Generator Loss: 1.042648434638977\n",
      "Batch 5: D Loss: 0.869407594203949, Generator Loss: 1.0424039363861084\n",
      "Batch 10: D Loss: 0.8687306642532349, Generator Loss: 1.0429060459136963\n"
     ]
    },
    {
     "name": "stderr",
     "output_type": "stream",
     "text": [
      " 55%|█████▍    | 164/300 [05:25<04:42,  2.08s/it]"
     ]
    },
    {
     "name": "stdout",
     "output_type": "stream",
     "text": [
      "Batch 15: D Loss: 0.8757686614990234, Generator Loss: 1.0427753925323486\n",
      "Batch 0: D Loss: 0.869353711605072, Generator Loss: 1.0420897006988525\n",
      "Batch 5: D Loss: 0.8690232634544373, Generator Loss: 1.0421192646026611\n",
      "Batch 10: D Loss: 0.8685389161109924, Generator Loss: 1.0415476560592651\n"
     ]
    },
    {
     "name": "stderr",
     "output_type": "stream",
     "text": [
      " 55%|█████▌    | 165/300 [05:27<04:39,  2.07s/it]"
     ]
    },
    {
     "name": "stdout",
     "output_type": "stream",
     "text": [
      "Batch 15: D Loss: 0.868053674697876, Generator Loss: 1.0430302619934082\n",
      "Batch 0: D Loss: 0.8686691522598267, Generator Loss: 1.042263150215149\n",
      "Batch 5: D Loss: 0.8678667545318604, Generator Loss: 1.0427685976028442\n",
      "Batch 10: D Loss: 0.8677539229393005, Generator Loss: 1.043806791305542\n"
     ]
    },
    {
     "name": "stderr",
     "output_type": "stream",
     "text": [
      " 55%|█████▌    | 166/300 [05:29<04:35,  2.06s/it]"
     ]
    },
    {
     "name": "stdout",
     "output_type": "stream",
     "text": [
      "Batch 15: D Loss: 0.8678147792816162, Generator Loss: 1.044891595840454\n",
      "Batch 0: D Loss: 0.8684719204902649, Generator Loss: 1.0437393188476562\n",
      "Batch 5: D Loss: 0.8674709796905518, Generator Loss: 1.0431568622589111\n",
      "Batch 10: D Loss: 0.8680111765861511, Generator Loss: 1.0435386896133423\n"
     ]
    },
    {
     "name": "stderr",
     "output_type": "stream",
     "text": [
      " 56%|█████▌    | 167/300 [05:31<04:33,  2.06s/it]"
     ]
    },
    {
     "name": "stdout",
     "output_type": "stream",
     "text": [
      "Batch 15: D Loss: 0.8677884340286255, Generator Loss: 1.0426751375198364\n",
      "Batch 0: D Loss: 0.8672084212303162, Generator Loss: 1.0434272289276123\n",
      "Batch 5: D Loss: 0.8682559132575989, Generator Loss: 1.043357253074646\n",
      "Batch 10: D Loss: 0.8676802515983582, Generator Loss: 1.0439608097076416\n"
     ]
    },
    {
     "name": "stderr",
     "output_type": "stream",
     "text": [
      " 56%|█████▌    | 168/300 [05:33<04:30,  2.05s/it]"
     ]
    },
    {
     "name": "stdout",
     "output_type": "stream",
     "text": [
      "Batch 15: D Loss: 0.8672455549240112, Generator Loss: 1.043114185333252\n",
      "Batch 0: D Loss: 0.8670985102653503, Generator Loss: 1.0443041324615479\n",
      "Batch 5: D Loss: 0.8669204115867615, Generator Loss: 1.0443631410598755\n",
      "Batch 10: D Loss: 0.8673911094665527, Generator Loss: 1.044281244277954\n"
     ]
    },
    {
     "name": "stderr",
     "output_type": "stream",
     "text": [
      " 56%|█████▋    | 169/300 [05:35<04:31,  2.07s/it]"
     ]
    },
    {
     "name": "stdout",
     "output_type": "stream",
     "text": [
      "Batch 15: D Loss: 0.868045449256897, Generator Loss: 1.0437273979187012\n",
      "Batch 0: D Loss: 0.8666408061981201, Generator Loss: 1.0435847043991089\n",
      "Batch 5: D Loss: 0.8674229383468628, Generator Loss: 1.044802188873291\n",
      "Batch 10: D Loss: 0.8667402267456055, Generator Loss: 1.0444340705871582\n"
     ]
    },
    {
     "name": "stderr",
     "output_type": "stream",
     "text": [
      " 57%|█████▋    | 170/300 [05:37<04:28,  2.07s/it]"
     ]
    },
    {
     "name": "stdout",
     "output_type": "stream",
     "text": [
      "Batch 15: D Loss: 0.866356611251831, Generator Loss: 1.0448352098464966\n",
      "Batch 0: D Loss: 0.8664534091949463, Generator Loss: 1.044327974319458\n",
      "Batch 5: D Loss: 0.8665884733200073, Generator Loss: 1.045174479484558\n",
      "Batch 10: D Loss: 0.8671301603317261, Generator Loss: 1.0444908142089844\n"
     ]
    },
    {
     "name": "stderr",
     "output_type": "stream",
     "text": [
      " 57%|█████▋    | 171/300 [05:39<04:25,  2.06s/it]"
     ]
    },
    {
     "name": "stdout",
     "output_type": "stream",
     "text": [
      "Batch 15: D Loss: 0.8665541410446167, Generator Loss: 1.0451769828796387\n",
      "Batch 0: D Loss: 0.8673176765441895, Generator Loss: 1.0449764728546143\n",
      "Batch 5: D Loss: 0.8665935397148132, Generator Loss: 1.0443395376205444\n",
      "Batch 10: D Loss: 0.8672633767127991, Generator Loss: 1.0436511039733887\n"
     ]
    },
    {
     "name": "stderr",
     "output_type": "stream",
     "text": [
      " 57%|█████▋    | 172/300 [05:41<04:22,  2.05s/it]"
     ]
    },
    {
     "name": "stdout",
     "output_type": "stream",
     "text": [
      "Batch 15: D Loss: 0.868969202041626, Generator Loss: 1.0406087636947632\n",
      "Batch 0: D Loss: 0.8668203353881836, Generator Loss: 1.0447413921356201\n",
      "Batch 5: D Loss: 0.8670691847801208, Generator Loss: 1.0442091226577759\n",
      "Batch 10: D Loss: 0.8681833744049072, Generator Loss: 1.0437588691711426\n"
     ]
    },
    {
     "name": "stderr",
     "output_type": "stream",
     "text": [
      " 58%|█████▊    | 173/300 [05:43<04:19,  2.05s/it]"
     ]
    },
    {
     "name": "stdout",
     "output_type": "stream",
     "text": [
      "Batch 15: D Loss: 0.8705469965934753, Generator Loss: 1.042441964149475\n",
      "Batch 0: D Loss: 0.8703335523605347, Generator Loss: 1.0397902727127075\n",
      "Batch 5: D Loss: 0.8701709508895874, Generator Loss: 1.0410280227661133\n",
      "Batch 10: D Loss: 0.8728829622268677, Generator Loss: 1.0395655632019043\n"
     ]
    },
    {
     "name": "stderr",
     "output_type": "stream",
     "text": [
      " 58%|█████▊    | 174/300 [05:45<04:20,  2.07s/it]"
     ]
    },
    {
     "name": "stdout",
     "output_type": "stream",
     "text": [
      "Batch 15: D Loss: 0.8742634057998657, Generator Loss: 1.0419890880584717\n",
      "Batch 0: D Loss: 0.8715063333511353, Generator Loss: 1.0418853759765625\n",
      "Batch 5: D Loss: 0.8693216443061829, Generator Loss: 1.043147087097168\n",
      "Batch 10: D Loss: 0.8685319423675537, Generator Loss: 1.042960524559021\n"
     ]
    },
    {
     "name": "stderr",
     "output_type": "stream",
     "text": [
      " 58%|█████▊    | 175/300 [05:47<04:15,  2.04s/it]"
     ]
    },
    {
     "name": "stdout",
     "output_type": "stream",
     "text": [
      "Batch 15: D Loss: 0.8686716556549072, Generator Loss: 1.0428383350372314\n",
      "Batch 0: D Loss: 0.8686135411262512, Generator Loss: 1.044061541557312\n",
      "Batch 5: D Loss: 0.8685660362243652, Generator Loss: 1.043131709098816\n",
      "Batch 10: D Loss: 0.8685784339904785, Generator Loss: 1.0446031093597412\n"
     ]
    },
    {
     "name": "stderr",
     "output_type": "stream",
     "text": [
      " 59%|█████▊    | 176/300 [05:49<04:11,  2.03s/it]"
     ]
    },
    {
     "name": "stdout",
     "output_type": "stream",
     "text": [
      "Batch 15: D Loss: 0.866753101348877, Generator Loss: 1.0451202392578125\n",
      "Batch 0: D Loss: 0.8677323460578918, Generator Loss: 1.0437970161437988\n",
      "Batch 5: D Loss: 0.8668752908706665, Generator Loss: 1.0446699857711792\n",
      "Batch 10: D Loss: 0.8682008981704712, Generator Loss: 1.0440059900283813\n"
     ]
    },
    {
     "name": "stderr",
     "output_type": "stream",
     "text": [
      " 59%|█████▉    | 177/300 [05:51<04:07,  2.01s/it]"
     ]
    },
    {
     "name": "stdout",
     "output_type": "stream",
     "text": [
      "Batch 15: D Loss: 0.8672817349433899, Generator Loss: 1.0445806980133057\n",
      "Batch 0: D Loss: 0.8679465651512146, Generator Loss: 1.0444741249084473\n",
      "Batch 5: D Loss: 0.867469310760498, Generator Loss: 1.0442862510681152\n",
      "Batch 10: D Loss: 0.8674569129943848, Generator Loss: 1.0451745986938477\n"
     ]
    },
    {
     "name": "stderr",
     "output_type": "stream",
     "text": [
      " 59%|█████▉    | 178/300 [05:53<04:04,  2.00s/it]"
     ]
    },
    {
     "name": "stdout",
     "output_type": "stream",
     "text": [
      "Batch 15: D Loss: 0.8680977821350098, Generator Loss: 1.044414758682251\n",
      "Batch 0: D Loss: 0.8671296834945679, Generator Loss: 1.0453920364379883\n",
      "Batch 5: D Loss: 0.8680052161216736, Generator Loss: 1.0448205471038818\n",
      "Batch 10: D Loss: 0.8669072389602661, Generator Loss: 1.044595718383789\n"
     ]
    },
    {
     "name": "stderr",
     "output_type": "stream",
     "text": [
      " 60%|█████▉    | 179/300 [05:55<04:01,  2.00s/it]"
     ]
    },
    {
     "name": "stdout",
     "output_type": "stream",
     "text": [
      "Batch 15: D Loss: 0.8691128492355347, Generator Loss: 1.0446585416793823\n",
      "Batch 0: D Loss: 0.8677393198013306, Generator Loss: 1.0442910194396973\n",
      "Batch 5: D Loss: 0.8683844208717346, Generator Loss: 1.0439000129699707\n",
      "Batch 10: D Loss: 0.8685973882675171, Generator Loss: 1.0446481704711914\n"
     ]
    },
    {
     "name": "stderr",
     "output_type": "stream",
     "text": [
      " 60%|██████    | 180/300 [05:57<03:59,  1.99s/it]"
     ]
    },
    {
     "name": "stdout",
     "output_type": "stream",
     "text": [
      "Batch 15: D Loss: 0.86891770362854, Generator Loss: 1.0424290895462036\n",
      "Batch 0: D Loss: 0.8679068088531494, Generator Loss: 1.0443761348724365\n",
      "Batch 5: D Loss: 0.8682506084442139, Generator Loss: 1.0435408353805542\n",
      "Batch 10: D Loss: 0.8681660890579224, Generator Loss: 1.044780969619751\n"
     ]
    },
    {
     "name": "stderr",
     "output_type": "stream",
     "text": [
      " 60%|██████    | 181/300 [05:59<03:57,  1.99s/it]"
     ]
    },
    {
     "name": "stdout",
     "output_type": "stream",
     "text": [
      "Batch 15: D Loss: 0.8680000305175781, Generator Loss: 1.0448033809661865\n",
      "Batch 0: D Loss: 0.8683916926383972, Generator Loss: 1.0428762435913086\n",
      "Batch 5: D Loss: 0.8700435161590576, Generator Loss: 1.042338490486145\n",
      "Batch 10: D Loss: 0.8704497814178467, Generator Loss: 1.0418781042099\n"
     ]
    },
    {
     "name": "stderr",
     "output_type": "stream",
     "text": [
      " 61%|██████    | 182/300 [06:01<03:54,  1.99s/it]"
     ]
    },
    {
     "name": "stdout",
     "output_type": "stream",
     "text": [
      "Batch 15: D Loss: 0.8697235584259033, Generator Loss: 1.0451875925064087\n",
      "Batch 0: D Loss: 0.8688037395477295, Generator Loss: 1.0434530973434448\n",
      "Batch 5: D Loss: 0.8680067658424377, Generator Loss: 1.0459281206130981\n",
      "Batch 10: D Loss: 0.8673686981201172, Generator Loss: 1.0439610481262207\n"
     ]
    },
    {
     "name": "stderr",
     "output_type": "stream",
     "text": [
      " 61%|██████    | 183/300 [06:03<03:52,  1.99s/it]"
     ]
    },
    {
     "name": "stdout",
     "output_type": "stream",
     "text": [
      "Batch 15: D Loss: 0.8678345680236816, Generator Loss: 1.0444930791854858\n",
      "Batch 0: D Loss: 0.8671352863311768, Generator Loss: 1.0447657108306885\n",
      "Batch 5: D Loss: 0.8669874668121338, Generator Loss: 1.0458849668502808\n",
      "Batch 10: D Loss: 0.8666120767593384, Generator Loss: 1.0456657409667969\n"
     ]
    },
    {
     "name": "stderr",
     "output_type": "stream",
     "text": [
      " 61%|██████▏   | 184/300 [06:05<03:50,  1.99s/it]"
     ]
    },
    {
     "name": "stdout",
     "output_type": "stream",
     "text": [
      "Batch 15: D Loss: 0.8667465448379517, Generator Loss: 1.0456721782684326\n",
      "Batch 0: D Loss: 0.8669232726097107, Generator Loss: 1.0460031032562256\n",
      "Batch 5: D Loss: 0.8665460348129272, Generator Loss: 1.0462700128555298\n",
      "Batch 10: D Loss: 0.8659808039665222, Generator Loss: 1.0466405153274536\n"
     ]
    },
    {
     "name": "stderr",
     "output_type": "stream",
     "text": [
      " 62%|██████▏   | 185/300 [06:07<03:48,  1.99s/it]"
     ]
    },
    {
     "name": "stdout",
     "output_type": "stream",
     "text": [
      "Batch 15: D Loss: 0.8657671213150024, Generator Loss: 1.0468612909317017\n",
      "Batch 0: D Loss: 0.8663692474365234, Generator Loss: 1.0460751056671143\n",
      "Batch 5: D Loss: 0.8648877739906311, Generator Loss: 1.0465288162231445\n",
      "Batch 10: D Loss: 0.8664402961730957, Generator Loss: 1.0451774597167969\n"
     ]
    },
    {
     "name": "stderr",
     "output_type": "stream",
     "text": [
      " 62%|██████▏   | 186/300 [06:09<03:47,  1.99s/it]"
     ]
    },
    {
     "name": "stdout",
     "output_type": "stream",
     "text": [
      "Batch 15: D Loss: 0.868979811668396, Generator Loss: 1.0451987981796265\n",
      "Batch 0: D Loss: 0.8669769167900085, Generator Loss: 1.0445488691329956\n",
      "Batch 5: D Loss: 0.8665553331375122, Generator Loss: 1.045297622680664\n",
      "Batch 10: D Loss: 0.8670381307601929, Generator Loss: 1.0454084873199463\n"
     ]
    },
    {
     "name": "stderr",
     "output_type": "stream",
     "text": [
      " 62%|██████▏   | 187/300 [06:11<03:44,  1.98s/it]"
     ]
    },
    {
     "name": "stdout",
     "output_type": "stream",
     "text": [
      "Batch 15: D Loss: 0.8652811646461487, Generator Loss: 1.0449777841567993\n",
      "Batch 0: D Loss: 0.866651177406311, Generator Loss: 1.0440783500671387\n",
      "Batch 5: D Loss: 0.8681548833847046, Generator Loss: 1.0438029766082764\n",
      "Batch 10: D Loss: 0.8707427978515625, Generator Loss: 1.042342185974121\n"
     ]
    },
    {
     "name": "stderr",
     "output_type": "stream",
     "text": [
      " 63%|██████▎   | 188/300 [06:13<03:41,  1.98s/it]"
     ]
    },
    {
     "name": "stdout",
     "output_type": "stream",
     "text": [
      "Batch 15: D Loss: 0.872936487197876, Generator Loss: 1.0416409969329834\n",
      "Batch 0: D Loss: 0.8785791993141174, Generator Loss: 1.0385545492172241\n",
      "Batch 5: D Loss: 0.885082483291626, Generator Loss: 1.038032054901123\n",
      "Batch 10: D Loss: 0.8797526359558105, Generator Loss: 1.0312930345535278\n"
     ]
    },
    {
     "name": "stderr",
     "output_type": "stream",
     "text": [
      " 63%|██████▎   | 189/300 [06:15<03:39,  1.98s/it]"
     ]
    },
    {
     "name": "stdout",
     "output_type": "stream",
     "text": [
      "Batch 15: D Loss: 0.8745393753051758, Generator Loss: 1.0417275428771973\n",
      "Batch 0: D Loss: 0.8746097087860107, Generator Loss: 1.043159008026123\n",
      "Batch 5: D Loss: 0.8736132383346558, Generator Loss: 1.0434107780456543\n",
      "Batch 10: D Loss: 0.8710734844207764, Generator Loss: 1.0407780408859253\n"
     ]
    },
    {
     "name": "stderr",
     "output_type": "stream",
     "text": [
      " 63%|██████▎   | 190/300 [06:17<03:37,  1.97s/it]"
     ]
    },
    {
     "name": "stdout",
     "output_type": "stream",
     "text": [
      "Batch 15: D Loss: 0.8703833818435669, Generator Loss: 1.044813871383667\n",
      "Batch 0: D Loss: 0.8704571723937988, Generator Loss: 1.0441350936889648\n",
      "Batch 5: D Loss: 0.8691799640655518, Generator Loss: 1.045123815536499\n",
      "Batch 10: D Loss: 0.8681758046150208, Generator Loss: 1.0465881824493408\n"
     ]
    },
    {
     "name": "stderr",
     "output_type": "stream",
     "text": [
      " 64%|██████▎   | 191/300 [06:19<03:35,  1.97s/it]"
     ]
    },
    {
     "name": "stdout",
     "output_type": "stream",
     "text": [
      "Batch 15: D Loss: 0.8689543008804321, Generator Loss: 1.0472819805145264\n",
      "Batch 0: D Loss: 0.8671663403511047, Generator Loss: 1.046924114227295\n",
      "Batch 5: D Loss: 0.8671162128448486, Generator Loss: 1.0458519458770752\n",
      "Batch 10: D Loss: 0.8677864670753479, Generator Loss: 1.0464246273040771\n"
     ]
    },
    {
     "name": "stderr",
     "output_type": "stream",
     "text": [
      " 64%|██████▍   | 192/300 [06:21<03:33,  1.97s/it]"
     ]
    },
    {
     "name": "stdout",
     "output_type": "stream",
     "text": [
      "Batch 15: D Loss: 0.865670919418335, Generator Loss: 1.045971393585205\n",
      "Batch 0: D Loss: 0.8665650486946106, Generator Loss: 1.0464619398117065\n",
      "Batch 5: D Loss: 0.8658463358879089, Generator Loss: 1.0457212924957275\n",
      "Batch 10: D Loss: 0.8668402433395386, Generator Loss: 1.0458003282546997\n"
     ]
    },
    {
     "name": "stderr",
     "output_type": "stream",
     "text": [
      " 64%|██████▍   | 193/300 [06:23<03:31,  1.97s/it]"
     ]
    },
    {
     "name": "stdout",
     "output_type": "stream",
     "text": [
      "Batch 15: D Loss: 0.8668218851089478, Generator Loss: 1.0453163385391235\n",
      "Batch 0: D Loss: 0.8665564656257629, Generator Loss: 1.0451719760894775\n",
      "Batch 5: D Loss: 0.8667959570884705, Generator Loss: 1.0458643436431885\n",
      "Batch 10: D Loss: 0.8670080900192261, Generator Loss: 1.0460642576217651\n"
     ]
    },
    {
     "name": "stderr",
     "output_type": "stream",
     "text": [
      " 65%|██████▍   | 194/300 [06:25<03:28,  1.97s/it]"
     ]
    },
    {
     "name": "stdout",
     "output_type": "stream",
     "text": [
      "Batch 15: D Loss: 0.8658603429794312, Generator Loss: 1.0455567836761475\n",
      "Batch 0: D Loss: 0.8665250539779663, Generator Loss: 1.0452747344970703\n",
      "Batch 5: D Loss: 0.8662855625152588, Generator Loss: 1.0461533069610596\n",
      "Batch 10: D Loss: 0.8660575151443481, Generator Loss: 1.0467842817306519\n"
     ]
    },
    {
     "name": "stderr",
     "output_type": "stream",
     "text": [
      " 65%|██████▌   | 195/300 [06:27<03:26,  1.97s/it]"
     ]
    },
    {
     "name": "stdout",
     "output_type": "stream",
     "text": [
      "Batch 15: D Loss: 0.8653534650802612, Generator Loss: 1.0478990077972412\n",
      "Batch 0: D Loss: 0.866287350654602, Generator Loss: 1.046670913696289\n",
      "Batch 5: D Loss: 0.8677335977554321, Generator Loss: 1.0449469089508057\n",
      "Batch 10: D Loss: 0.8673641085624695, Generator Loss: 1.0460233688354492\n"
     ]
    },
    {
     "name": "stderr",
     "output_type": "stream",
     "text": [
      " 65%|██████▌   | 196/300 [06:29<03:25,  1.97s/it]"
     ]
    },
    {
     "name": "stdout",
     "output_type": "stream",
     "text": [
      "Batch 15: D Loss: 0.8662877678871155, Generator Loss: 1.0456420183181763\n",
      "Batch 0: D Loss: 0.8667358160018921, Generator Loss: 1.0459221601486206\n",
      "Batch 5: D Loss: 0.8667904138565063, Generator Loss: 1.0461854934692383\n",
      "Batch 10: D Loss: 0.8656923770904541, Generator Loss: 1.0467511415481567\n"
     ]
    },
    {
     "name": "stderr",
     "output_type": "stream",
     "text": [
      " 66%|██████▌   | 197/300 [06:31<03:23,  1.97s/it]"
     ]
    },
    {
     "name": "stdout",
     "output_type": "stream",
     "text": [
      "Batch 15: D Loss: 0.8659534454345703, Generator Loss: 1.0473339557647705\n",
      "Batch 0: D Loss: 0.8657267093658447, Generator Loss: 1.0465469360351562\n",
      "Batch 5: D Loss: 0.8649507761001587, Generator Loss: 1.0472238063812256\n",
      "Batch 10: D Loss: 0.8647709488868713, Generator Loss: 1.047778844833374\n"
     ]
    },
    {
     "name": "stderr",
     "output_type": "stream",
     "text": [
      " 66%|██████▌   | 198/300 [06:33<03:21,  1.97s/it]"
     ]
    },
    {
     "name": "stdout",
     "output_type": "stream",
     "text": [
      "Batch 15: D Loss: 0.8659334182739258, Generator Loss: 1.0482300519943237\n",
      "Batch 0: D Loss: 0.8644068837165833, Generator Loss: 1.0480856895446777\n",
      "Batch 5: D Loss: 0.864249587059021, Generator Loss: 1.0481133460998535\n",
      "Batch 10: D Loss: 0.8636298775672913, Generator Loss: 1.048513412475586\n"
     ]
    },
    {
     "name": "stderr",
     "output_type": "stream",
     "text": [
      " 66%|██████▋   | 199/300 [06:35<03:19,  1.97s/it]"
     ]
    },
    {
     "name": "stdout",
     "output_type": "stream",
     "text": [
      "Batch 15: D Loss: 0.8628780245780945, Generator Loss: 1.050050139427185\n",
      "Batch 0: D Loss: 0.8634732961654663, Generator Loss: 1.0494252443313599\n",
      "Batch 5: D Loss: 0.8636714220046997, Generator Loss: 1.049422264099121\n",
      "Batch 10: D Loss: 0.8632001876831055, Generator Loss: 1.0492719411849976\n"
     ]
    },
    {
     "name": "stderr",
     "output_type": "stream",
     "text": [
      " 67%|██████▋   | 200/300 [06:36<03:16,  1.97s/it]"
     ]
    },
    {
     "name": "stdout",
     "output_type": "stream",
     "text": [
      "Batch 15: D Loss: 0.8637028932571411, Generator Loss: 1.0499459505081177\n",
      "Batch 0: D Loss: 0.864077627658844, Generator Loss: 1.0484483242034912\n",
      "Batch 5: D Loss: 0.8640092611312866, Generator Loss: 1.0477162599563599\n",
      "Batch 10: D Loss: 0.8630785942077637, Generator Loss: 1.047469973564148\n"
     ]
    },
    {
     "name": "stderr",
     "output_type": "stream",
     "text": [
      " 67%|██████▋   | 201/300 [06:38<03:15,  1.98s/it]"
     ]
    },
    {
     "name": "stdout",
     "output_type": "stream",
     "text": [
      "Batch 15: D Loss: 0.8623838424682617, Generator Loss: 1.0509382486343384\n",
      "Batch 0: D Loss: 0.863701343536377, Generator Loss: 1.0480966567993164\n",
      "Batch 5: D Loss: 0.8625954985618591, Generator Loss: 1.0494463443756104\n",
      "Batch 10: D Loss: 0.8630393743515015, Generator Loss: 1.0497194528579712\n"
     ]
    },
    {
     "name": "stderr",
     "output_type": "stream",
     "text": [
      " 67%|██████▋   | 202/300 [06:40<03:13,  1.97s/it]"
     ]
    },
    {
     "name": "stdout",
     "output_type": "stream",
     "text": [
      "Batch 15: D Loss: 0.8628042936325073, Generator Loss: 1.049981713294983\n",
      "Batch 0: D Loss: 0.8626054525375366, Generator Loss: 1.049912929534912\n",
      "Batch 5: D Loss: 0.8622901439666748, Generator Loss: 1.0497207641601562\n",
      "Batch 10: D Loss: 0.8628115057945251, Generator Loss: 1.048807144165039\n"
     ]
    },
    {
     "name": "stderr",
     "output_type": "stream",
     "text": [
      " 68%|██████▊   | 203/300 [06:42<03:11,  1.97s/it]"
     ]
    },
    {
     "name": "stdout",
     "output_type": "stream",
     "text": [
      "Batch 15: D Loss: 0.8650920987129211, Generator Loss: 1.0482574701309204\n",
      "Batch 0: D Loss: 0.8638885617256165, Generator Loss: 1.04845130443573\n",
      "Batch 5: D Loss: 0.8653991222381592, Generator Loss: 1.0461653470993042\n",
      "Batch 10: D Loss: 0.8661620616912842, Generator Loss: 1.0457130670547485\n"
     ]
    },
    {
     "name": "stderr",
     "output_type": "stream",
     "text": [
      " 68%|██████▊   | 204/300 [06:44<03:09,  1.97s/it]"
     ]
    },
    {
     "name": "stdout",
     "output_type": "stream",
     "text": [
      "Batch 15: D Loss: 0.8667635321617126, Generator Loss: 1.0479297637939453\n",
      "Batch 0: D Loss: 0.8660931587219238, Generator Loss: 1.0461084842681885\n",
      "Batch 5: D Loss: 0.8650013208389282, Generator Loss: 1.0480927228927612\n",
      "Batch 10: D Loss: 0.869837760925293, Generator Loss: 1.0435426235198975\n"
     ]
    },
    {
     "name": "stderr",
     "output_type": "stream",
     "text": [
      " 68%|██████▊   | 205/300 [06:46<03:07,  1.97s/it]"
     ]
    },
    {
     "name": "stdout",
     "output_type": "stream",
     "text": [
      "Batch 15: D Loss: 0.86695396900177, Generator Loss: 1.0488778352737427\n",
      "Batch 0: D Loss: 0.8667198419570923, Generator Loss: 1.0484015941619873\n",
      "Batch 5: D Loss: 0.8632131814956665, Generator Loss: 1.0495617389678955\n",
      "Batch 10: D Loss: 0.8637188673019409, Generator Loss: 1.0506367683410645\n"
     ]
    },
    {
     "name": "stderr",
     "output_type": "stream",
     "text": [
      " 69%|██████▊   | 206/300 [06:48<03:05,  1.98s/it]"
     ]
    },
    {
     "name": "stdout",
     "output_type": "stream",
     "text": [
      "Batch 15: D Loss: 0.8629574775695801, Generator Loss: 1.0485761165618896\n",
      "Batch 0: D Loss: 0.8622890710830688, Generator Loss: 1.049088478088379\n",
      "Batch 5: D Loss: 0.8618444204330444, Generator Loss: 1.049349069595337\n",
      "Batch 10: D Loss: 0.8610747456550598, Generator Loss: 1.050292730331421\n"
     ]
    },
    {
     "name": "stderr",
     "output_type": "stream",
     "text": [
      " 69%|██████▉   | 207/300 [06:50<03:03,  1.97s/it]"
     ]
    },
    {
     "name": "stdout",
     "output_type": "stream",
     "text": [
      "Batch 15: D Loss: 0.8611983060836792, Generator Loss: 1.0500024557113647\n",
      "Batch 0: D Loss: 0.8612518310546875, Generator Loss: 1.0498987436294556\n",
      "Batch 5: D Loss: 0.8616929054260254, Generator Loss: 1.04917311668396\n",
      "Batch 10: D Loss: 0.8603765964508057, Generator Loss: 1.050354242324829\n"
     ]
    },
    {
     "name": "stderr",
     "output_type": "stream",
     "text": [
      " 69%|██████▉   | 208/300 [06:52<03:01,  1.97s/it]"
     ]
    },
    {
     "name": "stdout",
     "output_type": "stream",
     "text": [
      "Batch 15: D Loss: 0.8612037301063538, Generator Loss: 1.0501132011413574\n",
      "Batch 0: D Loss: 0.8613986968994141, Generator Loss: 1.0498228073120117\n",
      "Batch 5: D Loss: 0.8605101108551025, Generator Loss: 1.0501015186309814\n",
      "Batch 10: D Loss: 0.8603318929672241, Generator Loss: 1.0503132343292236\n"
     ]
    },
    {
     "name": "stderr",
     "output_type": "stream",
     "text": [
      " 70%|██████▉   | 209/300 [06:54<02:59,  1.97s/it]"
     ]
    },
    {
     "name": "stdout",
     "output_type": "stream",
     "text": [
      "Batch 15: D Loss: 0.8603560924530029, Generator Loss: 1.0492693185806274\n",
      "Batch 0: D Loss: 0.8601996898651123, Generator Loss: 1.0513713359832764\n",
      "Batch 5: D Loss: 0.860289454460144, Generator Loss: 1.0505881309509277\n",
      "Batch 10: D Loss: 0.8596104979515076, Generator Loss: 1.050832986831665\n"
     ]
    },
    {
     "name": "stderr",
     "output_type": "stream",
     "text": [
      " 70%|███████   | 210/300 [06:56<02:57,  1.97s/it]"
     ]
    },
    {
     "name": "stdout",
     "output_type": "stream",
     "text": [
      "Batch 15: D Loss: 0.8899039626121521, Generator Loss: 1.0507256984710693\n",
      "Batch 0: D Loss: 0.8595380783081055, Generator Loss: 1.0496718883514404\n",
      "Batch 5: D Loss: 0.8631043434143066, Generator Loss: 1.044508695602417\n",
      "Batch 10: D Loss: 0.8620679974555969, Generator Loss: 1.046304702758789\n"
     ]
    },
    {
     "name": "stderr",
     "output_type": "stream",
     "text": [
      " 70%|███████   | 211/300 [06:58<02:55,  1.97s/it]"
     ]
    },
    {
     "name": "stdout",
     "output_type": "stream",
     "text": [
      "Batch 15: D Loss: 0.861103892326355, Generator Loss: 1.0480284690856934\n",
      "Batch 0: D Loss: 0.8609998822212219, Generator Loss: 1.049852967262268\n",
      "Batch 5: D Loss: 0.8606843948364258, Generator Loss: 1.0496249198913574\n",
      "Batch 10: D Loss: 0.860338032245636, Generator Loss: 1.050980567932129\n"
     ]
    },
    {
     "name": "stderr",
     "output_type": "stream",
     "text": [
      " 71%|███████   | 212/300 [07:00<02:52,  1.96s/it]"
     ]
    },
    {
     "name": "stdout",
     "output_type": "stream",
     "text": [
      "Batch 15: D Loss: 0.8608785271644592, Generator Loss: 1.0508371591567993\n",
      "Batch 0: D Loss: 0.8597991466522217, Generator Loss: 1.0517698526382446\n",
      "Batch 5: D Loss: 0.8616253137588501, Generator Loss: 1.0511858463287354\n",
      "Batch 10: D Loss: 0.8605362176895142, Generator Loss: 1.0501477718353271\n"
     ]
    },
    {
     "name": "stderr",
     "output_type": "stream",
     "text": [
      " 71%|███████   | 213/300 [07:02<02:50,  1.96s/it]"
     ]
    },
    {
     "name": "stdout",
     "output_type": "stream",
     "text": [
      "Batch 15: D Loss: 0.8590947389602661, Generator Loss: 1.0510828495025635\n",
      "Batch 0: D Loss: 0.8605046272277832, Generator Loss: 1.04996919631958\n",
      "Batch 5: D Loss: 0.8598618507385254, Generator Loss: 1.0508350133895874\n",
      "Batch 10: D Loss: 0.8600986003875732, Generator Loss: 1.0516538619995117\n"
     ]
    },
    {
     "name": "stderr",
     "output_type": "stream",
     "text": [
      " 71%|███████▏  | 214/300 [07:04<02:48,  1.96s/it]"
     ]
    },
    {
     "name": "stdout",
     "output_type": "stream",
     "text": [
      "Batch 15: D Loss: 0.8599218130111694, Generator Loss: 1.050138235092163\n",
      "Batch 0: D Loss: 0.8619916439056396, Generator Loss: 1.0513784885406494\n",
      "Batch 5: D Loss: 0.8601011037826538, Generator Loss: 1.0514135360717773\n",
      "Batch 10: D Loss: 0.8598867654800415, Generator Loss: 1.051053524017334\n"
     ]
    },
    {
     "name": "stderr",
     "output_type": "stream",
     "text": [
      " 72%|███████▏  | 215/300 [07:06<02:47,  1.97s/it]"
     ]
    },
    {
     "name": "stdout",
     "output_type": "stream",
     "text": [
      "Batch 15: D Loss: 0.8609528541564941, Generator Loss: 1.0505951642990112\n",
      "Batch 0: D Loss: 0.8593449592590332, Generator Loss: 1.0512630939483643\n",
      "Batch 5: D Loss: 0.859785795211792, Generator Loss: 1.0522598028182983\n",
      "Batch 10: D Loss: 0.8590339422225952, Generator Loss: 1.0513070821762085\n"
     ]
    },
    {
     "name": "stderr",
     "output_type": "stream",
     "text": [
      " 72%|███████▏  | 216/300 [07:08<02:45,  1.97s/it]"
     ]
    },
    {
     "name": "stdout",
     "output_type": "stream",
     "text": [
      "Batch 15: D Loss: 0.8586318492889404, Generator Loss: 1.0510175228118896\n",
      "Batch 0: D Loss: 0.8596932888031006, Generator Loss: 1.0524836778640747\n",
      "Batch 5: D Loss: 0.8590565919876099, Generator Loss: 1.0528062582015991\n",
      "Batch 10: D Loss: 0.8599157929420471, Generator Loss: 1.0518553256988525\n"
     ]
    },
    {
     "name": "stderr",
     "output_type": "stream",
     "text": [
      " 72%|███████▏  | 217/300 [07:10<02:44,  1.98s/it]"
     ]
    },
    {
     "name": "stdout",
     "output_type": "stream",
     "text": [
      "Batch 15: D Loss: 0.8590498566627502, Generator Loss: 1.0532724857330322\n",
      "Batch 0: D Loss: 0.8598681688308716, Generator Loss: 1.0521180629730225\n",
      "Batch 5: D Loss: 0.8601634502410889, Generator Loss: 1.0520155429840088\n",
      "Batch 10: D Loss: 0.8596842288970947, Generator Loss: 1.0513038635253906\n"
     ]
    },
    {
     "name": "stderr",
     "output_type": "stream",
     "text": [
      " 73%|███████▎  | 218/300 [07:12<02:42,  1.98s/it]"
     ]
    },
    {
     "name": "stdout",
     "output_type": "stream",
     "text": [
      "Batch 15: D Loss: 0.8610718846321106, Generator Loss: 1.0518798828125\n",
      "Batch 0: D Loss: 0.859107255935669, Generator Loss: 1.0512068271636963\n",
      "Batch 5: D Loss: 0.8594578504562378, Generator Loss: 1.05193030834198\n",
      "Batch 10: D Loss: 0.8607889413833618, Generator Loss: 1.0515837669372559\n"
     ]
    },
    {
     "name": "stderr",
     "output_type": "stream",
     "text": [
      " 73%|███████▎  | 219/300 [07:14<02:40,  1.98s/it]"
     ]
    },
    {
     "name": "stdout",
     "output_type": "stream",
     "text": [
      "Batch 15: D Loss: 0.8608982563018799, Generator Loss: 1.049027681350708\n",
      "Batch 0: D Loss: 0.8613599538803101, Generator Loss: 1.0487422943115234\n",
      "Batch 5: D Loss: 0.8607450723648071, Generator Loss: 1.0495645999908447\n",
      "Batch 10: D Loss: 0.8607782125473022, Generator Loss: 1.0512843132019043\n"
     ]
    },
    {
     "name": "stderr",
     "output_type": "stream",
     "text": [
      " 73%|███████▎  | 220/300 [07:16<02:38,  1.98s/it]"
     ]
    },
    {
     "name": "stdout",
     "output_type": "stream",
     "text": [
      "Batch 15: D Loss: 0.8606866598129272, Generator Loss: 1.0534307956695557\n",
      "Batch 0: D Loss: 0.8610429763793945, Generator Loss: 1.0515248775482178\n",
      "Batch 5: D Loss: 0.8603202104568481, Generator Loss: 1.050135850906372\n",
      "Batch 10: D Loss: 0.8600571751594543, Generator Loss: 1.0521574020385742\n"
     ]
    },
    {
     "name": "stderr",
     "output_type": "stream",
     "text": [
      " 74%|███████▎  | 221/300 [07:18<02:39,  2.02s/it]"
     ]
    },
    {
     "name": "stdout",
     "output_type": "stream",
     "text": [
      "Batch 15: D Loss: 0.8595966696739197, Generator Loss: 1.0527288913726807\n",
      "Batch 0: D Loss: 0.85968017578125, Generator Loss: 1.051680088043213\n",
      "Batch 5: D Loss: 0.8618952035903931, Generator Loss: 1.05269455909729\n",
      "Batch 10: D Loss: 0.8602375984191895, Generator Loss: 1.0528358221054077\n"
     ]
    },
    {
     "name": "stderr",
     "output_type": "stream",
     "text": [
      " 74%|███████▍  | 222/300 [07:20<02:40,  2.05s/it]"
     ]
    },
    {
     "name": "stdout",
     "output_type": "stream",
     "text": [
      "Batch 15: D Loss: 0.8615655303001404, Generator Loss: 1.0534898042678833\n",
      "Batch 0: D Loss: 0.8610401749610901, Generator Loss: 1.052992820739746\n",
      "Batch 5: D Loss: 0.8600904941558838, Generator Loss: 1.0527665615081787\n",
      "Batch 10: D Loss: 0.8601897954940796, Generator Loss: 1.052492380142212\n"
     ]
    },
    {
     "name": "stderr",
     "output_type": "stream",
     "text": [
      " 74%|███████▍  | 223/300 [07:22<02:40,  2.08s/it]"
     ]
    },
    {
     "name": "stdout",
     "output_type": "stream",
     "text": [
      "Batch 15: D Loss: 0.8603899478912354, Generator Loss: 1.0513213872909546\n",
      "Batch 0: D Loss: 0.8595380783081055, Generator Loss: 1.051175832748413\n",
      "Batch 5: D Loss: 0.8614055514335632, Generator Loss: 1.051760196685791\n",
      "Batch 10: D Loss: 0.8595813512802124, Generator Loss: 1.0516252517700195\n"
     ]
    },
    {
     "name": "stderr",
     "output_type": "stream",
     "text": [
      " 75%|███████▍  | 224/300 [07:24<02:39,  2.09s/it]"
     ]
    },
    {
     "name": "stdout",
     "output_type": "stream",
     "text": [
      "Batch 15: D Loss: 0.8598706126213074, Generator Loss: 1.0530885457992554\n",
      "Batch 0: D Loss: 0.8605762720108032, Generator Loss: 1.0510191917419434\n",
      "Batch 5: D Loss: 0.8601850271224976, Generator Loss: 1.0514581203460693\n",
      "Batch 10: D Loss: 0.8596748113632202, Generator Loss: 1.050858497619629\n"
     ]
    },
    {
     "name": "stderr",
     "output_type": "stream",
     "text": [
      " 75%|███████▌  | 225/300 [07:26<02:35,  2.08s/it]"
     ]
    },
    {
     "name": "stdout",
     "output_type": "stream",
     "text": [
      "Batch 15: D Loss: 0.8602969646453857, Generator Loss: 1.0518795251846313\n",
      "Batch 0: D Loss: 0.8617433905601501, Generator Loss: 1.049804449081421\n",
      "Batch 5: D Loss: 0.8631048202514648, Generator Loss: 1.048969030380249\n",
      "Batch 10: D Loss: 0.8619502782821655, Generator Loss: 1.0492393970489502\n"
     ]
    },
    {
     "name": "stderr",
     "output_type": "stream",
     "text": [
      " 75%|███████▌  | 226/300 [07:29<02:32,  2.07s/it]"
     ]
    },
    {
     "name": "stdout",
     "output_type": "stream",
     "text": [
      "Batch 15: D Loss: 0.8715749979019165, Generator Loss: 1.0503413677215576\n",
      "Batch 0: D Loss: 0.8624957799911499, Generator Loss: 1.05057692527771\n",
      "Batch 5: D Loss: 0.8598412871360779, Generator Loss: 1.052886962890625\n",
      "Batch 10: D Loss: 0.8591961860656738, Generator Loss: 1.0526655912399292\n"
     ]
    },
    {
     "name": "stderr",
     "output_type": "stream",
     "text": [
      " 76%|███████▌  | 227/300 [07:31<02:31,  2.07s/it]"
     ]
    },
    {
     "name": "stdout",
     "output_type": "stream",
     "text": [
      "Batch 15: D Loss: 0.8580809831619263, Generator Loss: 1.0523202419281006\n",
      "Batch 0: D Loss: 0.8581768274307251, Generator Loss: 1.0525851249694824\n",
      "Batch 5: D Loss: 0.8587269186973572, Generator Loss: 1.0537108182907104\n",
      "Batch 10: D Loss: 0.8586009740829468, Generator Loss: 1.0533668994903564\n"
     ]
    },
    {
     "name": "stderr",
     "output_type": "stream",
     "text": [
      " 76%|███████▌  | 228/300 [07:33<02:28,  2.06s/it]"
     ]
    },
    {
     "name": "stdout",
     "output_type": "stream",
     "text": [
      "Batch 15: D Loss: 0.8578193783760071, Generator Loss: 1.0563197135925293\n",
      "Batch 0: D Loss: 0.858657717704773, Generator Loss: 1.053499460220337\n",
      "Batch 5: D Loss: 0.8581022024154663, Generator Loss: 1.0517405271530151\n",
      "Batch 10: D Loss: 0.8575888872146606, Generator Loss: 1.053455114364624\n"
     ]
    },
    {
     "name": "stderr",
     "output_type": "stream",
     "text": [
      " 76%|███████▋  | 229/300 [07:35<02:26,  2.06s/it]"
     ]
    },
    {
     "name": "stdout",
     "output_type": "stream",
     "text": [
      "Batch 15: D Loss: 0.8587439656257629, Generator Loss: 1.054121494293213\n",
      "Batch 0: D Loss: 0.8568268418312073, Generator Loss: 1.053971767425537\n",
      "Batch 5: D Loss: 0.8598592281341553, Generator Loss: 1.0544568300247192\n",
      "Batch 10: D Loss: 0.8575620651245117, Generator Loss: 1.0525922775268555\n"
     ]
    },
    {
     "name": "stderr",
     "output_type": "stream",
     "text": [
      " 77%|███████▋  | 230/300 [07:37<02:23,  2.05s/it]"
     ]
    },
    {
     "name": "stdout",
     "output_type": "stream",
     "text": [
      "Batch 15: D Loss: 0.8576992750167847, Generator Loss: 1.052976131439209\n",
      "Batch 0: D Loss: 0.8570093512535095, Generator Loss: 1.053661584854126\n",
      "Batch 5: D Loss: 0.8576112985610962, Generator Loss: 1.0539398193359375\n",
      "Batch 10: D Loss: 0.8580881357192993, Generator Loss: 1.0546118021011353\n"
     ]
    },
    {
     "name": "stderr",
     "output_type": "stream",
     "text": [
      " 77%|███████▋  | 231/300 [07:39<02:22,  2.06s/it]"
     ]
    },
    {
     "name": "stdout",
     "output_type": "stream",
     "text": [
      "Batch 15: D Loss: 0.8594409227371216, Generator Loss: 1.0544575452804565\n",
      "Batch 0: D Loss: 0.8569172024726868, Generator Loss: 1.0535651445388794\n",
      "Batch 5: D Loss: 0.8574816584587097, Generator Loss: 1.0534231662750244\n",
      "Batch 10: D Loss: 0.8577033281326294, Generator Loss: 1.053985595703125\n"
     ]
    },
    {
     "name": "stderr",
     "output_type": "stream",
     "text": [
      " 77%|███████▋  | 232/300 [07:41<02:19,  2.05s/it]"
     ]
    },
    {
     "name": "stdout",
     "output_type": "stream",
     "text": [
      "Batch 15: D Loss: 0.858026385307312, Generator Loss: 1.050068736076355\n",
      "Batch 0: D Loss: 0.8584023714065552, Generator Loss: 1.0533957481384277\n",
      "Batch 5: D Loss: 0.8581910133361816, Generator Loss: 1.0519273281097412\n",
      "Batch 10: D Loss: 0.8590259552001953, Generator Loss: 1.0506891012191772\n"
     ]
    },
    {
     "name": "stderr",
     "output_type": "stream",
     "text": [
      " 78%|███████▊  | 233/300 [07:43<02:15,  2.03s/it]"
     ]
    },
    {
     "name": "stdout",
     "output_type": "stream",
     "text": [
      "Batch 15: D Loss: 0.8607073426246643, Generator Loss: 1.0527820587158203\n",
      "Batch 0: D Loss: 0.8583707809448242, Generator Loss: 1.0535192489624023\n",
      "Batch 5: D Loss: 0.8596519827842712, Generator Loss: 1.0514088869094849\n",
      "Batch 10: D Loss: 0.8580020666122437, Generator Loss: 1.0531511306762695\n"
     ]
    },
    {
     "name": "stderr",
     "output_type": "stream",
     "text": [
      " 78%|███████▊  | 234/300 [07:45<02:12,  2.01s/it]"
     ]
    },
    {
     "name": "stdout",
     "output_type": "stream",
     "text": [
      "Batch 15: D Loss: 0.8578969240188599, Generator Loss: 1.0545825958251953\n",
      "Batch 0: D Loss: 0.8582909107208252, Generator Loss: 1.0543920993804932\n",
      "Batch 5: D Loss: 0.8572690486907959, Generator Loss: 1.054657220840454\n",
      "Batch 10: D Loss: 0.8575159907341003, Generator Loss: 1.053767442703247\n"
     ]
    },
    {
     "name": "stderr",
     "output_type": "stream",
     "text": [
      " 78%|███████▊  | 235/300 [07:47<02:10,  2.00s/it]"
     ]
    },
    {
     "name": "stdout",
     "output_type": "stream",
     "text": [
      "Batch 15: D Loss: 0.8567557334899902, Generator Loss: 1.0533103942871094\n",
      "Batch 0: D Loss: 0.8572665452957153, Generator Loss: 1.0548620223999023\n",
      "Batch 5: D Loss: 0.8569355010986328, Generator Loss: 1.0553123950958252\n",
      "Batch 10: D Loss: 0.8574110269546509, Generator Loss: 1.0541366338729858\n"
     ]
    },
    {
     "name": "stderr",
     "output_type": "stream",
     "text": [
      " 79%|███████▊  | 236/300 [07:49<02:07,  2.00s/it]"
     ]
    },
    {
     "name": "stdout",
     "output_type": "stream",
     "text": [
      "Batch 15: D Loss: 0.8578405380249023, Generator Loss: 1.0509294271469116\n",
      "Batch 0: D Loss: 0.8570576906204224, Generator Loss: 1.0534641742706299\n",
      "Batch 5: D Loss: 0.8583360314369202, Generator Loss: 1.0543255805969238\n",
      "Batch 10: D Loss: 0.8579899668693542, Generator Loss: 1.0533480644226074\n"
     ]
    },
    {
     "name": "stderr",
     "output_type": "stream",
     "text": [
      " 79%|███████▉  | 237/300 [07:51<02:05,  1.99s/it]"
     ]
    },
    {
     "name": "stdout",
     "output_type": "stream",
     "text": [
      "Batch 15: D Loss: 0.8580493330955505, Generator Loss: 1.0528686046600342\n",
      "Batch 0: D Loss: 0.8577916622161865, Generator Loss: 1.0518425703048706\n",
      "Batch 5: D Loss: 0.8572465181350708, Generator Loss: 1.0513381958007812\n",
      "Batch 10: D Loss: 0.8594386577606201, Generator Loss: 1.0537805557250977\n"
     ]
    },
    {
     "name": "stderr",
     "output_type": "stream",
     "text": [
      " 79%|███████▉  | 238/300 [07:53<02:02,  1.98s/it]"
     ]
    },
    {
     "name": "stdout",
     "output_type": "stream",
     "text": [
      "Batch 15: D Loss: 0.8591283559799194, Generator Loss: 1.053055763244629\n",
      "Batch 0: D Loss: 0.8574098944664001, Generator Loss: 1.053589105606079\n",
      "Batch 5: D Loss: 0.8576660752296448, Generator Loss: 1.0548136234283447\n",
      "Batch 10: D Loss: 0.8558722734451294, Generator Loss: 1.0552618503570557\n"
     ]
    },
    {
     "name": "stderr",
     "output_type": "stream",
     "text": [
      " 80%|███████▉  | 239/300 [07:55<02:00,  1.98s/it]"
     ]
    },
    {
     "name": "stdout",
     "output_type": "stream",
     "text": [
      "Batch 15: D Loss: 1.0182777643203735, Generator Loss: 0.7257139086723328\n",
      "Batch 0: D Loss: 1.255588412284851, Generator Loss: 1.052272081375122\n",
      "Batch 5: D Loss: 0.8746853470802307, Generator Loss: 0.9939997792243958\n",
      "Batch 10: D Loss: 0.8805446028709412, Generator Loss: 1.045035481452942\n"
     ]
    },
    {
     "name": "stderr",
     "output_type": "stream",
     "text": [
      " 80%|████████  | 240/300 [07:57<01:58,  1.98s/it]"
     ]
    },
    {
     "name": "stdout",
     "output_type": "stream",
     "text": [
      "Batch 15: D Loss: 0.8737407922744751, Generator Loss: 1.0389103889465332\n",
      "Batch 0: D Loss: 0.8739522695541382, Generator Loss: 1.0310394763946533\n",
      "Batch 5: D Loss: 0.8780873417854309, Generator Loss: 1.0419330596923828\n",
      "Batch 10: D Loss: 0.8741477727890015, Generator Loss: 1.0428600311279297\n"
     ]
    },
    {
     "name": "stderr",
     "output_type": "stream",
     "text": [
      " 80%|████████  | 241/300 [07:59<01:56,  1.98s/it]"
     ]
    },
    {
     "name": "stdout",
     "output_type": "stream",
     "text": [
      "Batch 15: D Loss: 0.8649590015411377, Generator Loss: 1.0483224391937256\n",
      "Batch 0: D Loss: 0.9271016120910645, Generator Loss: 1.0373953580856323\n",
      "Batch 5: D Loss: 0.9106283783912659, Generator Loss: 1.0492793321609497\n",
      "Batch 10: D Loss: 0.8683006763458252, Generator Loss: 1.0369088649749756\n"
     ]
    },
    {
     "name": "stderr",
     "output_type": "stream",
     "text": [
      " 81%|████████  | 242/300 [08:01<01:54,  1.97s/it]"
     ]
    },
    {
     "name": "stdout",
     "output_type": "stream",
     "text": [
      "Batch 15: D Loss: 0.8707578778266907, Generator Loss: 1.0371595621109009\n",
      "Batch 0: D Loss: 0.8725115060806274, Generator Loss: 1.0359916687011719\n",
      "Batch 5: D Loss: 0.8670676946640015, Generator Loss: 1.0427340269088745\n",
      "Batch 10: D Loss: 0.863642692565918, Generator Loss: 1.046675205230713\n"
     ]
    },
    {
     "name": "stderr",
     "output_type": "stream",
     "text": [
      " 81%|████████  | 243/300 [08:03<01:52,  1.97s/it]"
     ]
    },
    {
     "name": "stdout",
     "output_type": "stream",
     "text": [
      "Batch 15: D Loss: 0.8623493909835815, Generator Loss: 1.0464280843734741\n",
      "Batch 0: D Loss: 0.8656467199325562, Generator Loss: 1.046701192855835\n",
      "Batch 5: D Loss: 0.8634375333786011, Generator Loss: 1.0460753440856934\n",
      "Batch 10: D Loss: 0.8638068437576294, Generator Loss: 1.0439754724502563\n"
     ]
    },
    {
     "name": "stderr",
     "output_type": "stream",
     "text": [
      " 81%|████████▏ | 244/300 [08:05<01:50,  1.97s/it]"
     ]
    },
    {
     "name": "stdout",
     "output_type": "stream",
     "text": [
      "Batch 15: D Loss: 0.8622543811798096, Generator Loss: 1.0469273328781128\n",
      "Batch 0: D Loss: 0.8655216693878174, Generator Loss: 1.0483722686767578\n",
      "Batch 5: D Loss: 0.8631446361541748, Generator Loss: 1.048533320426941\n",
      "Batch 10: D Loss: 0.8605522513389587, Generator Loss: 1.0479211807250977\n"
     ]
    },
    {
     "name": "stderr",
     "output_type": "stream",
     "text": [
      " 82%|████████▏ | 245/300 [08:06<01:48,  1.97s/it]"
     ]
    },
    {
     "name": "stdout",
     "output_type": "stream",
     "text": [
      "Batch 15: D Loss: 0.8606632351875305, Generator Loss: 1.0495479106903076\n",
      "Batch 0: D Loss: 0.8609049320220947, Generator Loss: 1.047959566116333\n",
      "Batch 5: D Loss: 0.860325038433075, Generator Loss: 1.04909086227417\n",
      "Batch 10: D Loss: 0.8596423864364624, Generator Loss: 1.049701452255249\n"
     ]
    },
    {
     "name": "stderr",
     "output_type": "stream",
     "text": [
      " 82%|████████▏ | 246/300 [08:08<01:46,  1.97s/it]"
     ]
    },
    {
     "name": "stdout",
     "output_type": "stream",
     "text": [
      "Batch 15: D Loss: 0.859737753868103, Generator Loss: 1.0503393411636353\n",
      "Batch 0: D Loss: 0.8598015308380127, Generator Loss: 1.0494781732559204\n",
      "Batch 5: D Loss: 0.8596282601356506, Generator Loss: 1.0517406463623047\n",
      "Batch 10: D Loss: 0.8584403991699219, Generator Loss: 1.0510218143463135\n"
     ]
    },
    {
     "name": "stderr",
     "output_type": "stream",
     "text": [
      " 82%|████████▏ | 247/300 [08:10<01:44,  1.97s/it]"
     ]
    },
    {
     "name": "stdout",
     "output_type": "stream",
     "text": [
      "Batch 15: D Loss: 0.8584864139556885, Generator Loss: 1.0503696203231812\n",
      "Batch 0: D Loss: 0.8588080406188965, Generator Loss: 1.0511510372161865\n",
      "Batch 5: D Loss: 0.8572240471839905, Generator Loss: 1.0524709224700928\n",
      "Batch 10: D Loss: 0.8575311899185181, Generator Loss: 1.0531055927276611\n"
     ]
    },
    {
     "name": "stderr",
     "output_type": "stream",
     "text": [
      " 83%|████████▎ | 248/300 [08:12<01:42,  1.97s/it]"
     ]
    },
    {
     "name": "stdout",
     "output_type": "stream",
     "text": [
      "Batch 15: D Loss: 0.8591490387916565, Generator Loss: 1.0540647506713867\n",
      "Batch 0: D Loss: 0.8578768968582153, Generator Loss: 1.0526162385940552\n",
      "Batch 5: D Loss: 0.8580776453018188, Generator Loss: 1.051567554473877\n",
      "Batch 10: D Loss: 0.8573832511901855, Generator Loss: 1.0535731315612793\n"
     ]
    },
    {
     "name": "stderr",
     "output_type": "stream",
     "text": [
      " 83%|████████▎ | 249/300 [08:14<01:40,  1.97s/it]"
     ]
    },
    {
     "name": "stdout",
     "output_type": "stream",
     "text": [
      "Batch 15: D Loss: 0.8587570190429688, Generator Loss: 1.0529993772506714\n",
      "Batch 0: D Loss: 0.8575536608695984, Generator Loss: 1.0539144277572632\n",
      "Batch 5: D Loss: 0.8572205305099487, Generator Loss: 1.0533689260482788\n",
      "Batch 10: D Loss: 0.8570942282676697, Generator Loss: 1.0531978607177734\n"
     ]
    },
    {
     "name": "stderr",
     "output_type": "stream",
     "text": [
      " 83%|████████▎ | 250/300 [08:16<01:38,  1.97s/it]"
     ]
    },
    {
     "name": "stdout",
     "output_type": "stream",
     "text": [
      "Batch 15: D Loss: 0.8573331832885742, Generator Loss: 1.0538594722747803\n",
      "Batch 0: D Loss: 0.8568156957626343, Generator Loss: 1.0537493228912354\n",
      "Batch 5: D Loss: 0.8568854331970215, Generator Loss: 1.05361008644104\n",
      "Batch 10: D Loss: 0.8561041355133057, Generator Loss: 1.0541183948516846\n"
     ]
    },
    {
     "name": "stderr",
     "output_type": "stream",
     "text": [
      " 84%|████████▎ | 251/300 [08:18<01:36,  1.97s/it]"
     ]
    },
    {
     "name": "stdout",
     "output_type": "stream",
     "text": [
      "Batch 15: D Loss: 0.8565016984939575, Generator Loss: 1.0543410778045654\n",
      "Batch 0: D Loss: 0.8565502166748047, Generator Loss: 1.05351722240448\n",
      "Batch 5: D Loss: 0.8561506271362305, Generator Loss: 1.0541974306106567\n",
      "Batch 10: D Loss: 0.8561983704566956, Generator Loss: 1.0548040866851807\n"
     ]
    },
    {
     "name": "stderr",
     "output_type": "stream",
     "text": [
      " 84%|████████▍ | 252/300 [08:20<01:34,  1.97s/it]"
     ]
    },
    {
     "name": "stdout",
     "output_type": "stream",
     "text": [
      "Batch 15: D Loss: 0.8557683229446411, Generator Loss: 1.0534230470657349\n",
      "Batch 0: D Loss: 0.8558601140975952, Generator Loss: 1.0541932582855225\n",
      "Batch 5: D Loss: 0.8562677502632141, Generator Loss: 1.05497145652771\n",
      "Batch 10: D Loss: 0.8555319309234619, Generator Loss: 1.0541841983795166\n"
     ]
    },
    {
     "name": "stderr",
     "output_type": "stream",
     "text": [
      " 84%|████████▍ | 253/300 [08:22<01:33,  1.98s/it]"
     ]
    },
    {
     "name": "stdout",
     "output_type": "stream",
     "text": [
      "Batch 15: D Loss: 0.8551210761070251, Generator Loss: 1.0548183917999268\n",
      "Batch 0: D Loss: 0.8555543422698975, Generator Loss: 1.0548145771026611\n",
      "Batch 5: D Loss: 0.8566681146621704, Generator Loss: 1.0544936656951904\n",
      "Batch 10: D Loss: 0.8562493324279785, Generator Loss: 1.053706407546997\n"
     ]
    },
    {
     "name": "stderr",
     "output_type": "stream",
     "text": [
      " 85%|████████▍ | 254/300 [08:24<01:31,  1.98s/it]"
     ]
    },
    {
     "name": "stdout",
     "output_type": "stream",
     "text": [
      "Batch 15: D Loss: 0.8560203313827515, Generator Loss: 1.0542460680007935\n",
      "Batch 0: D Loss: 0.85590660572052, Generator Loss: 1.0544981956481934\n",
      "Batch 5: D Loss: 0.8558122515678406, Generator Loss: 1.0547821521759033\n",
      "Batch 10: D Loss: 0.855471134185791, Generator Loss: 1.05458664894104\n"
     ]
    },
    {
     "name": "stderr",
     "output_type": "stream",
     "text": [
      " 85%|████████▌ | 255/300 [08:26<01:29,  1.98s/it]"
     ]
    },
    {
     "name": "stdout",
     "output_type": "stream",
     "text": [
      "Batch 15: D Loss: 0.8553959727287292, Generator Loss: 1.052970051765442\n",
      "Batch 0: D Loss: 0.8556039333343506, Generator Loss: 1.0543630123138428\n",
      "Batch 5: D Loss: 0.8558088541030884, Generator Loss: 1.0541328191757202\n",
      "Batch 10: D Loss: 0.8557848334312439, Generator Loss: 1.0547884702682495\n"
     ]
    },
    {
     "name": "stderr",
     "output_type": "stream",
     "text": [
      " 85%|████████▌ | 256/300 [08:28<01:27,  1.98s/it]"
     ]
    },
    {
     "name": "stdout",
     "output_type": "stream",
     "text": [
      "Batch 15: D Loss: 0.8558526039123535, Generator Loss: 1.055049180984497\n",
      "Batch 0: D Loss: 0.8550967574119568, Generator Loss: 1.0546245574951172\n",
      "Batch 5: D Loss: 0.8565019369125366, Generator Loss: 1.0537811517715454\n",
      "Batch 10: D Loss: 0.8550735712051392, Generator Loss: 1.0549180507659912\n"
     ]
    },
    {
     "name": "stderr",
     "output_type": "stream",
     "text": [
      " 86%|████████▌ | 257/300 [08:30<01:25,  1.98s/it]"
     ]
    },
    {
     "name": "stdout",
     "output_type": "stream",
     "text": [
      "Batch 15: D Loss: 0.854748547077179, Generator Loss: 1.0557479858398438\n",
      "Batch 0: D Loss: 0.8548582792282104, Generator Loss: 1.0560803413391113\n",
      "Batch 5: D Loss: 0.8550823330879211, Generator Loss: 1.05406653881073\n",
      "Batch 10: D Loss: 0.8551323413848877, Generator Loss: 1.0548349618911743\n"
     ]
    },
    {
     "name": "stderr",
     "output_type": "stream",
     "text": [
      " 86%|████████▌ | 258/300 [08:32<01:23,  1.98s/it]"
     ]
    },
    {
     "name": "stdout",
     "output_type": "stream",
     "text": [
      "Batch 15: D Loss: 0.8548445701599121, Generator Loss: 1.0545384883880615\n",
      "Batch 0: D Loss: 0.8556287884712219, Generator Loss: 1.0547946691513062\n",
      "Batch 5: D Loss: 0.8551567792892456, Generator Loss: 1.0557548999786377\n",
      "Batch 10: D Loss: 0.8542870283126831, Generator Loss: 1.0551939010620117\n"
     ]
    },
    {
     "name": "stderr",
     "output_type": "stream",
     "text": [
      " 86%|████████▋ | 259/300 [08:34<01:24,  2.06s/it]"
     ]
    },
    {
     "name": "stdout",
     "output_type": "stream",
     "text": [
      "Batch 15: D Loss: 0.8544260859489441, Generator Loss: 1.0527441501617432\n",
      "Batch 0: D Loss: 0.8546586036682129, Generator Loss: 1.05559504032135\n",
      "Batch 5: D Loss: 0.8546264171600342, Generator Loss: 1.0558414459228516\n",
      "Batch 10: D Loss: 0.8544126749038696, Generator Loss: 1.0562107563018799\n"
     ]
    },
    {
     "name": "stderr",
     "output_type": "stream",
     "text": [
      " 87%|████████▋ | 260/300 [08:37<01:23,  2.09s/it]"
     ]
    },
    {
     "name": "stdout",
     "output_type": "stream",
     "text": [
      "Batch 15: D Loss: 0.8541604280471802, Generator Loss: 1.0578209161758423\n",
      "Batch 0: D Loss: 0.8541285991668701, Generator Loss: 1.0560554265975952\n",
      "Batch 5: D Loss: 0.8543063402175903, Generator Loss: 1.055590271949768\n",
      "Batch 10: D Loss: 0.8541442155838013, Generator Loss: 1.0561118125915527\n"
     ]
    },
    {
     "name": "stderr",
     "output_type": "stream",
     "text": [
      " 87%|████████▋ | 261/300 [08:39<01:22,  2.12s/it]"
     ]
    },
    {
     "name": "stdout",
     "output_type": "stream",
     "text": [
      "Batch 15: D Loss: 0.8541821837425232, Generator Loss: 1.0567610263824463\n",
      "Batch 0: D Loss: 0.8545987606048584, Generator Loss: 1.0555222034454346\n",
      "Batch 5: D Loss: 0.8552291393280029, Generator Loss: 1.054519534111023\n",
      "Batch 10: D Loss: 0.8542385101318359, Generator Loss: 1.0562396049499512\n"
     ]
    },
    {
     "name": "stderr",
     "output_type": "stream",
     "text": [
      " 87%|████████▋ | 262/300 [08:41<01:19,  2.10s/it]"
     ]
    },
    {
     "name": "stdout",
     "output_type": "stream",
     "text": [
      "Batch 15: D Loss: 0.8539995551109314, Generator Loss: 1.0557037591934204\n",
      "Batch 0: D Loss: 0.8553687334060669, Generator Loss: 1.055894136428833\n",
      "Batch 5: D Loss: 0.855104386806488, Generator Loss: 1.0541692972183228\n",
      "Batch 10: D Loss: 0.8549070358276367, Generator Loss: 1.056136131286621\n"
     ]
    },
    {
     "name": "stderr",
     "output_type": "stream",
     "text": [
      " 88%|████████▊ | 263/300 [08:43<01:16,  2.08s/it]"
     ]
    },
    {
     "name": "stdout",
     "output_type": "stream",
     "text": [
      "Batch 15: D Loss: 0.8547141551971436, Generator Loss: 1.055572509765625\n",
      "Batch 0: D Loss: 0.8545558452606201, Generator Loss: 1.0560040473937988\n",
      "Batch 5: D Loss: 0.8550034761428833, Generator Loss: 1.055739402770996\n",
      "Batch 10: D Loss: 0.8549057245254517, Generator Loss: 1.056060791015625\n"
     ]
    },
    {
     "name": "stderr",
     "output_type": "stream",
     "text": [
      " 88%|████████▊ | 264/300 [08:45<01:14,  2.08s/it]"
     ]
    },
    {
     "name": "stdout",
     "output_type": "stream",
     "text": [
      "Batch 15: D Loss: 0.8627868890762329, Generator Loss: 1.052438735961914\n",
      "Batch 0: D Loss: 0.8545441627502441, Generator Loss: 1.0564990043640137\n",
      "Batch 5: D Loss: 0.855099618434906, Generator Loss: 1.0557527542114258\n",
      "Batch 10: D Loss: 0.8546743988990784, Generator Loss: 1.0561834573745728\n"
     ]
    },
    {
     "name": "stderr",
     "output_type": "stream",
     "text": [
      " 88%|████████▊ | 265/300 [08:47<01:12,  2.07s/it]"
     ]
    },
    {
     "name": "stdout",
     "output_type": "stream",
     "text": [
      "Batch 15: D Loss: 0.8545228838920593, Generator Loss: 1.0567604303359985\n",
      "Batch 0: D Loss: 0.855024516582489, Generator Loss: 1.0560072660446167\n",
      "Batch 5: D Loss: 0.8548517227172852, Generator Loss: 1.05574369430542\n",
      "Batch 10: D Loss: 0.8545739650726318, Generator Loss: 1.056179404258728\n"
     ]
    },
    {
     "name": "stderr",
     "output_type": "stream",
     "text": [
      " 89%|████████▊ | 266/300 [08:49<01:10,  2.06s/it]"
     ]
    },
    {
     "name": "stdout",
     "output_type": "stream",
     "text": [
      "Batch 15: D Loss: 0.8548867702484131, Generator Loss: 1.0563098192214966\n",
      "Batch 0: D Loss: 0.85513836145401, Generator Loss: 1.056586742401123\n",
      "Batch 5: D Loss: 0.8544080257415771, Generator Loss: 1.0549360513687134\n",
      "Batch 10: D Loss: 0.8549585342407227, Generator Loss: 1.0557427406311035\n"
     ]
    },
    {
     "name": "stderr",
     "output_type": "stream",
     "text": [
      " 89%|████████▉ | 267/300 [08:51<01:07,  2.05s/it]"
     ]
    },
    {
     "name": "stdout",
     "output_type": "stream",
     "text": [
      "Batch 15: D Loss: 0.8557031750679016, Generator Loss: 1.0553855895996094\n",
      "Batch 0: D Loss: 0.8548390865325928, Generator Loss: 1.0553189516067505\n",
      "Batch 5: D Loss: 0.8555859327316284, Generator Loss: 1.0560040473937988\n",
      "Batch 10: D Loss: 0.8551188111305237, Generator Loss: 1.0560057163238525\n"
     ]
    },
    {
     "name": "stderr",
     "output_type": "stream",
     "text": [
      " 89%|████████▉ | 268/300 [08:53<01:05,  2.05s/it]"
     ]
    },
    {
     "name": "stdout",
     "output_type": "stream",
     "text": [
      "Batch 15: D Loss: 0.8544844388961792, Generator Loss: 1.0564916133880615\n",
      "Batch 0: D Loss: 0.8545005321502686, Generator Loss: 1.0564887523651123\n",
      "Batch 5: D Loss: 0.8540722131729126, Generator Loss: 1.057017207145691\n",
      "Batch 10: D Loss: 0.8546860218048096, Generator Loss: 1.0551090240478516\n"
     ]
    },
    {
     "name": "stderr",
     "output_type": "stream",
     "text": [
      " 90%|████████▉ | 269/300 [08:55<01:03,  2.05s/it]"
     ]
    },
    {
     "name": "stdout",
     "output_type": "stream",
     "text": [
      "Batch 15: D Loss: 0.8573731184005737, Generator Loss: 1.0549150705337524\n",
      "Batch 0: D Loss: 0.8545899391174316, Generator Loss: 1.0558515787124634\n",
      "Batch 5: D Loss: 0.854988694190979, Generator Loss: 1.0560284852981567\n",
      "Batch 10: D Loss: 0.8555204272270203, Generator Loss: 1.0553427934646606\n"
     ]
    },
    {
     "name": "stderr",
     "output_type": "stream",
     "text": [
      " 90%|█████████ | 270/300 [08:57<01:01,  2.05s/it]"
     ]
    },
    {
     "name": "stdout",
     "output_type": "stream",
     "text": [
      "Batch 15: D Loss: 0.8561761379241943, Generator Loss: 1.0549989938735962\n",
      "Batch 0: D Loss: 0.8554830551147461, Generator Loss: 1.056563138961792\n",
      "Batch 5: D Loss: 0.8551964163780212, Generator Loss: 1.0565872192382812\n",
      "Batch 10: D Loss: 0.8544593453407288, Generator Loss: 1.0567684173583984\n"
     ]
    },
    {
     "name": "stderr",
     "output_type": "stream",
     "text": [
      " 90%|█████████ | 271/300 [08:59<00:59,  2.04s/it]"
     ]
    },
    {
     "name": "stdout",
     "output_type": "stream",
     "text": [
      "Batch 15: D Loss: 0.8535441160202026, Generator Loss: 1.057143211364746\n",
      "Batch 0: D Loss: 0.8539571762084961, Generator Loss: 1.0562137365341187\n",
      "Batch 5: D Loss: 0.855171799659729, Generator Loss: 1.056366205215454\n",
      "Batch 10: D Loss: 0.8544618487358093, Generator Loss: 1.0567207336425781\n"
     ]
    },
    {
     "name": "stderr",
     "output_type": "stream",
     "text": [
      " 91%|█████████ | 272/300 [09:01<00:56,  2.02s/it]"
     ]
    },
    {
     "name": "stdout",
     "output_type": "stream",
     "text": [
      "Batch 15: D Loss: 0.8556081056594849, Generator Loss: 1.0556728839874268\n",
      "Batch 0: D Loss: 0.8540688753128052, Generator Loss: 1.056349277496338\n",
      "Batch 5: D Loss: 0.8541399240493774, Generator Loss: 1.056557297706604\n",
      "Batch 10: D Loss: 0.8539549112319946, Generator Loss: 1.05666983127594\n"
     ]
    },
    {
     "name": "stderr",
     "output_type": "stream",
     "text": [
      " 91%|█████████ | 273/300 [09:03<00:54,  2.01s/it]"
     ]
    },
    {
     "name": "stdout",
     "output_type": "stream",
     "text": [
      "Batch 15: D Loss: 0.8547302484512329, Generator Loss: 1.056288242340088\n",
      "Batch 0: D Loss: 0.8537901639938354, Generator Loss: 1.0567108392715454\n",
      "Batch 5: D Loss: 0.8542988896369934, Generator Loss: 1.0580053329467773\n",
      "Batch 10: D Loss: 0.8536934852600098, Generator Loss: 1.0572946071624756\n"
     ]
    },
    {
     "name": "stderr",
     "output_type": "stream",
     "text": [
      " 91%|█████████▏| 274/300 [09:05<00:52,  2.00s/it]"
     ]
    },
    {
     "name": "stdout",
     "output_type": "stream",
     "text": [
      "Batch 15: D Loss: 0.8559001684188843, Generator Loss: 1.0559983253479004\n",
      "Batch 0: D Loss: 0.8540346622467041, Generator Loss: 1.0571165084838867\n",
      "Batch 5: D Loss: 0.8543700575828552, Generator Loss: 1.0558212995529175\n",
      "Batch 10: D Loss: 0.8542556762695312, Generator Loss: 1.056259036064148\n"
     ]
    },
    {
     "name": "stderr",
     "output_type": "stream",
     "text": [
      " 92%|█████████▏| 275/300 [09:07<00:49,  1.99s/it]"
     ]
    },
    {
     "name": "stdout",
     "output_type": "stream",
     "text": [
      "Batch 15: D Loss: 0.8535106778144836, Generator Loss: 1.0579898357391357\n",
      "Batch 0: D Loss: 0.8541669845581055, Generator Loss: 1.0576080083847046\n",
      "Batch 5: D Loss: 0.8549622297286987, Generator Loss: 1.05808687210083\n",
      "Batch 10: D Loss: 0.8546636700630188, Generator Loss: 1.0566831827163696\n"
     ]
    },
    {
     "name": "stderr",
     "output_type": "stream",
     "text": [
      " 92%|█████████▏| 276/300 [09:09<00:47,  1.99s/it]"
     ]
    },
    {
     "name": "stdout",
     "output_type": "stream",
     "text": [
      "Batch 15: D Loss: 0.8534733057022095, Generator Loss: 1.0553617477416992\n",
      "Batch 0: D Loss: 0.853569507598877, Generator Loss: 1.0558940172195435\n",
      "Batch 5: D Loss: 0.8536608219146729, Generator Loss: 1.057446002960205\n",
      "Batch 10: D Loss: 0.8539917469024658, Generator Loss: 1.057281255722046\n"
     ]
    },
    {
     "name": "stderr",
     "output_type": "stream",
     "text": [
      " 92%|█████████▏| 277/300 [09:11<00:45,  1.99s/it]"
     ]
    },
    {
     "name": "stdout",
     "output_type": "stream",
     "text": [
      "Batch 15: D Loss: 0.854473352432251, Generator Loss: 1.0567125082015991\n",
      "Batch 0: D Loss: 0.8537089824676514, Generator Loss: 1.0570173263549805\n",
      "Batch 5: D Loss: 0.8542490601539612, Generator Loss: 1.0571331977844238\n",
      "Batch 10: D Loss: 0.8534990549087524, Generator Loss: 1.0573036670684814\n"
     ]
    },
    {
     "name": "stderr",
     "output_type": "stream",
     "text": [
      " 93%|█████████▎| 278/300 [09:13<00:43,  1.98s/it]"
     ]
    },
    {
     "name": "stdout",
     "output_type": "stream",
     "text": [
      "Batch 15: D Loss: 0.8818395137786865, Generator Loss: 1.0514549016952515\n",
      "Batch 0: D Loss: 0.8587663769721985, Generator Loss: 1.0517792701721191\n",
      "Batch 5: D Loss: 0.8595470786094666, Generator Loss: 1.0535935163497925\n",
      "Batch 10: D Loss: 0.8619627952575684, Generator Loss: 1.0490869283676147\n"
     ]
    },
    {
     "name": "stderr",
     "output_type": "stream",
     "text": [
      " 93%|█████████▎| 279/300 [09:15<00:41,  1.98s/it]"
     ]
    },
    {
     "name": "stdout",
     "output_type": "stream",
     "text": [
      "Batch 15: D Loss: 0.8645724654197693, Generator Loss: 1.0544772148132324\n",
      "Batch 0: D Loss: 0.858127236366272, Generator Loss: 1.0492775440216064\n",
      "Batch 5: D Loss: 0.8582760095596313, Generator Loss: 1.054581880569458\n",
      "Batch 10: D Loss: 0.8617877960205078, Generator Loss: 1.0534274578094482\n"
     ]
    },
    {
     "name": "stderr",
     "output_type": "stream",
     "text": [
      " 93%|█████████▎| 280/300 [09:17<00:39,  1.99s/it]"
     ]
    },
    {
     "name": "stdout",
     "output_type": "stream",
     "text": [
      "Batch 15: D Loss: 0.8655821084976196, Generator Loss: 1.0552570819854736\n",
      "Batch 0: D Loss: 0.857039213180542, Generator Loss: 1.0567991733551025\n",
      "Batch 5: D Loss: 0.8565107583999634, Generator Loss: 1.0579876899719238\n",
      "Batch 10: D Loss: 0.8542327880859375, Generator Loss: 1.0584338903427124\n"
     ]
    },
    {
     "name": "stderr",
     "output_type": "stream",
     "text": [
      " 94%|█████████▎| 281/300 [09:19<00:37,  1.99s/it]"
     ]
    },
    {
     "name": "stdout",
     "output_type": "stream",
     "text": [
      "Batch 15: D Loss: 0.8516078591346741, Generator Loss: 1.0574249029159546\n",
      "Batch 0: D Loss: 0.8536146879196167, Generator Loss: 1.0577690601348877\n",
      "Batch 5: D Loss: 0.8549057841300964, Generator Loss: 1.0577242374420166\n",
      "Batch 10: D Loss: 0.8536908626556396, Generator Loss: 1.0581793785095215\n"
     ]
    },
    {
     "name": "stderr",
     "output_type": "stream",
     "text": [
      " 94%|█████████▍| 282/300 [09:21<00:35,  1.98s/it]"
     ]
    },
    {
     "name": "stdout",
     "output_type": "stream",
     "text": [
      "Batch 15: D Loss: 0.8533602952957153, Generator Loss: 1.0582507848739624\n",
      "Batch 0: D Loss: 0.8535298705101013, Generator Loss: 1.059360146522522\n",
      "Batch 5: D Loss: 0.8527753949165344, Generator Loss: 1.0605125427246094\n",
      "Batch 10: D Loss: 0.8536669015884399, Generator Loss: 1.0596165657043457\n"
     ]
    },
    {
     "name": "stderr",
     "output_type": "stream",
     "text": [
      " 94%|█████████▍| 283/300 [09:23<00:33,  1.98s/it]"
     ]
    },
    {
     "name": "stdout",
     "output_type": "stream",
     "text": [
      "Batch 15: D Loss: 0.8535528182983398, Generator Loss: 1.058511734008789\n",
      "Batch 0: D Loss: 0.8540756702423096, Generator Loss: 1.057624340057373\n",
      "Batch 5: D Loss: 0.8532995581626892, Generator Loss: 1.0577702522277832\n",
      "Batch 10: D Loss: 0.8533440232276917, Generator Loss: 1.057939052581787\n"
     ]
    },
    {
     "name": "stderr",
     "output_type": "stream",
     "text": [
      " 95%|█████████▍| 284/300 [09:25<00:31,  1.98s/it]"
     ]
    },
    {
     "name": "stdout",
     "output_type": "stream",
     "text": [
      "Batch 15: D Loss: 0.8534356355667114, Generator Loss: 1.0580040216445923\n",
      "Batch 0: D Loss: 0.8541401624679565, Generator Loss: 1.0589064359664917\n",
      "Batch 5: D Loss: 0.851513147354126, Generator Loss: 1.0613609552383423\n",
      "Batch 10: D Loss: 0.8531761765480042, Generator Loss: 1.0601937770843506\n"
     ]
    },
    {
     "name": "stderr",
     "output_type": "stream",
     "text": [
      " 95%|█████████▌| 285/300 [09:27<00:29,  1.99s/it]"
     ]
    },
    {
     "name": "stdout",
     "output_type": "stream",
     "text": [
      "Batch 15: D Loss: 0.8568243980407715, Generator Loss: 1.0554795265197754\n",
      "Batch 0: D Loss: 0.8547280430793762, Generator Loss: 1.0569767951965332\n",
      "Batch 5: D Loss: 0.8546953201293945, Generator Loss: 1.0560150146484375\n",
      "Batch 10: D Loss: 0.855150043964386, Generator Loss: 1.0563998222351074\n"
     ]
    },
    {
     "name": "stderr",
     "output_type": "stream",
     "text": [
      " 95%|█████████▌| 286/300 [09:29<00:27,  1.99s/it]"
     ]
    },
    {
     "name": "stdout",
     "output_type": "stream",
     "text": [
      "Batch 15: D Loss: 0.8536762595176697, Generator Loss: 1.057681918144226\n",
      "Batch 0: D Loss: 0.8532803654670715, Generator Loss: 1.058772325515747\n",
      "Batch 5: D Loss: 0.8533352017402649, Generator Loss: 1.059321403503418\n",
      "Batch 10: D Loss: 0.85206139087677, Generator Loss: 1.059601068496704\n"
     ]
    },
    {
     "name": "stderr",
     "output_type": "stream",
     "text": [
      " 96%|█████████▌| 287/300 [09:31<00:25,  1.98s/it]"
     ]
    },
    {
     "name": "stdout",
     "output_type": "stream",
     "text": [
      "Batch 15: D Loss: 0.8525620698928833, Generator Loss: 1.0614575147628784\n",
      "Batch 0: D Loss: 0.8531574606895447, Generator Loss: 1.0582836866378784\n",
      "Batch 5: D Loss: 0.8530552387237549, Generator Loss: 1.0596284866333008\n",
      "Batch 10: D Loss: 0.8522733449935913, Generator Loss: 1.05888032913208\n"
     ]
    },
    {
     "name": "stderr",
     "output_type": "stream",
     "text": [
      " 96%|█████████▌| 288/300 [09:33<00:23,  1.99s/it]"
     ]
    },
    {
     "name": "stdout",
     "output_type": "stream",
     "text": [
      "Batch 15: D Loss: 0.8538134694099426, Generator Loss: 1.0582739114761353\n",
      "Batch 0: D Loss: 0.8523093461990356, Generator Loss: 1.0588005781173706\n",
      "Batch 5: D Loss: 0.8541006445884705, Generator Loss: 1.0572733879089355\n",
      "Batch 10: D Loss: 0.8554126024246216, Generator Loss: 1.055870771408081\n"
     ]
    },
    {
     "name": "stderr",
     "output_type": "stream",
     "text": [
      " 96%|█████████▋| 289/300 [09:35<00:21,  1.98s/it]"
     ]
    },
    {
     "name": "stdout",
     "output_type": "stream",
     "text": [
      "Batch 15: D Loss: 0.8571255207061768, Generator Loss: 1.056366205215454\n",
      "Batch 0: D Loss: 0.8545825481414795, Generator Loss: 1.0567604303359985\n",
      "Batch 5: D Loss: 0.8547730445861816, Generator Loss: 1.0559113025665283\n",
      "Batch 10: D Loss: 0.8539628982543945, Generator Loss: 1.0571494102478027\n"
     ]
    },
    {
     "name": "stderr",
     "output_type": "stream",
     "text": [
      " 97%|█████████▋| 290/300 [09:37<00:19,  1.98s/it]"
     ]
    },
    {
     "name": "stdout",
     "output_type": "stream",
     "text": [
      "Batch 15: D Loss: 0.8557273149490356, Generator Loss: 1.0572559833526611\n",
      "Batch 0: D Loss: 0.8531795740127563, Generator Loss: 1.0570091009140015\n",
      "Batch 5: D Loss: 0.8526769280433655, Generator Loss: 1.05757474899292\n",
      "Batch 10: D Loss: 0.8529409170150757, Generator Loss: 1.0581409931182861\n"
     ]
    },
    {
     "name": "stderr",
     "output_type": "stream",
     "text": [
      " 97%|█████████▋| 291/300 [09:39<00:17,  1.99s/it]"
     ]
    },
    {
     "name": "stdout",
     "output_type": "stream",
     "text": [
      "Batch 15: D Loss: 0.8524542450904846, Generator Loss: 1.058599829673767\n",
      "Batch 0: D Loss: 0.8521929979324341, Generator Loss: 1.0591033697128296\n",
      "Batch 5: D Loss: 0.8524221181869507, Generator Loss: 1.0594030618667603\n",
      "Batch 10: D Loss: 0.8514271378517151, Generator Loss: 1.0590628385543823\n"
     ]
    },
    {
     "name": "stderr",
     "output_type": "stream",
     "text": [
      " 97%|█████████▋| 292/300 [09:41<00:15,  1.99s/it]"
     ]
    },
    {
     "name": "stdout",
     "output_type": "stream",
     "text": [
      "Batch 15: D Loss: 0.8516552448272705, Generator Loss: 1.0611767768859863\n",
      "Batch 0: D Loss: 0.8511541485786438, Generator Loss: 1.0590522289276123\n",
      "Batch 5: D Loss: 0.8509311676025391, Generator Loss: 1.059736728668213\n",
      "Batch 10: D Loss: 0.8509727716445923, Generator Loss: 1.05985426902771\n"
     ]
    },
    {
     "name": "stderr",
     "output_type": "stream",
     "text": [
      " 98%|█████████▊| 293/300 [09:43<00:13,  1.98s/it]"
     ]
    },
    {
     "name": "stdout",
     "output_type": "stream",
     "text": [
      "Batch 15: D Loss: 0.851218581199646, Generator Loss: 1.0605225563049316\n",
      "Batch 0: D Loss: 0.8506267070770264, Generator Loss: 1.0598161220550537\n",
      "Batch 5: D Loss: 0.8508826494216919, Generator Loss: 1.0596647262573242\n",
      "Batch 10: D Loss: 0.8517521619796753, Generator Loss: 1.059539556503296\n"
     ]
    },
    {
     "name": "stderr",
     "output_type": "stream",
     "text": [
      " 98%|█████████▊| 294/300 [09:45<00:11,  1.98s/it]"
     ]
    },
    {
     "name": "stdout",
     "output_type": "stream",
     "text": [
      "Batch 15: D Loss: 0.8518823385238647, Generator Loss: 1.0596585273742676\n",
      "Batch 0: D Loss: 0.8510341644287109, Generator Loss: 1.0599830150604248\n",
      "Batch 5: D Loss: 0.8506715297698975, Generator Loss: 1.0606881380081177\n",
      "Batch 10: D Loss: 0.85091233253479, Generator Loss: 1.0596843957901\n"
     ]
    },
    {
     "name": "stderr",
     "output_type": "stream",
     "text": [
      " 98%|█████████▊| 295/300 [09:47<00:09,  1.98s/it]"
     ]
    },
    {
     "name": "stdout",
     "output_type": "stream",
     "text": [
      "Batch 15: D Loss: 0.8512600660324097, Generator Loss: 1.0595754384994507\n",
      "Batch 0: D Loss: 0.8502166867256165, Generator Loss: 1.0600154399871826\n",
      "Batch 5: D Loss: 0.8505057096481323, Generator Loss: 1.0600932836532593\n",
      "Batch 10: D Loss: 0.8510838747024536, Generator Loss: 1.0594455003738403\n"
     ]
    },
    {
     "name": "stderr",
     "output_type": "stream",
     "text": [
      " 99%|█████████▊| 296/300 [09:49<00:07,  1.99s/it]"
     ]
    },
    {
     "name": "stdout",
     "output_type": "stream",
     "text": [
      "Batch 15: D Loss: 0.8502905368804932, Generator Loss: 1.060470461845398\n",
      "Batch 0: D Loss: 0.8502793908119202, Generator Loss: 1.0587080717086792\n",
      "Batch 5: D Loss: 0.8503375053405762, Generator Loss: 1.0605695247650146\n",
      "Batch 10: D Loss: 0.8503476977348328, Generator Loss: 1.0603885650634766\n"
     ]
    },
    {
     "name": "stderr",
     "output_type": "stream",
     "text": [
      " 99%|█████████▉| 297/300 [09:51<00:05,  1.98s/it]"
     ]
    },
    {
     "name": "stdout",
     "output_type": "stream",
     "text": [
      "Batch 15: D Loss: 0.8496769666671753, Generator Loss: 1.0616085529327393\n",
      "Batch 0: D Loss: 0.8504279851913452, Generator Loss: 1.0603888034820557\n",
      "Batch 5: D Loss: 0.8508148789405823, Generator Loss: 1.0608935356140137\n",
      "Batch 10: D Loss: 0.8499293923377991, Generator Loss: 1.0599536895751953\n"
     ]
    },
    {
     "name": "stderr",
     "output_type": "stream",
     "text": [
      " 99%|█████████▉| 298/300 [09:53<00:03,  1.99s/it]"
     ]
    },
    {
     "name": "stdout",
     "output_type": "stream",
     "text": [
      "Batch 15: D Loss: 0.8512874841690063, Generator Loss: 1.0600005388259888\n",
      "Batch 0: D Loss: 0.8497369289398193, Generator Loss: 1.06136155128479\n",
      "Batch 5: D Loss: 0.8503471612930298, Generator Loss: 1.060097336769104\n",
      "Batch 10: D Loss: 0.8498049378395081, Generator Loss: 1.060759425163269\n"
     ]
    },
    {
     "name": "stderr",
     "output_type": "stream",
     "text": [
      "100%|█████████▉| 299/300 [09:55<00:01,  1.98s/it]"
     ]
    },
    {
     "name": "stdout",
     "output_type": "stream",
     "text": [
      "Batch 15: D Loss: 0.8497405052185059, Generator Loss: 1.0603246688842773\n",
      "Batch 0: D Loss: 0.8493044376373291, Generator Loss: 1.060279369354248\n",
      "Batch 5: D Loss: 0.84962397813797, Generator Loss: 1.0604771375656128\n",
      "Batch 10: D Loss: 0.8498460054397583, Generator Loss: 1.0606729984283447\n"
     ]
    },
    {
     "name": "stderr",
     "output_type": "stream",
     "text": [
      "100%|██████████| 300/300 [09:57<00:00,  1.99s/it]"
     ]
    },
    {
     "name": "stdout",
     "output_type": "stream",
     "text": [
      "Batch 15: D Loss: 0.8493523597717285, Generator Loss: 1.0606070756912231\n"
     ]
    },
    {
     "name": "stderr",
     "output_type": "stream",
     "text": [
      "\n"
     ]
    }
   ],
   "source": [
    "# # Model training\n",
    "trainer.fit()"
   ]
  },
  {
   "cell_type": "markdown",
   "metadata": {},
   "source": [
    "# Model Evaluation"
   ]
  },
  {
   "cell_type": "markdown",
   "metadata": {},
   "source": [
    "### MVFIT-GAN"
   ]
  },
  {
   "cell_type": "code",
   "execution_count": 9,
   "metadata": {},
   "outputs": [],
   "source": [
    "from scipy.stats import entropy, wasserstein_distance, ks_2samp, spearmanr, kendalltau\n",
    "from statsmodels.tsa.stattools import acf\n",
    "from scipy.spatial.distance import jensenshannon\n",
    "\n",
    "full_name = \"indices_300_128_G_lr_0.0002_D_lr_0.0001_noise_6_hidden_dim_100\""
   ]
  },
  {
   "cell_type": "code",
   "execution_count": 10,
   "metadata": {},
   "outputs": [
    {
     "ename": "RuntimeError",
     "evalue": "Error(s) in loading state_dict for UserGenerator:\n\tsize mismatch for tcn.0.conv1.weight: copying a param with shape torch.Size([100, 6, 1]) from checkpoint, the shape in current model is torch.Size([160, 6, 1]).\n\tsize mismatch for tcn.0.conv1.bias: copying a param with shape torch.Size([100]) from checkpoint, the shape in current model is torch.Size([160]).\n\tsize mismatch for tcn.0.bn1.weight: copying a param with shape torch.Size([100]) from checkpoint, the shape in current model is torch.Size([160]).\n\tsize mismatch for tcn.0.bn1.bias: copying a param with shape torch.Size([100]) from checkpoint, the shape in current model is torch.Size([160]).\n\tsize mismatch for tcn.0.bn1.running_mean: copying a param with shape torch.Size([100]) from checkpoint, the shape in current model is torch.Size([160]).\n\tsize mismatch for tcn.0.bn1.running_var: copying a param with shape torch.Size([100]) from checkpoint, the shape in current model is torch.Size([160]).\n\tsize mismatch for tcn.0.conv2.weight: copying a param with shape torch.Size([100, 100, 1]) from checkpoint, the shape in current model is torch.Size([160, 160, 1]).\n\tsize mismatch for tcn.0.conv2.bias: copying a param with shape torch.Size([100]) from checkpoint, the shape in current model is torch.Size([160]).\n\tsize mismatch for tcn.0.bn2.weight: copying a param with shape torch.Size([100]) from checkpoint, the shape in current model is torch.Size([160]).\n\tsize mismatch for tcn.0.bn2.bias: copying a param with shape torch.Size([100]) from checkpoint, the shape in current model is torch.Size([160]).\n\tsize mismatch for tcn.0.bn2.running_mean: copying a param with shape torch.Size([100]) from checkpoint, the shape in current model is torch.Size([160]).\n\tsize mismatch for tcn.0.bn2.running_var: copying a param with shape torch.Size([100]) from checkpoint, the shape in current model is torch.Size([160]).\n\tsize mismatch for tcn.0.downsample.0.weight: copying a param with shape torch.Size([100, 6, 1]) from checkpoint, the shape in current model is torch.Size([160, 6, 1]).\n\tsize mismatch for tcn.0.downsample.0.bias: copying a param with shape torch.Size([100]) from checkpoint, the shape in current model is torch.Size([160]).\n\tsize mismatch for tcn.0.downsample.1.weight: copying a param with shape torch.Size([100]) from checkpoint, the shape in current model is torch.Size([160]).\n\tsize mismatch for tcn.0.downsample.1.bias: copying a param with shape torch.Size([100]) from checkpoint, the shape in current model is torch.Size([160]).\n\tsize mismatch for tcn.0.downsample.1.running_mean: copying a param with shape torch.Size([100]) from checkpoint, the shape in current model is torch.Size([160]).\n\tsize mismatch for tcn.0.downsample.1.running_var: copying a param with shape torch.Size([100]) from checkpoint, the shape in current model is torch.Size([160]).\n\tsize mismatch for tcn.1.conv1.weight: copying a param with shape torch.Size([100, 100, 2]) from checkpoint, the shape in current model is torch.Size([160, 160, 2]).\n\tsize mismatch for tcn.1.conv1.bias: copying a param with shape torch.Size([100]) from checkpoint, the shape in current model is torch.Size([160]).\n\tsize mismatch for tcn.1.bn1.weight: copying a param with shape torch.Size([100]) from checkpoint, the shape in current model is torch.Size([160]).\n\tsize mismatch for tcn.1.bn1.bias: copying a param with shape torch.Size([100]) from checkpoint, the shape in current model is torch.Size([160]).\n\tsize mismatch for tcn.1.bn1.running_mean: copying a param with shape torch.Size([100]) from checkpoint, the shape in current model is torch.Size([160]).\n\tsize mismatch for tcn.1.bn1.running_var: copying a param with shape torch.Size([100]) from checkpoint, the shape in current model is torch.Size([160]).\n\tsize mismatch for tcn.1.conv2.weight: copying a param with shape torch.Size([100, 100, 2]) from checkpoint, the shape in current model is torch.Size([160, 160, 2]).\n\tsize mismatch for tcn.1.conv2.bias: copying a param with shape torch.Size([100]) from checkpoint, the shape in current model is torch.Size([160]).\n\tsize mismatch for tcn.1.bn2.weight: copying a param with shape torch.Size([100]) from checkpoint, the shape in current model is torch.Size([160]).\n\tsize mismatch for tcn.1.bn2.bias: copying a param with shape torch.Size([100]) from checkpoint, the shape in current model is torch.Size([160]).\n\tsize mismatch for tcn.1.bn2.running_mean: copying a param with shape torch.Size([100]) from checkpoint, the shape in current model is torch.Size([160]).\n\tsize mismatch for tcn.1.bn2.running_var: copying a param with shape torch.Size([100]) from checkpoint, the shape in current model is torch.Size([160]).\n\tsize mismatch for tcn.2.conv1.weight: copying a param with shape torch.Size([100, 100, 2]) from checkpoint, the shape in current model is torch.Size([160, 160, 2]).\n\tsize mismatch for tcn.2.conv1.bias: copying a param with shape torch.Size([100]) from checkpoint, the shape in current model is torch.Size([160]).\n\tsize mismatch for tcn.2.bn1.weight: copying a param with shape torch.Size([100]) from checkpoint, the shape in current model is torch.Size([160]).\n\tsize mismatch for tcn.2.bn1.bias: copying a param with shape torch.Size([100]) from checkpoint, the shape in current model is torch.Size([160]).\n\tsize mismatch for tcn.2.bn1.running_mean: copying a param with shape torch.Size([100]) from checkpoint, the shape in current model is torch.Size([160]).\n\tsize mismatch for tcn.2.bn1.running_var: copying a param with shape torch.Size([100]) from checkpoint, the shape in current model is torch.Size([160]).\n\tsize mismatch for tcn.2.conv2.weight: copying a param with shape torch.Size([100, 100, 2]) from checkpoint, the shape in current model is torch.Size([160, 160, 2]).\n\tsize mismatch for tcn.2.conv2.bias: copying a param with shape torch.Size([100]) from checkpoint, the shape in current model is torch.Size([160]).\n\tsize mismatch for tcn.2.bn2.weight: copying a param with shape torch.Size([100]) from checkpoint, the shape in current model is torch.Size([160]).\n\tsize mismatch for tcn.2.bn2.bias: copying a param with shape torch.Size([100]) from checkpoint, the shape in current model is torch.Size([160]).\n\tsize mismatch for tcn.2.bn2.running_mean: copying a param with shape torch.Size([100]) from checkpoint, the shape in current model is torch.Size([160]).\n\tsize mismatch for tcn.2.bn2.running_var: copying a param with shape torch.Size([100]) from checkpoint, the shape in current model is torch.Size([160]).\n\tsize mismatch for tcn.3.conv1.weight: copying a param with shape torch.Size([100, 100, 2]) from checkpoint, the shape in current model is torch.Size([160, 160, 2]).\n\tsize mismatch for tcn.3.conv1.bias: copying a param with shape torch.Size([100]) from checkpoint, the shape in current model is torch.Size([160]).\n\tsize mismatch for tcn.3.bn1.weight: copying a param with shape torch.Size([100]) from checkpoint, the shape in current model is torch.Size([160]).\n\tsize mismatch for tcn.3.bn1.bias: copying a param with shape torch.Size([100]) from checkpoint, the shape in current model is torch.Size([160]).\n\tsize mismatch for tcn.3.bn1.running_mean: copying a param with shape torch.Size([100]) from checkpoint, the shape in current model is torch.Size([160]).\n\tsize mismatch for tcn.3.bn1.running_var: copying a param with shape torch.Size([100]) from checkpoint, the shape in current model is torch.Size([160]).\n\tsize mismatch for tcn.3.conv2.weight: copying a param with shape torch.Size([100, 100, 2]) from checkpoint, the shape in current model is torch.Size([160, 160, 2]).\n\tsize mismatch for tcn.3.conv2.bias: copying a param with shape torch.Size([100]) from checkpoint, the shape in current model is torch.Size([160]).\n\tsize mismatch for tcn.3.bn2.weight: copying a param with shape torch.Size([100]) from checkpoint, the shape in current model is torch.Size([160]).\n\tsize mismatch for tcn.3.bn2.bias: copying a param with shape torch.Size([100]) from checkpoint, the shape in current model is torch.Size([160]).\n\tsize mismatch for tcn.3.bn2.running_mean: copying a param with shape torch.Size([100]) from checkpoint, the shape in current model is torch.Size([160]).\n\tsize mismatch for tcn.3.bn2.running_var: copying a param with shape torch.Size([100]) from checkpoint, the shape in current model is torch.Size([160]).\n\tsize mismatch for tcn.4.conv1.weight: copying a param with shape torch.Size([100, 100, 2]) from checkpoint, the shape in current model is torch.Size([160, 160, 2]).\n\tsize mismatch for tcn.4.conv1.bias: copying a param with shape torch.Size([100]) from checkpoint, the shape in current model is torch.Size([160]).\n\tsize mismatch for tcn.4.bn1.weight: copying a param with shape torch.Size([100]) from checkpoint, the shape in current model is torch.Size([160]).\n\tsize mismatch for tcn.4.bn1.bias: copying a param with shape torch.Size([100]) from checkpoint, the shape in current model is torch.Size([160]).\n\tsize mismatch for tcn.4.bn1.running_mean: copying a param with shape torch.Size([100]) from checkpoint, the shape in current model is torch.Size([160]).\n\tsize mismatch for tcn.4.bn1.running_var: copying a param with shape torch.Size([100]) from checkpoint, the shape in current model is torch.Size([160]).\n\tsize mismatch for tcn.4.conv2.weight: copying a param with shape torch.Size([100, 100, 2]) from checkpoint, the shape in current model is torch.Size([160, 160, 2]).\n\tsize mismatch for tcn.4.conv2.bias: copying a param with shape torch.Size([100]) from checkpoint, the shape in current model is torch.Size([160]).\n\tsize mismatch for tcn.4.bn2.weight: copying a param with shape torch.Size([100]) from checkpoint, the shape in current model is torch.Size([160]).\n\tsize mismatch for tcn.4.bn2.bias: copying a param with shape torch.Size([100]) from checkpoint, the shape in current model is torch.Size([160]).\n\tsize mismatch for tcn.4.bn2.running_mean: copying a param with shape torch.Size([100]) from checkpoint, the shape in current model is torch.Size([160]).\n\tsize mismatch for tcn.4.bn2.running_var: copying a param with shape torch.Size([100]) from checkpoint, the shape in current model is torch.Size([160]).\n\tsize mismatch for tcn.5.conv1.weight: copying a param with shape torch.Size([100, 100, 2]) from checkpoint, the shape in current model is torch.Size([160, 160, 2]).\n\tsize mismatch for tcn.5.conv1.bias: copying a param with shape torch.Size([100]) from checkpoint, the shape in current model is torch.Size([160]).\n\tsize mismatch for tcn.5.bn1.weight: copying a param with shape torch.Size([100]) from checkpoint, the shape in current model is torch.Size([160]).\n\tsize mismatch for tcn.5.bn1.bias: copying a param with shape torch.Size([100]) from checkpoint, the shape in current model is torch.Size([160]).\n\tsize mismatch for tcn.5.bn1.running_mean: copying a param with shape torch.Size([100]) from checkpoint, the shape in current model is torch.Size([160]).\n\tsize mismatch for tcn.5.bn1.running_var: copying a param with shape torch.Size([100]) from checkpoint, the shape in current model is torch.Size([160]).\n\tsize mismatch for tcn.5.conv2.weight: copying a param with shape torch.Size([100, 100, 2]) from checkpoint, the shape in current model is torch.Size([160, 160, 2]).\n\tsize mismatch for tcn.5.conv2.bias: copying a param with shape torch.Size([100]) from checkpoint, the shape in current model is torch.Size([160]).\n\tsize mismatch for tcn.5.bn2.weight: copying a param with shape torch.Size([100]) from checkpoint, the shape in current model is torch.Size([160]).\n\tsize mismatch for tcn.5.bn2.bias: copying a param with shape torch.Size([100]) from checkpoint, the shape in current model is torch.Size([160]).\n\tsize mismatch for tcn.5.bn2.running_mean: copying a param with shape torch.Size([100]) from checkpoint, the shape in current model is torch.Size([160]).\n\tsize mismatch for tcn.5.bn2.running_var: copying a param with shape torch.Size([100]) from checkpoint, the shape in current model is torch.Size([160]).\n\tsize mismatch for tcn.6.conv1.weight: copying a param with shape torch.Size([100, 100, 2]) from checkpoint, the shape in current model is torch.Size([160, 160, 2]).\n\tsize mismatch for tcn.6.conv1.bias: copying a param with shape torch.Size([100]) from checkpoint, the shape in current model is torch.Size([160]).\n\tsize mismatch for tcn.6.bn1.weight: copying a param with shape torch.Size([100]) from checkpoint, the shape in current model is torch.Size([160]).\n\tsize mismatch for tcn.6.bn1.bias: copying a param with shape torch.Size([100]) from checkpoint, the shape in current model is torch.Size([160]).\n\tsize mismatch for tcn.6.bn1.running_mean: copying a param with shape torch.Size([100]) from checkpoint, the shape in current model is torch.Size([160]).\n\tsize mismatch for tcn.6.bn1.running_var: copying a param with shape torch.Size([100]) from checkpoint, the shape in current model is torch.Size([160]).\n\tsize mismatch for tcn.6.conv2.weight: copying a param with shape torch.Size([100, 100, 2]) from checkpoint, the shape in current model is torch.Size([160, 160, 2]).\n\tsize mismatch for tcn.6.conv2.bias: copying a param with shape torch.Size([100]) from checkpoint, the shape in current model is torch.Size([160]).\n\tsize mismatch for tcn.6.bn2.weight: copying a param with shape torch.Size([100]) from checkpoint, the shape in current model is torch.Size([160]).\n\tsize mismatch for tcn.6.bn2.bias: copying a param with shape torch.Size([100]) from checkpoint, the shape in current model is torch.Size([160]).\n\tsize mismatch for tcn.6.bn2.running_mean: copying a param with shape torch.Size([100]) from checkpoint, the shape in current model is torch.Size([160]).\n\tsize mismatch for tcn.6.bn2.running_var: copying a param with shape torch.Size([100]) from checkpoint, the shape in current model is torch.Size([160]).\n\tsize mismatch for last.0.weight: copying a param with shape torch.Size([6, 100, 1]) from checkpoint, the shape in current model is torch.Size([6, 160, 1]).",
     "output_type": "error",
     "traceback": [
      "\u001b[0;31m---------------------------------------------------------------------------\u001b[0m",
      "\u001b[0;31mRuntimeError\u001b[0m                              Traceback (most recent call last)",
      "Cell \u001b[0;32mIn[10], line 23\u001b[0m\n\u001b[1;32m     19\u001b[0m batch_size \u001b[38;5;241m=\u001b[39m \u001b[38;5;241m1000\u001b[39m\n\u001b[1;32m     20\u001b[0m \u001b[38;5;28;01mfor\u001b[39;00m epoch \u001b[38;5;129;01min\u001b[39;00m \u001b[38;5;28mrange\u001b[39m(\u001b[38;5;241m150\u001b[39m, \u001b[38;5;241m250\u001b[39m, \u001b[38;5;241m5\u001b[39m):\n\u001b[1;32m     21\u001b[0m     \n\u001b[1;32m     22\u001b[0m     \u001b[38;5;66;03m# Load generator for the current epoch\u001b[39;00m\n\u001b[0;32m---> 23\u001b[0m     \u001b[43mgenerator\u001b[49m\u001b[38;5;241;43m.\u001b[39;49m\u001b[43mload_state_dict\u001b[49m\u001b[43m(\u001b[49m\u001b[43mtorch\u001b[49m\u001b[38;5;241;43m.\u001b[39;49m\u001b[43mload\u001b[49m\u001b[43m(\u001b[49m\u001b[38;5;124;43mf\u001b[39;49m\u001b[38;5;124;43m'\u001b[39;49m\u001b[38;5;124;43m./results/models/\u001b[39;49m\u001b[38;5;132;43;01m{\u001b[39;49;00m\u001b[43mfull_name\u001b[49m\u001b[38;5;132;43;01m}\u001b[39;49;00m\u001b[38;5;124;43m/Generator_\u001b[39;49m\u001b[38;5;132;43;01m{\u001b[39;49;00m\u001b[43mepoch\u001b[49m\u001b[38;5;132;43;01m}\u001b[39;49;00m\u001b[38;5;124;43m.pt\u001b[39;49m\u001b[38;5;124;43m'\u001b[39;49m\u001b[43m)\u001b[49m\u001b[43m)\u001b[49m\n\u001b[1;32m     24\u001b[0m     generator\u001b[38;5;241m.\u001b[39mto(config\u001b[38;5;241m.\u001b[39mdevice)\n\u001b[1;32m     25\u001b[0m     generator\u001b[38;5;241m.\u001b[39meval()\n",
      "File \u001b[0;32m/opt/conda/lib/python3.10/site-packages/torch/nn/modules/module.py:1667\u001b[0m, in \u001b[0;36mModule.load_state_dict\u001b[0;34m(self, state_dict, strict)\u001b[0m\n\u001b[1;32m   1662\u001b[0m         error_msgs\u001b[38;5;241m.\u001b[39minsert(\n\u001b[1;32m   1663\u001b[0m             \u001b[38;5;241m0\u001b[39m, \u001b[38;5;124m'\u001b[39m\u001b[38;5;124mMissing key(s) in state_dict: \u001b[39m\u001b[38;5;132;01m{}\u001b[39;00m\u001b[38;5;124m. \u001b[39m\u001b[38;5;124m'\u001b[39m\u001b[38;5;241m.\u001b[39mformat(\n\u001b[1;32m   1664\u001b[0m                 \u001b[38;5;124m'\u001b[39m\u001b[38;5;124m, \u001b[39m\u001b[38;5;124m'\u001b[39m\u001b[38;5;241m.\u001b[39mjoin(\u001b[38;5;124m'\u001b[39m\u001b[38;5;124m\"\u001b[39m\u001b[38;5;132;01m{}\u001b[39;00m\u001b[38;5;124m\"\u001b[39m\u001b[38;5;124m'\u001b[39m\u001b[38;5;241m.\u001b[39mformat(k) \u001b[38;5;28;01mfor\u001b[39;00m k \u001b[38;5;129;01min\u001b[39;00m missing_keys)))\n\u001b[1;32m   1666\u001b[0m \u001b[38;5;28;01mif\u001b[39;00m \u001b[38;5;28mlen\u001b[39m(error_msgs) \u001b[38;5;241m>\u001b[39m \u001b[38;5;241m0\u001b[39m:\n\u001b[0;32m-> 1667\u001b[0m     \u001b[38;5;28;01mraise\u001b[39;00m \u001b[38;5;167;01mRuntimeError\u001b[39;00m(\u001b[38;5;124m'\u001b[39m\u001b[38;5;124mError(s) in loading state_dict for \u001b[39m\u001b[38;5;132;01m{}\u001b[39;00m\u001b[38;5;124m:\u001b[39m\u001b[38;5;130;01m\\n\u001b[39;00m\u001b[38;5;130;01m\\t\u001b[39;00m\u001b[38;5;132;01m{}\u001b[39;00m\u001b[38;5;124m'\u001b[39m\u001b[38;5;241m.\u001b[39mformat(\n\u001b[1;32m   1668\u001b[0m                        \u001b[38;5;28mself\u001b[39m\u001b[38;5;241m.\u001b[39m\u001b[38;5;18m__class__\u001b[39m\u001b[38;5;241m.\u001b[39m\u001b[38;5;18m__name__\u001b[39m, \u001b[38;5;124m\"\u001b[39m\u001b[38;5;130;01m\\n\u001b[39;00m\u001b[38;5;130;01m\\t\u001b[39;00m\u001b[38;5;124m\"\u001b[39m\u001b[38;5;241m.\u001b[39mjoin(error_msgs)))\n\u001b[1;32m   1669\u001b[0m \u001b[38;5;28;01mreturn\u001b[39;00m _IncompatibleKeys(missing_keys, unexpected_keys)\n",
      "\u001b[0;31mRuntimeError\u001b[0m: Error(s) in loading state_dict for UserGenerator:\n\tsize mismatch for tcn.0.conv1.weight: copying a param with shape torch.Size([100, 6, 1]) from checkpoint, the shape in current model is torch.Size([160, 6, 1]).\n\tsize mismatch for tcn.0.conv1.bias: copying a param with shape torch.Size([100]) from checkpoint, the shape in current model is torch.Size([160]).\n\tsize mismatch for tcn.0.bn1.weight: copying a param with shape torch.Size([100]) from checkpoint, the shape in current model is torch.Size([160]).\n\tsize mismatch for tcn.0.bn1.bias: copying a param with shape torch.Size([100]) from checkpoint, the shape in current model is torch.Size([160]).\n\tsize mismatch for tcn.0.bn1.running_mean: copying a param with shape torch.Size([100]) from checkpoint, the shape in current model is torch.Size([160]).\n\tsize mismatch for tcn.0.bn1.running_var: copying a param with shape torch.Size([100]) from checkpoint, the shape in current model is torch.Size([160]).\n\tsize mismatch for tcn.0.conv2.weight: copying a param with shape torch.Size([100, 100, 1]) from checkpoint, the shape in current model is torch.Size([160, 160, 1]).\n\tsize mismatch for tcn.0.conv2.bias: copying a param with shape torch.Size([100]) from checkpoint, the shape in current model is torch.Size([160]).\n\tsize mismatch for tcn.0.bn2.weight: copying a param with shape torch.Size([100]) from checkpoint, the shape in current model is torch.Size([160]).\n\tsize mismatch for tcn.0.bn2.bias: copying a param with shape torch.Size([100]) from checkpoint, the shape in current model is torch.Size([160]).\n\tsize mismatch for tcn.0.bn2.running_mean: copying a param with shape torch.Size([100]) from checkpoint, the shape in current model is torch.Size([160]).\n\tsize mismatch for tcn.0.bn2.running_var: copying a param with shape torch.Size([100]) from checkpoint, the shape in current model is torch.Size([160]).\n\tsize mismatch for tcn.0.downsample.0.weight: copying a param with shape torch.Size([100, 6, 1]) from checkpoint, the shape in current model is torch.Size([160, 6, 1]).\n\tsize mismatch for tcn.0.downsample.0.bias: copying a param with shape torch.Size([100]) from checkpoint, the shape in current model is torch.Size([160]).\n\tsize mismatch for tcn.0.downsample.1.weight: copying a param with shape torch.Size([100]) from checkpoint, the shape in current model is torch.Size([160]).\n\tsize mismatch for tcn.0.downsample.1.bias: copying a param with shape torch.Size([100]) from checkpoint, the shape in current model is torch.Size([160]).\n\tsize mismatch for tcn.0.downsample.1.running_mean: copying a param with shape torch.Size([100]) from checkpoint, the shape in current model is torch.Size([160]).\n\tsize mismatch for tcn.0.downsample.1.running_var: copying a param with shape torch.Size([100]) from checkpoint, the shape in current model is torch.Size([160]).\n\tsize mismatch for tcn.1.conv1.weight: copying a param with shape torch.Size([100, 100, 2]) from checkpoint, the shape in current model is torch.Size([160, 160, 2]).\n\tsize mismatch for tcn.1.conv1.bias: copying a param with shape torch.Size([100]) from checkpoint, the shape in current model is torch.Size([160]).\n\tsize mismatch for tcn.1.bn1.weight: copying a param with shape torch.Size([100]) from checkpoint, the shape in current model is torch.Size([160]).\n\tsize mismatch for tcn.1.bn1.bias: copying a param with shape torch.Size([100]) from checkpoint, the shape in current model is torch.Size([160]).\n\tsize mismatch for tcn.1.bn1.running_mean: copying a param with shape torch.Size([100]) from checkpoint, the shape in current model is torch.Size([160]).\n\tsize mismatch for tcn.1.bn1.running_var: copying a param with shape torch.Size([100]) from checkpoint, the shape in current model is torch.Size([160]).\n\tsize mismatch for tcn.1.conv2.weight: copying a param with shape torch.Size([100, 100, 2]) from checkpoint, the shape in current model is torch.Size([160, 160, 2]).\n\tsize mismatch for tcn.1.conv2.bias: copying a param with shape torch.Size([100]) from checkpoint, the shape in current model is torch.Size([160]).\n\tsize mismatch for tcn.1.bn2.weight: copying a param with shape torch.Size([100]) from checkpoint, the shape in current model is torch.Size([160]).\n\tsize mismatch for tcn.1.bn2.bias: copying a param with shape torch.Size([100]) from checkpoint, the shape in current model is torch.Size([160]).\n\tsize mismatch for tcn.1.bn2.running_mean: copying a param with shape torch.Size([100]) from checkpoint, the shape in current model is torch.Size([160]).\n\tsize mismatch for tcn.1.bn2.running_var: copying a param with shape torch.Size([100]) from checkpoint, the shape in current model is torch.Size([160]).\n\tsize mismatch for tcn.2.conv1.weight: copying a param with shape torch.Size([100, 100, 2]) from checkpoint, the shape in current model is torch.Size([160, 160, 2]).\n\tsize mismatch for tcn.2.conv1.bias: copying a param with shape torch.Size([100]) from checkpoint, the shape in current model is torch.Size([160]).\n\tsize mismatch for tcn.2.bn1.weight: copying a param with shape torch.Size([100]) from checkpoint, the shape in current model is torch.Size([160]).\n\tsize mismatch for tcn.2.bn1.bias: copying a param with shape torch.Size([100]) from checkpoint, the shape in current model is torch.Size([160]).\n\tsize mismatch for tcn.2.bn1.running_mean: copying a param with shape torch.Size([100]) from checkpoint, the shape in current model is torch.Size([160]).\n\tsize mismatch for tcn.2.bn1.running_var: copying a param with shape torch.Size([100]) from checkpoint, the shape in current model is torch.Size([160]).\n\tsize mismatch for tcn.2.conv2.weight: copying a param with shape torch.Size([100, 100, 2]) from checkpoint, the shape in current model is torch.Size([160, 160, 2]).\n\tsize mismatch for tcn.2.conv2.bias: copying a param with shape torch.Size([100]) from checkpoint, the shape in current model is torch.Size([160]).\n\tsize mismatch for tcn.2.bn2.weight: copying a param with shape torch.Size([100]) from checkpoint, the shape in current model is torch.Size([160]).\n\tsize mismatch for tcn.2.bn2.bias: copying a param with shape torch.Size([100]) from checkpoint, the shape in current model is torch.Size([160]).\n\tsize mismatch for tcn.2.bn2.running_mean: copying a param with shape torch.Size([100]) from checkpoint, the shape in current model is torch.Size([160]).\n\tsize mismatch for tcn.2.bn2.running_var: copying a param with shape torch.Size([100]) from checkpoint, the shape in current model is torch.Size([160]).\n\tsize mismatch for tcn.3.conv1.weight: copying a param with shape torch.Size([100, 100, 2]) from checkpoint, the shape in current model is torch.Size([160, 160, 2]).\n\tsize mismatch for tcn.3.conv1.bias: copying a param with shape torch.Size([100]) from checkpoint, the shape in current model is torch.Size([160]).\n\tsize mismatch for tcn.3.bn1.weight: copying a param with shape torch.Size([100]) from checkpoint, the shape in current model is torch.Size([160]).\n\tsize mismatch for tcn.3.bn1.bias: copying a param with shape torch.Size([100]) from checkpoint, the shape in current model is torch.Size([160]).\n\tsize mismatch for tcn.3.bn1.running_mean: copying a param with shape torch.Size([100]) from checkpoint, the shape in current model is torch.Size([160]).\n\tsize mismatch for tcn.3.bn1.running_var: copying a param with shape torch.Size([100]) from checkpoint, the shape in current model is torch.Size([160]).\n\tsize mismatch for tcn.3.conv2.weight: copying a param with shape torch.Size([100, 100, 2]) from checkpoint, the shape in current model is torch.Size([160, 160, 2]).\n\tsize mismatch for tcn.3.conv2.bias: copying a param with shape torch.Size([100]) from checkpoint, the shape in current model is torch.Size([160]).\n\tsize mismatch for tcn.3.bn2.weight: copying a param with shape torch.Size([100]) from checkpoint, the shape in current model is torch.Size([160]).\n\tsize mismatch for tcn.3.bn2.bias: copying a param with shape torch.Size([100]) from checkpoint, the shape in current model is torch.Size([160]).\n\tsize mismatch for tcn.3.bn2.running_mean: copying a param with shape torch.Size([100]) from checkpoint, the shape in current model is torch.Size([160]).\n\tsize mismatch for tcn.3.bn2.running_var: copying a param with shape torch.Size([100]) from checkpoint, the shape in current model is torch.Size([160]).\n\tsize mismatch for tcn.4.conv1.weight: copying a param with shape torch.Size([100, 100, 2]) from checkpoint, the shape in current model is torch.Size([160, 160, 2]).\n\tsize mismatch for tcn.4.conv1.bias: copying a param with shape torch.Size([100]) from checkpoint, the shape in current model is torch.Size([160]).\n\tsize mismatch for tcn.4.bn1.weight: copying a param with shape torch.Size([100]) from checkpoint, the shape in current model is torch.Size([160]).\n\tsize mismatch for tcn.4.bn1.bias: copying a param with shape torch.Size([100]) from checkpoint, the shape in current model is torch.Size([160]).\n\tsize mismatch for tcn.4.bn1.running_mean: copying a param with shape torch.Size([100]) from checkpoint, the shape in current model is torch.Size([160]).\n\tsize mismatch for tcn.4.bn1.running_var: copying a param with shape torch.Size([100]) from checkpoint, the shape in current model is torch.Size([160]).\n\tsize mismatch for tcn.4.conv2.weight: copying a param with shape torch.Size([100, 100, 2]) from checkpoint, the shape in current model is torch.Size([160, 160, 2]).\n\tsize mismatch for tcn.4.conv2.bias: copying a param with shape torch.Size([100]) from checkpoint, the shape in current model is torch.Size([160]).\n\tsize mismatch for tcn.4.bn2.weight: copying a param with shape torch.Size([100]) from checkpoint, the shape in current model is torch.Size([160]).\n\tsize mismatch for tcn.4.bn2.bias: copying a param with shape torch.Size([100]) from checkpoint, the shape in current model is torch.Size([160]).\n\tsize mismatch for tcn.4.bn2.running_mean: copying a param with shape torch.Size([100]) from checkpoint, the shape in current model is torch.Size([160]).\n\tsize mismatch for tcn.4.bn2.running_var: copying a param with shape torch.Size([100]) from checkpoint, the shape in current model is torch.Size([160]).\n\tsize mismatch for tcn.5.conv1.weight: copying a param with shape torch.Size([100, 100, 2]) from checkpoint, the shape in current model is torch.Size([160, 160, 2]).\n\tsize mismatch for tcn.5.conv1.bias: copying a param with shape torch.Size([100]) from checkpoint, the shape in current model is torch.Size([160]).\n\tsize mismatch for tcn.5.bn1.weight: copying a param with shape torch.Size([100]) from checkpoint, the shape in current model is torch.Size([160]).\n\tsize mismatch for tcn.5.bn1.bias: copying a param with shape torch.Size([100]) from checkpoint, the shape in current model is torch.Size([160]).\n\tsize mismatch for tcn.5.bn1.running_mean: copying a param with shape torch.Size([100]) from checkpoint, the shape in current model is torch.Size([160]).\n\tsize mismatch for tcn.5.bn1.running_var: copying a param with shape torch.Size([100]) from checkpoint, the shape in current model is torch.Size([160]).\n\tsize mismatch for tcn.5.conv2.weight: copying a param with shape torch.Size([100, 100, 2]) from checkpoint, the shape in current model is torch.Size([160, 160, 2]).\n\tsize mismatch for tcn.5.conv2.bias: copying a param with shape torch.Size([100]) from checkpoint, the shape in current model is torch.Size([160]).\n\tsize mismatch for tcn.5.bn2.weight: copying a param with shape torch.Size([100]) from checkpoint, the shape in current model is torch.Size([160]).\n\tsize mismatch for tcn.5.bn2.bias: copying a param with shape torch.Size([100]) from checkpoint, the shape in current model is torch.Size([160]).\n\tsize mismatch for tcn.5.bn2.running_mean: copying a param with shape torch.Size([100]) from checkpoint, the shape in current model is torch.Size([160]).\n\tsize mismatch for tcn.5.bn2.running_var: copying a param with shape torch.Size([100]) from checkpoint, the shape in current model is torch.Size([160]).\n\tsize mismatch for tcn.6.conv1.weight: copying a param with shape torch.Size([100, 100, 2]) from checkpoint, the shape in current model is torch.Size([160, 160, 2]).\n\tsize mismatch for tcn.6.conv1.bias: copying a param with shape torch.Size([100]) from checkpoint, the shape in current model is torch.Size([160]).\n\tsize mismatch for tcn.6.bn1.weight: copying a param with shape torch.Size([100]) from checkpoint, the shape in current model is torch.Size([160]).\n\tsize mismatch for tcn.6.bn1.bias: copying a param with shape torch.Size([100]) from checkpoint, the shape in current model is torch.Size([160]).\n\tsize mismatch for tcn.6.bn1.running_mean: copying a param with shape torch.Size([100]) from checkpoint, the shape in current model is torch.Size([160]).\n\tsize mismatch for tcn.6.bn1.running_var: copying a param with shape torch.Size([100]) from checkpoint, the shape in current model is torch.Size([160]).\n\tsize mismatch for tcn.6.conv2.weight: copying a param with shape torch.Size([100, 100, 2]) from checkpoint, the shape in current model is torch.Size([160, 160, 2]).\n\tsize mismatch for tcn.6.conv2.bias: copying a param with shape torch.Size([100]) from checkpoint, the shape in current model is torch.Size([160]).\n\tsize mismatch for tcn.6.bn2.weight: copying a param with shape torch.Size([100]) from checkpoint, the shape in current model is torch.Size([160]).\n\tsize mismatch for tcn.6.bn2.bias: copying a param with shape torch.Size([100]) from checkpoint, the shape in current model is torch.Size([160]).\n\tsize mismatch for tcn.6.bn2.running_mean: copying a param with shape torch.Size([100]) from checkpoint, the shape in current model is torch.Size([160]).\n\tsize mismatch for tcn.6.bn2.running_var: copying a param with shape torch.Size([100]) from checkpoint, the shape in current model is torch.Size([160]).\n\tsize mismatch for last.0.weight: copying a param with shape torch.Size([6, 100, 1]) from checkpoint, the shape in current model is torch.Size([6, 160, 1])."
     ]
    },
    {
     "ename": "",
     "evalue": "",
     "output_type": "error",
     "traceback": [
      "\u001b[1;31m현재 셀 또는 이전 셀에서 코드를 실행하는 동안 Kernel이 충돌했습니다. \n",
      "\u001b[1;31m셀의 코드를 검토하여 가능한 오류 원인을 식별하세요. \n",
      "\u001b[1;31m자세한 내용을 보려면 <a href='https://aka.ms/vscodeJupyterKernelCrash'>여기</a>를 클릭하세요. \n",
      "\u001b[1;31m자세한 내용은 Jupyter <a href='command:jupyter.viewOutput'>로그</a>를 참조하세요."
     ]
    }
   ],
   "source": [
    "\"\"\" Find the best epochs based on 100 days cumulative distribution \"\"\"\n",
    "window = 100\n",
    "gen_tmp = UserGenerator(config)\n",
    "min_dist = float('inf')  \n",
    "best_epoch = 0\n",
    "\n",
    "\n",
    "def compute_avg_emd(real_data, fake_data, window):\n",
    "    \"\"\"\n",
    "    Compute the Earth Mover's Distance (EMD) for real and fake data over a rolling window.\n",
    "    \"\"\"\n",
    "    emd = 0\n",
    "    for i in range(real_data.shape[1]):  # Iterate over features\n",
    "        real_dist = rolling_window(real_data[:, i, :].T, window).sum(axis=1).ravel()\n",
    "        fake_dist = rolling_window(fake_data[:, i, :].T, window).sum(axis=1).ravel()\n",
    "        emd += wasserstein_distance(real_dist, fake_dist)\n",
    "    return emd\n",
    "\n",
    "batch_size = 1000\n",
    "for epoch in range(150, 250, 5):\n",
    "    \n",
    "    # Load generator for the current epoch\n",
    "    generator.load_state_dict(torch.load(f'./results/models/{full_name}/Generator_{epoch}.pt'))\n",
    "    generator.to(config.device)\n",
    "    generator.eval()\n",
    "    \n",
    "    # Generate fake data\n",
    "    noise = torch.randn(batch_size, config.noise_dim, config.n_steps, device=config.device)\n",
    "    with torch.no_grad():        \n",
    "        fake= generator(noise)                \n",
    "        \n",
    "    # Inverse scaling for real and fake data\n",
    "    print(fake.shape)\n",
    "    print(training_data.transpose(1, 2).shape)\n",
    "    fake_data = inverse_scaling(fake, scalers)        \n",
    "    real_data = inverse_scaling(training_data.transpose(1, 2), scalers)\n",
    "    \n",
    "    # Compute EMD\n",
    "    emd = compute_avg_emd(real_data, fake_data, window)\n",
    "\n",
    "    # Update best epoch if current EMD is lower\n",
    "    if emd < min_dist:\n",
    "        min_dist = emd\n",
    "        best_epoch = epoch\n",
    "        print(f\"min_distance: {min_dist:.3f}, best_epoch: {best_epoch}\") \n",
    "\n",
    "generator.load_state_dict(torch.load(f'./results/models/{full_name}/Generator_{best_epoch}.pt'))\n",
    "generator.to(config.device)\n",
    "generator.eval()\n",
    "print()"
   ]
  },
  {
   "cell_type": "code",
   "execution_count": null,
   "metadata": {},
   "outputs": [],
   "source": [
    "\"\"\" Fake data와 Test data를 비교 \"\"\"\n",
    "batch_size = 2000\n",
    "noise = torch.randn(batch_size, config.noise_dim, config.n_steps, device=config.device)\n",
    "with torch.no_grad():\n",
    "    fake = generator(noise)\n",
    "\n",
    "fake_data = inverse_scaling(fake, scalers)\n",
    "real_data = inverse_scaling(test_data.transpose(1, 2), scalers)\n",
    "\n",
    "# 각 feature의 전체 최소값 및 최대값 계산\n",
    "min_vals = real_data.min(axis=(0, 2), keepdims=True)  # Shape: (1, 5, 1)\n",
    "max_vals = real_data.max(axis=(0, 2), keepdims=True)  # Shape: (1, 5, 1)\n",
    "\n",
    "# 마스크 계산 (모든 샘플이 범위 내에 있는지 확인)\n",
    "mask = np.all((fake_data >= min_vals * 1.5) & (fake_data <= max_vals * 1.5), axis=(1, 2))\n",
    "\n",
    "# 마스크를 적용하여 fake_data 필터링\n",
    "print(real_data.shape, type(real_data))\n",
    "print(fake_data.shape, type(fake_data))\n",
    "fake_data = fake_data[mask]\n",
    "print(f\"Filtered shape: {fake_data.shape}\")"
   ]
  },
  {
   "cell_type": "code",
   "execution_count": null,
   "metadata": {},
   "outputs": [],
   "source": [
    "\"\"\" Visualize the distribution of the real and fake data \"\"\"\n",
    "fake_list = [fake_data[:, i, :] for i in range(fake_data.shape[1])]\n",
    "real_list = [real_data[:, i, :] for i in range(real_data.shape[1])]\n",
    "\n",
    "# Plot the distribution of the real and fake data\n",
    "windows = [1, 5, 20, 100]\n",
    "for j in range(config.n_vars):\n",
    "    fig, axs = plt.subplots(nrows=1, ncols=4, figsize=(28, 6))  \n",
    "\n",
    "    for i in range(len(windows)):\n",
    "        col = i\n",
    "\n",
    "        real_dist = rolling_window(real_list[j].T, windows[i]).sum(axis=1).ravel()\n",
    "        fake_dist = rolling_window(fake_list[j].T, windows[i]).sum(axis=1).ravel()        \n",
    "        \n",
    "        min_val = real_dist.min()\n",
    "        max_val = real_dist.max()\n",
    "        \n",
    "        bins = np.linspace(min_val, max_val, 81)  \n",
    "        \n",
    "        sns.histplot(real_dist, bins=bins, kde=False, ax=axs[col], color='tab:blue', alpha=0.5, stat='density')\n",
    "        sns.histplot(fake_dist, bins=bins, kde=False, ax=axs[col], color='tab:orange', alpha=0.5, stat='density')\n",
    "\n",
    "        axs[col].set_xlim(*np.quantile(real_dist, [0.001, .999]))\n",
    "        \n",
    "        axs[col].set_title('{} day return distribution'.format(windows[i]), size=18)\n",
    "        axs[col].yaxis.grid(True, alpha=0.5)\n",
    "        axs[col].set_xlabel('Cumulative log return', fontsize=12)\n",
    "        axs[col].set_ylabel('Frequency', fontsize=12)\n",
    "\n",
    "    axs[0].legend(['Historical returns', 'Synthetic returns'])\n",
    "\n",
    "plt.show()\n",
    "\n",
    "def calculate_distribution_scores(real, fake, num_G, windows):\n",
    "    scores = {\n",
    "        'EMD': np.zeros((num_G, len(windows))),\n",
    "        'KL': np.zeros((num_G, len(windows))),\n",
    "        'JS': np.zeros((num_G, len(windows))),\n",
    "        'KS': np.zeros((num_G, len(windows)))\n",
    "    }\n",
    "\n",
    "    for i in range(num_G):\n",
    "        for j in range(len(windows)):\n",
    "            real_dist = rolling_window(real[i].T, windows[j]).sum(axis=1).ravel()\n",
    "            fake_dist = rolling_window(fake[i].T, windows[j]).sum(axis=1).ravel()\n",
    "            \n",
    "            np.random.shuffle(real_dist)\n",
    "            np.random.shuffle(fake_dist)\n",
    "            \n",
    "            # Calculate EMD\n",
    "            scores['EMD'][i, j] = wasserstein_distance(real_dist, fake_dist)\n",
    "            \n",
    "            # Calculate KS Statistic\n",
    "            scores['KS'][i, j], _ = ks_2samp(real_dist, fake_dist)                                    \n",
    "            \n",
    "            # Create histograms to estimate the probability distributions\n",
    "            real_hist, bin_edges = np.histogram(real_dist, bins=100, density=True)\n",
    "            fake_hist, _ = np.histogram(fake_dist, bins=bin_edges, density=True)\n",
    "            \n",
    "            # Normalize the histograms to get probability distributions\n",
    "            real_prob = real_hist / np.sum(real_hist)\n",
    "            fake_prob = fake_hist / np.sum(fake_hist)\n",
    "            \n",
    "            # Calculate KL Divergence\n",
    "            kl_divergence = entropy(real_prob + 1e-10, fake_prob + 1e-10)\n",
    "            scores['KL'][i, j] = kl_divergence\n",
    "\n",
    "            # Calculate JS Divergence\n",
    "            js_divergence = jensenshannon(real_prob + 1e-10, fake_prob + 1e-10)\n",
    "            scores['JS'][i, j] = js_divergence\n",
    "                \n",
    "    df_scores = {}\n",
    "    for metric, data in scores.items():\n",
    "        data = np.round(data, decimals=4)\n",
    "        df_scores[metric] = pd.DataFrame(data.T, index=windows, columns=[f'{metric} {i}' for i in range(num_G)])\n",
    "        \n",
    "    emd_avg = np.mean(scores['EMD'], axis=0)\n",
    "    df_scores['EMD']['EMD_avg'] = np.round(emd_avg, decimals=4)\n",
    "    \n",
    "    return df_scores\n",
    "\n",
    "# Calculate the distribution scores\n",
    "windows = pd.Series([1, 5, 20, 100], name='window size')\n",
    "\n",
    "results_emd = calculate_distribution_scores(real_list, fake_list, config.n_vars, windows)\n",
    "results_emd"
   ]
  },
  {
   "cell_type": "code",
   "execution_count": null,
   "metadata": {},
   "outputs": [],
   "source": [
    "\"\"\" visualizing acf plots \"\"\"\n",
    "def plot_acf_comparison(real_list, fake_list, num_G, lags=20):    \n",
    "    data_types = ['Identity', 'Squared']\n",
    "    data_transforms = [lambda x: x, np.square]  \n",
    "    titles = ['Identity log returns', 'Squared log returns']\n",
    "\n",
    "    for i in range(num_G):\n",
    "        fig, axs = plt.subplots(nrows=1, ncols=2, figsize=(12, 4))  \n",
    "        print(i)\n",
    "        print(real_list[i][:, 0])\n",
    "        for ax, data_type, transform, title in zip(axs, data_types, data_transforms, titles):\n",
    "            \n",
    "            transformed_real = transform(real_list[i])\n",
    "            transformed_fake = transform(fake_list[i])\n",
    "            \n",
    "            acf_real = np.array([acf(ts, nlags=lags) for ts in transformed_real])\n",
    "            acf_fake = np.array([acf(ts, nlags=lags) for ts in transformed_fake])\n",
    "            \n",
    "            mean_real = np.mean(acf_real, axis=0)\n",
    "            std_real = np.std(acf_real, axis=0)\n",
    "            mean_fake = np.mean(acf_fake, axis=0)\n",
    "            std_fake = np.std(acf_fake, axis=0)\n",
    "                        \n",
    "            ax.plot(mean_real, label=f'{data_type} ACF Real - Mean', color='tab:blue')\n",
    "            ax.fill_between(range(lags+1), mean_real - 0.5*std_real, mean_real + 0.5*std_real, color='tab:blue', alpha=0.2,\n",
    "                            label=f'{data_type} ACF Real - 1/2 Std Dev')        \n",
    "            ax.plot(mean_fake, label=f'{data_type} ACF Synthetic - Mean', color='tab:orange')\n",
    "            ax.fill_between(range(lags+1), mean_fake - 0.5*std_fake, mean_fake + 0.5*std_fake, color='tab:orange', alpha=0.2,\n",
    "                            label=f'{data_type} ACF Synthetic - 1/2 Std Dev')\n",
    "            \n",
    "            ax.set_ylim(-0.20, 0.3)\n",
    "            ax.set_title(title)\n",
    "            ax.grid(True)\n",
    "            ax.axhline(y=0, color='k')\n",
    "            ax.axvline(x=0, color='k')\n",
    "            ax.set_xlabel('Lag (number of days)', fontsize=16)\n",
    "            ax.legend()\n",
    "\n",
    "        plt.show()\n",
    "        \n",
    "plot_acf_comparison(real_list, fake_list, config.n_vars, lags=20)"
   ]
  },
  {
   "cell_type": "code",
   "execution_count": null,
   "metadata": {},
   "outputs": [],
   "source": [
    "# Function to calculate mean correlation across all samples\n",
    "def calculate_mean_feature_correlations(data):\n",
    "    num_samples = data.shape[0]\n",
    "    correlations = []\n",
    "\n",
    "    # 각 샘플에 대해 상관관계를 계산하고 결과를 저장\n",
    "    for i in range(num_samples):\n",
    "        sample = data[i, :, :]\n",
    "        correlation_matrix = np.corrcoef(sample, rowvar=False)  # Correlation between features\n",
    "        correlations.append(correlation_matrix)\n",
    "\n",
    "    # 저장된 상관행렬들의 평균을 계산\n",
    "    mean_correlation_matrix = np.mean(correlations, axis=0)\n",
    "    return mean_correlation_matrix\n",
    "\n",
    "# Calculate the mean correlations for both datasets\n",
    "fake_mean_correlation = calculate_mean_feature_correlations(np.transpose(fake_data, (0, 2, 1)))\n",
    "real_mean_correlation = calculate_mean_feature_correlations(np.transpose(real_data, (0, 2, 1)))\n",
    "\n",
    "# Print results rounded to three decimal places\n",
    "print(\"Fake Data Mean Correlation Matrix:\")\n",
    "print(np.round(fake_mean_correlation, 3))\n",
    "\n",
    "print(\"\\nReal Data Mean Correlation Matrix:\")\n",
    "print(np.round(real_mean_correlation, 3))\n",
    "\n",
    "def plot_correlation_heatmap(correlation_matrix, title, feature_names):\n",
    "    fig, ax = plt.subplots(figsize=(5, 4))\n",
    "    sns.heatmap(correlation_matrix, annot=True, cmap='cubehelix_r', linewidths=.5, ax=ax, fmt=\".2f\", annot_kws={\"size\": 12}, vmin=-0.1, vmax=1)\n",
    "    \n",
    "    # 축 이름 설정\n",
    "    ax.set_xticklabels(feature_names, fontsize=12)\n",
    "    ax.set_yticklabels(feature_names, fontsize=12)\n",
    "    \n",
    "    # 제목 및 시각적 요소\n",
    "    ax.set_title(title, fontsize=15)\n",
    "    ax.tick_params(axis='both', which='major', labelsize=14)\n",
    "    plt.tight_layout()\n",
    "    plt.show()\n",
    "\n",
    "feature_names = ['DJI', 'IXIC', 'JPM', 'HSI', 'Gold', 'WTI']\n",
    "plot_correlation_heatmap(real_mean_correlation, \"Real Data\", feature_names)\n",
    "plot_correlation_heatmap(fake_mean_correlation, \"Fake Data\", feature_names)\n"
   ]
  },
  {
   "cell_type": "code",
   "execution_count": null,
   "metadata": {},
   "outputs": [],
   "source": [
    "\"\"\" 누적 로그 리턴 플롯 \"\"\"\n",
    "# def compute_cumulative_log_returns(data):\n",
    "#     return np.cumsum(data, axis=2)  # Cumulative sum along the time axis\n",
    "\n",
    "# # 누적 로그 리턴 계산\n",
    "# real_cumulative_log_returns = compute_cumulative_log_returns(real_data)  # Shape: (batch_size, num_assets, sequence_length)\n",
    "# fake_cumulative_log_returns = compute_cumulative_log_returns(fake_data)  # Shape: (batch_size, num_assets, sequence_length)\n",
    "\n",
    "# # 각 자산별 플롯 생성\n",
    "# num_assets = real_data.shape[1]\n",
    "# for asset_idx in range(num_assets):\n",
    "#     # Real 데이터 플롯\n",
    "#     plt.figure(figsize=(12, 6))\n",
    "#     for i in range(real_cumulative_log_returns.shape[0]):  # 최대 10개의 샘플만 플롯\n",
    "#         plt.plot(real_cumulative_log_returns[i, asset_idx, :], alpha=0.6)\n",
    "#     plt.title(f'Real Cumulative Log Returns for Asset {asset_idx + 1}')\n",
    "#     plt.xlabel('Time Step')\n",
    "#     plt.ylabel('Cumulative Log Return')\n",
    "#     plt.grid(True)\n",
    "#     plt.show()\n",
    "\n",
    "#     # Fake 데이터 플롯\n",
    "#     plt.figure(figsize=(12, 6))\n",
    "#     for i in range(fake_cumulative_log_returns.shape[0]):  # 최대 10개의 샘플만 플롯\n",
    "#         plt.plot(fake_cumulative_log_returns[i, asset_idx, :], alpha=0.6)\n",
    "#     plt.title(f'Fake Cumulative Log Returns for Asset {asset_idx + 1}')\n",
    "#     plt.xlabel('Time Step')\n",
    "#     plt.ylabel('Cumulative Log Return')\n",
    "#     plt.grid(True)\n",
    "#     plt.show()\n",
    "\n"
   ]
  },
  {
   "cell_type": "code",
   "execution_count": null,
   "metadata": {},
   "outputs": [],
   "source": [
    "print(real_data.shape)"
   ]
  },
  {
   "cell_type": "markdown",
   "metadata": {},
   "source": [
    "### Synthetic data generation"
   ]
  },
  {
   "cell_type": "markdown",
   "metadata": {},
   "source": [
    "### Model evaluation"
   ]
  },
  {
   "cell_type": "markdown",
   "metadata": {},
   "source": [
    "We compute the performance of our model by first generating the price process, apply the prespecified trading strategies and compare the resulting PnL process using the real and fake data."
   ]
  },
  {
   "cell_type": "code",
   "execution_count": null,
   "metadata": {},
   "outputs": [],
   "source": [
    "from src.evaluation.strategies import log_return_to_price\n",
    "\n",
    "eval_size = real_data.shape[0]\n",
    "fake_data_torch = torch.from_numpy(fake_data).float().transpose(1, 2)\n",
    "real_data_torch = torch.from_numpy(real_data).float().transpose(1, 2)\n",
    "\n",
    "fake_prices = log_return_to_price(fake_data_torch[:eval_size], test_init_price[:eval_size])\n",
    "real_prices = log_return_to_price(real_data_torch[:eval_size], test_init_price[:eval_size])"
   ]
  },
  {
   "cell_type": "code",
   "execution_count": null,
   "metadata": {},
   "outputs": [],
   "source": [
    "config_dir = 'src/evaluation/config.yaml'\n",
    "with open(config_dir) as file:\n",
    "    eval_config = ml_collections.ConfigDict(yaml.safe_load(file))\n",
    "    \n",
    "print(fake_data_torch.shape, real_data_torch.shape, test_init_price.shape)\n",
    "\n",
    "all_positive = (fake_prices > 0).all()\n",
    "if not all_positive:\n",
    "    raise ValueError(\"Sanity Check Failed: Some fake prices are not positive.\")\n",
    "\n",
    "res_dict = {\"var_mean\" : 0., \"es_mean\": 0., \"max_drawback_mean\": 0., \"cumulative_pnl_mean\": 0.,}\n",
    "\n",
    "# Do final evaluation\n",
    "num_strat = 4\n",
    "\n",
    "with torch.no_grad():\n",
    "    for strat_name in ['equal_weight', 'mean_reversion', 'trend_following', 'vol_trading']:\n",
    "        subres_dict = full_evaluation(fake_prices, real_prices, eval_config, strat_name = strat_name)\n",
    "        filtered_means = {k: round(v, 4) for k, v in subres_dict.items() if '_mean' in k}\n",
    "        print(strat_name, filtered_means)\n",
    "        for k in res_dict:\n",
    "            res_dict[k] += subres_dict[k] / num_strat\n",
    "        \n",
    "for k, v in res_dict.items():\n",
    "    print(k, v)"
   ]
  },
  {
   "cell_type": "markdown",
   "metadata": {},
   "source": [
    "# Evaluation Phase 2"
   ]
  },
  {
   "cell_type": "markdown",
   "metadata": {},
   "source": [
    "Prepare real and synthetic data for evaluations."
   ]
  },
  {
   "cell_type": "code",
   "execution_count": null,
   "metadata": {},
   "outputs": [],
   "source": [
    "# Load the dataset\n",
    "from src.evaluations.plot import *\n",
    "from src.evaluations.evaluations import *\n",
    "val_set = TensorDataset(real_data_torch)\n",
    "fake_set = TensorDataset(fake_data_torch)\n",
    "\n",
    "fake_test_dl = DataLoader(\n",
    "    fake_set,\n",
    "    batch_size=config.batch_size,\n",
    "    shuffle=True\n",
    ")\n",
    "real_test_dl = DataLoader(\n",
    "    val_set,\n",
    "    batch_size=config.batch_size,\n",
    "    shuffle=True\n",
    ")\n",
    "\n",
    "x_real, x_fake = loader_to_tensor(real_test_dl), loader_to_tensor(fake_test_dl)"
   ]
  },
  {
   "cell_type": "code",
   "execution_count": null,
   "metadata": {},
   "outputs": [],
   "source": [
    "print(next(iter(real_test_dl))[0].shape)\n",
    "print(next(iter(fake_test_dl))[0].shape)"
   ]
  },
  {
   "cell_type": "markdown",
   "metadata": {},
   "source": [
    "# Visualization"
   ]
  },
  {
   "cell_type": "markdown",
   "metadata": {},
   "source": [
    "### Samples plot"
   ]
  },
  {
   "cell_type": "code",
   "execution_count": null,
   "metadata": {},
   "outputs": [],
   "source": [
    "plot_samples(real_test_dl, fake_test_dl, config, plot_show = True)"
   ]
  },
  {
   "cell_type": "markdown",
   "metadata": {},
   "source": [
    "# Stylised facts"
   ]
  },
  {
   "cell_type": "markdown",
   "metadata": {},
   "source": [
    "### Histogram"
   ]
  },
  {
   "cell_type": "code",
   "execution_count": null,
   "metadata": {},
   "outputs": [],
   "source": [
    "fig = plot_hists_marginals(x_real, x_fake)"
   ]
  },
  {
   "cell_type": "markdown",
   "metadata": {},
   "source": [
    "The plot above illustrate the marginal distribution comparisons across various time steps.\n",
    "Essentially we can quantify this by the marginal distribution loss: "
   ]
  },
  {
   "cell_type": "code",
   "execution_count": null,
   "metadata": {},
   "outputs": [],
   "source": [
    "Marginal_loss = to_numpy(HistoLoss(x_real[:, 1:, :], n_bins=50, name='marginal_distribution')(x_fake[:, 1:, :]))\n",
    "print('Marginal Loss = ', Marginal_loss)"
   ]
  },
  {
   "cell_type": "markdown",
   "metadata": {},
   "source": [
    "### Autocorrelation"
   ]
  },
  {
   "cell_type": "code",
   "execution_count": null,
   "metadata": {},
   "outputs": [],
   "source": [
    "name = 'Our Model'\n",
    "compare_acf_matrix(real_test_dl, fake_test_dl, config)"
   ]
  },
  {
   "cell_type": "markdown",
   "metadata": {},
   "source": [
    "The above plots demonstrated the quality of the generated sample in terms of autocorrelation. Correspondingly, we have the loss"
   ]
  },
  {
   "cell_type": "code",
   "execution_count": null,
   "metadata": {},
   "outputs": [],
   "source": [
    "acf_loss = to_numpy(ACFLoss(x_real, name='auto_correlation')(x_fake))\n",
    "print('autocorrelation Loss = ', acf_loss)"
   ]
  },
  {
   "cell_type": "code",
   "execution_count": null,
   "metadata": {},
   "outputs": [],
   "source": [
    "# CrossCorrelLoss 인스턴스 생성 시 name 인수를 추가\n",
    "cross_corr_loss = CrossCorrelLoss(x_real, max_lag=64, name=\"cross_correlation\")\n",
    "\n",
    "# 생성 데이터와 비교하여 손실 계산\n",
    "loss_value = cross_corr_loss.compute(x_fake)\n",
    "print('Cross-correlation Loss = ', loss_value)\n"
   ]
  },
  {
   "cell_type": "code",
   "execution_count": null,
   "metadata": {},
   "outputs": [],
   "source": [
    "# CovLoss 인스턴스 생성\n",
    "cov_loss = CovLoss(x_real, name=\"covariance_loss\")\n",
    "\n",
    "# 생성 데이터와 비교하여 손실 계산\n",
    "loss_value = cov_loss.compute(x_fake)\n",
    "print('Covariance Loss = ', loss_value)\n"
   ]
  },
  {
   "cell_type": "markdown",
   "metadata": {},
   "source": [
    "### T-sne"
   ]
  },
  {
   "cell_type": "code",
   "execution_count": null,
   "metadata": {},
   "outputs": [],
   "source": [
    "fake_prices_set = TensorDataset(fake_prices)\n",
    "real_prices_set = TensorDataset(real_prices)\n",
    "\n",
    "fake_prices_dl = DataLoader(\n",
    "    fake_prices_set,\n",
    "    batch_size=config.batch_size,\n",
    "    shuffle=True\n",
    ")\n",
    "real_prices_dl = DataLoader(\n",
    "    real_prices_set,\n",
    "    batch_size=config.batch_size,\n",
    "    shuffle=True\n",
    ")\n",
    "\n",
    "tsne_plot(real_prices_dl, fake_prices_dl, config, plot_show =True)"
   ]
  },
  {
   "cell_type": "code",
   "execution_count": null,
   "metadata": {},
   "outputs": [],
   "source": []
  },
  {
   "cell_type": "code",
   "execution_count": null,
   "metadata": {},
   "outputs": [],
   "source": []
  },
  {
   "cell_type": "code",
   "execution_count": null,
   "metadata": {},
   "outputs": [],
   "source": []
  }
 ],
 "metadata": {
  "kernelspec": {
   "display_name": "base",
   "language": "python",
   "name": "python3"
  },
  "language_info": {
   "codemirror_mode": {
    "name": "ipython",
    "version": 3
   },
   "file_extension": ".py",
   "mimetype": "text/x-python",
   "name": "python",
   "nbconvert_exporter": "python",
   "pygments_lexer": "ipython3",
   "version": "3.10.8"
  }
 },
 "nbformat": 4,
 "nbformat_minor": 2
}
